{
 "cells": [
  {
   "cell_type": "markdown",
   "metadata": {},
   "source": [
    "# Model Building - `v2`"
   ]
  },
  {
   "cell_type": "code",
   "execution_count": 1,
   "metadata": {},
   "outputs": [],
   "source": [
    "from warnings import filterwarnings\n",
    "from time import perf_counter\n",
    "\n",
    "import numpy as np\n",
    "from matplotlib import pyplot as plt\n",
    "import pandas as pd\n",
    "import seaborn as sns\n",
    "\n",
    "from sklearn.metrics import mean_absolute_error\n",
    "from sklearn.compose import ColumnTransformer\n",
    "from sklearn.linear_model import Ridge\n",
    "from sklearn.svm import SVR\n",
    "from sklearn.ensemble import RandomForestRegressor\n",
    "from sklearn.model_selection import train_test_split, cross_val_score\n",
    "from sklearn.pipeline import Pipeline\n",
    "from sklearn.preprocessing import OneHotEncoder, OrdinalEncoder, StandardScaler, FunctionTransformer\n",
    "\n",
    "from helpers import constants as C"
   ]
  },
  {
   "cell_type": "code",
   "execution_count": 2,
   "metadata": {},
   "outputs": [],
   "source": [
    "filterwarnings(\"ignore\")"
   ]
  },
  {
   "cell_type": "code",
   "execution_count": 3,
   "metadata": {},
   "outputs": [
    {
     "name": "stdout",
     "output_type": "stream",
     "text": [
      "(4049, 20)\n"
     ]
    },
    {
     "data": {
      "text/html": [
       "<div>\n",
       "<style scoped>\n",
       "    .dataframe tbody tr th:only-of-type {\n",
       "        vertical-align: middle;\n",
       "    }\n",
       "\n",
       "    .dataframe tbody tr th {\n",
       "        vertical-align: top;\n",
       "    }\n",
       "\n",
       "    .dataframe thead th {\n",
       "        text-align: right;\n",
       "    }\n",
       "</style>\n",
       "<table border=\"1\" class=\"dataframe\">\n",
       "  <thead>\n",
       "    <tr style=\"text-align: right;\">\n",
       "      <th></th>\n",
       "      <th>PROP_ID</th>\n",
       "      <th>CITY</th>\n",
       "      <th>PRICE</th>\n",
       "      <th>AREA</th>\n",
       "      <th>PROP_HEADING</th>\n",
       "      <th>DESCRIPTION</th>\n",
       "      <th>PROPERTY_TYPE</th>\n",
       "      <th>FURNISH</th>\n",
       "      <th>FACING</th>\n",
       "      <th>AGE</th>\n",
       "      <th>BEDROOM_NUM</th>\n",
       "      <th>PROP_NAME</th>\n",
       "      <th>BALCONY_NUM</th>\n",
       "      <th>FLOOR_NUM</th>\n",
       "      <th>LATITUDE</th>\n",
       "      <th>LONGITUDE</th>\n",
       "      <th>LOCALITY_NAME</th>\n",
       "      <th>SOCIETY_NAME</th>\n",
       "      <th>ADDRESS</th>\n",
       "      <th>LUXURY_CATEGORY</th>\n",
       "    </tr>\n",
       "  </thead>\n",
       "  <tbody>\n",
       "    <tr>\n",
       "      <th>0</th>\n",
       "      <td>d68894450</td>\n",
       "      <td>gurgaon</td>\n",
       "      <td>1100000.0</td>\n",
       "      <td>10777.0</td>\n",
       "      <td>5 bhk flat in sector 42 gurgaon</td>\n",
       "      <td>a 4 bhk duplex flat for rent in sector 42 gurg...</td>\n",
       "      <td>residential apartment</td>\n",
       "      <td>Furnished</td>\n",
       "      <td>North-East</td>\n",
       "      <td>5-10 Year Old Property</td>\n",
       "      <td>5.0</td>\n",
       "      <td>dlf the magnolias</td>\n",
       "      <td>4.0</td>\n",
       "      <td>low rise</td>\n",
       "      <td>28.454897</td>\n",
       "      <td>77.105367</td>\n",
       "      <td>sector 42 gurgaon</td>\n",
       "      <td>dlf the magnolias</td>\n",
       "      <td>a 209</td>\n",
       "      <td>2.0</td>\n",
       "    </tr>\n",
       "    <tr>\n",
       "      <th>1</th>\n",
       "      <td>y70794212</td>\n",
       "      <td>gurgaon</td>\n",
       "      <td>1775000.0</td>\n",
       "      <td>600.0</td>\n",
       "      <td>1 bhk flat in sector 95 gurgaon</td>\n",
       "      <td>ramsons kshitij , sector 95 imt manesar, main ...</td>\n",
       "      <td>residential apartment</td>\n",
       "      <td>Semifurnished</td>\n",
       "      <td>East</td>\n",
       "      <td>1-5 Year Old Property</td>\n",
       "      <td>1.0</td>\n",
       "      <td>ramsons kshitij</td>\n",
       "      <td>1.0</td>\n",
       "      <td>low rise</td>\n",
       "      <td>28.416679</td>\n",
       "      <td>76.902677</td>\n",
       "      <td>sector 95 gurgaon</td>\n",
       "      <td>ramsons kshitij</td>\n",
       "      <td>216</td>\n",
       "      <td>0.0</td>\n",
       "    </tr>\n",
       "    <tr>\n",
       "      <th>2</th>\n",
       "      <td>s70190322</td>\n",
       "      <td>gurgaon</td>\n",
       "      <td>2000000.0</td>\n",
       "      <td>366.0</td>\n",
       "      <td>1 bhk flat in sector 95 gurgaon</td>\n",
       "      <td>situated in sector 95 gurgaon, rof ananda is a...</td>\n",
       "      <td>residential apartment</td>\n",
       "      <td>Unfurnished</td>\n",
       "      <td>North-East</td>\n",
       "      <td>1-5 Year Old Property</td>\n",
       "      <td>1.0</td>\n",
       "      <td>rof ananda</td>\n",
       "      <td>1.0</td>\n",
       "      <td>low rise</td>\n",
       "      <td>28.484814</td>\n",
       "      <td>77.080853</td>\n",
       "      <td>sector 95 gurgaon</td>\n",
       "      <td>rof ananda</td>\n",
       "      <td>405</td>\n",
       "      <td>0.0</td>\n",
       "    </tr>\n",
       "    <tr>\n",
       "      <th>3</th>\n",
       "      <td>c64640776</td>\n",
       "      <td>gurgaon</td>\n",
       "      <td>2033000.0</td>\n",
       "      <td>555.0</td>\n",
       "      <td>2 bhk flat in sector 86 gurgaon</td>\n",
       "      <td>check out this 2 bhk apartment for sale in gls...</td>\n",
       "      <td>residential apartment</td>\n",
       "      <td>Semifurnished</td>\n",
       "      <td>East</td>\n",
       "      <td>Under Construction</td>\n",
       "      <td>2.0</td>\n",
       "      <td>gls avenue 86</td>\n",
       "      <td>2.0</td>\n",
       "      <td>mid rise</td>\n",
       "      <td>28.401966</td>\n",
       "      <td>76.942206</td>\n",
       "      <td>sector 86 gurgaon</td>\n",
       "      <td>gls avenue 86</td>\n",
       "      <td>301</td>\n",
       "      <td>2.0</td>\n",
       "    </tr>\n",
       "    <tr>\n",
       "      <th>4</th>\n",
       "      <td>f70190474</td>\n",
       "      <td>gurgaon</td>\n",
       "      <td>2050000.0</td>\n",
       "      <td>366.0</td>\n",
       "      <td>1 bhk flat in sector 95 gurgaon</td>\n",
       "      <td>located in the popular residential address of ...</td>\n",
       "      <td>residential apartment</td>\n",
       "      <td>Semifurnished</td>\n",
       "      <td>North-East</td>\n",
       "      <td>1-5 Year Old Property</td>\n",
       "      <td>1.0</td>\n",
       "      <td>rof ananda</td>\n",
       "      <td>1.0</td>\n",
       "      <td>mid rise</td>\n",
       "      <td>28.484814</td>\n",
       "      <td>77.080853</td>\n",
       "      <td>sector 95 gurgaon</td>\n",
       "      <td>rof ananda</td>\n",
       "      <td>509</td>\n",
       "      <td>0.0</td>\n",
       "    </tr>\n",
       "  </tbody>\n",
       "</table>\n",
       "</div>"
      ],
      "text/plain": [
       "     PROP_ID     CITY      PRICE     AREA                     PROP_HEADING  \\\n",
       "0  d68894450  gurgaon  1100000.0  10777.0  5 bhk flat in sector 42 gurgaon   \n",
       "1  y70794212  gurgaon  1775000.0    600.0  1 bhk flat in sector 95 gurgaon   \n",
       "2  s70190322  gurgaon  2000000.0    366.0  1 bhk flat in sector 95 gurgaon   \n",
       "3  c64640776  gurgaon  2033000.0    555.0  2 bhk flat in sector 86 gurgaon   \n",
       "4  f70190474  gurgaon  2050000.0    366.0  1 bhk flat in sector 95 gurgaon   \n",
       "\n",
       "                                         DESCRIPTION          PROPERTY_TYPE  \\\n",
       "0  a 4 bhk duplex flat for rent in sector 42 gurg...  residential apartment   \n",
       "1  ramsons kshitij , sector 95 imt manesar, main ...  residential apartment   \n",
       "2  situated in sector 95 gurgaon, rof ananda is a...  residential apartment   \n",
       "3  check out this 2 bhk apartment for sale in gls...  residential apartment   \n",
       "4  located in the popular residential address of ...  residential apartment   \n",
       "\n",
       "         FURNISH      FACING                     AGE  BEDROOM_NUM  \\\n",
       "0      Furnished  North-East  5-10 Year Old Property          5.0   \n",
       "1  Semifurnished        East   1-5 Year Old Property          1.0   \n",
       "2    Unfurnished  North-East   1-5 Year Old Property          1.0   \n",
       "3  Semifurnished        East      Under Construction          2.0   \n",
       "4  Semifurnished  North-East   1-5 Year Old Property          1.0   \n",
       "\n",
       "           PROP_NAME  BALCONY_NUM FLOOR_NUM   LATITUDE  LONGITUDE  \\\n",
       "0  dlf the magnolias          4.0  low rise  28.454897  77.105367   \n",
       "1    ramsons kshitij          1.0  low rise  28.416679  76.902677   \n",
       "2         rof ananda          1.0  low rise  28.484814  77.080853   \n",
       "3      gls avenue 86          2.0  mid rise  28.401966  76.942206   \n",
       "4         rof ananda          1.0  mid rise  28.484814  77.080853   \n",
       "\n",
       "       LOCALITY_NAME       SOCIETY_NAME ADDRESS  LUXURY_CATEGORY  \n",
       "0  sector 42 gurgaon  dlf the magnolias   a 209              2.0  \n",
       "1  sector 95 gurgaon    ramsons kshitij     216              0.0  \n",
       "2  sector 95 gurgaon         rof ananda     405              0.0  \n",
       "3  sector 86 gurgaon      gls avenue 86     301              2.0  \n",
       "4  sector 95 gurgaon         rof ananda     509              0.0  "
      ]
     },
     "execution_count": 3,
     "metadata": {},
     "output_type": "execute_result"
    }
   ],
   "source": [
    "df = pd.read_csv(\"data/processed/Gurgaon/res_apartment.csv\")\n",
    "print(df.shape)\n",
    "df.head()"
   ]
  },
  {
   "cell_type": "code",
   "execution_count": 4,
   "metadata": {},
   "outputs": [
    {
     "data": {
      "text/plain": [
       "PROP_ID               0\n",
       "CITY                  0\n",
       "PRICE                 0\n",
       "AREA                  0\n",
       "PROP_HEADING          0\n",
       "DESCRIPTION           0\n",
       "PROPERTY_TYPE         0\n",
       "FURNISH               0\n",
       "FACING                0\n",
       "AGE                   0\n",
       "BEDROOM_NUM           0\n",
       "PROP_NAME             0\n",
       "BALCONY_NUM           0\n",
       "FLOOR_NUM             0\n",
       "LATITUDE              0\n",
       "LONGITUDE             0\n",
       "LOCALITY_NAME         0\n",
       "SOCIETY_NAME          0\n",
       "ADDRESS            2122\n",
       "LUXURY_CATEGORY       0\n",
       "dtype: int64"
      ]
     },
     "execution_count": 4,
     "metadata": {},
     "output_type": "execute_result"
    }
   ],
   "source": [
    "df.isnull().sum()"
   ]
  },
  {
   "cell_type": "code",
   "execution_count": 5,
   "metadata": {},
   "outputs": [],
   "source": [
    "target = \"PRICE\"\n",
    "num_cols = [\n",
    "    \"AREA\",\n",
    "]\n",
    "cat_cols = [\n",
    "    \"FURNISH\",\n",
    "    \"AGE\",\n",
    "    \"BEDROOM_NUM\",\n",
    "    \"BALCONY_NUM\",\n",
    "    \"FLOOR_NUM\",\n",
    "    \"FACING\",\n",
    "    \"LOCALITY_NAME\",\n",
    "]"
   ]
  },
  {
   "cell_type": "code",
   "execution_count": 6,
   "metadata": {},
   "outputs": [
    {
     "name": "stdout",
     "output_type": "stream",
     "text": [
      "(4049, 9)\n"
     ]
    },
    {
     "data": {
      "text/html": [
       "<div>\n",
       "<style scoped>\n",
       "    .dataframe tbody tr th:only-of-type {\n",
       "        vertical-align: middle;\n",
       "    }\n",
       "\n",
       "    .dataframe tbody tr th {\n",
       "        vertical-align: top;\n",
       "    }\n",
       "\n",
       "    .dataframe thead th {\n",
       "        text-align: right;\n",
       "    }\n",
       "</style>\n",
       "<table border=\"1\" class=\"dataframe\">\n",
       "  <thead>\n",
       "    <tr style=\"text-align: right;\">\n",
       "      <th></th>\n",
       "      <th>PRICE</th>\n",
       "      <th>AREA</th>\n",
       "      <th>FURNISH</th>\n",
       "      <th>AGE</th>\n",
       "      <th>BEDROOM_NUM</th>\n",
       "      <th>BALCONY_NUM</th>\n",
       "      <th>FLOOR_NUM</th>\n",
       "      <th>FACING</th>\n",
       "      <th>LOCALITY_NAME</th>\n",
       "    </tr>\n",
       "  </thead>\n",
       "  <tbody>\n",
       "    <tr>\n",
       "      <th>0</th>\n",
       "      <td>1100000.0</td>\n",
       "      <td>10777.0</td>\n",
       "      <td>Furnished</td>\n",
       "      <td>5-10 Year Old Property</td>\n",
       "      <td>5.0</td>\n",
       "      <td>4.0</td>\n",
       "      <td>low rise</td>\n",
       "      <td>North-East</td>\n",
       "      <td>sector 42 gurgaon</td>\n",
       "    </tr>\n",
       "    <tr>\n",
       "      <th>1</th>\n",
       "      <td>1775000.0</td>\n",
       "      <td>600.0</td>\n",
       "      <td>Semifurnished</td>\n",
       "      <td>1-5 Year Old Property</td>\n",
       "      <td>1.0</td>\n",
       "      <td>1.0</td>\n",
       "      <td>low rise</td>\n",
       "      <td>East</td>\n",
       "      <td>sector 95 gurgaon</td>\n",
       "    </tr>\n",
       "    <tr>\n",
       "      <th>2</th>\n",
       "      <td>2000000.0</td>\n",
       "      <td>366.0</td>\n",
       "      <td>Unfurnished</td>\n",
       "      <td>1-5 Year Old Property</td>\n",
       "      <td>1.0</td>\n",
       "      <td>1.0</td>\n",
       "      <td>low rise</td>\n",
       "      <td>North-East</td>\n",
       "      <td>sector 95 gurgaon</td>\n",
       "    </tr>\n",
       "    <tr>\n",
       "      <th>3</th>\n",
       "      <td>2033000.0</td>\n",
       "      <td>555.0</td>\n",
       "      <td>Semifurnished</td>\n",
       "      <td>Under Construction</td>\n",
       "      <td>2.0</td>\n",
       "      <td>2.0</td>\n",
       "      <td>mid rise</td>\n",
       "      <td>East</td>\n",
       "      <td>sector 86 gurgaon</td>\n",
       "    </tr>\n",
       "    <tr>\n",
       "      <th>4</th>\n",
       "      <td>2050000.0</td>\n",
       "      <td>366.0</td>\n",
       "      <td>Semifurnished</td>\n",
       "      <td>1-5 Year Old Property</td>\n",
       "      <td>1.0</td>\n",
       "      <td>1.0</td>\n",
       "      <td>mid rise</td>\n",
       "      <td>North-East</td>\n",
       "      <td>sector 95 gurgaon</td>\n",
       "    </tr>\n",
       "  </tbody>\n",
       "</table>\n",
       "</div>"
      ],
      "text/plain": [
       "       PRICE     AREA        FURNISH                     AGE  BEDROOM_NUM  \\\n",
       "0  1100000.0  10777.0      Furnished  5-10 Year Old Property          5.0   \n",
       "1  1775000.0    600.0  Semifurnished   1-5 Year Old Property          1.0   \n",
       "2  2000000.0    366.0    Unfurnished   1-5 Year Old Property          1.0   \n",
       "3  2033000.0    555.0  Semifurnished      Under Construction          2.0   \n",
       "4  2050000.0    366.0  Semifurnished   1-5 Year Old Property          1.0   \n",
       "\n",
       "   BALCONY_NUM FLOOR_NUM      FACING      LOCALITY_NAME  \n",
       "0          4.0  low rise  North-East  sector 42 gurgaon  \n",
       "1          1.0  low rise        East  sector 95 gurgaon  \n",
       "2          1.0  low rise  North-East  sector 95 gurgaon  \n",
       "3          2.0  mid rise        East  sector 86 gurgaon  \n",
       "4          1.0  mid rise  North-East  sector 95 gurgaon  "
      ]
     },
     "execution_count": 6,
     "metadata": {},
     "output_type": "execute_result"
    }
   ],
   "source": [
    "main_df = df[[target] + num_cols + cat_cols].copy(True)\n",
    "print(main_df.shape)\n",
    "main_df.head()"
   ]
  },
  {
   "cell_type": "code",
   "execution_count": 7,
   "metadata": {},
   "outputs": [
    {
     "data": {
      "image/png": "[encoded data removed]",
      "text/plain": [
       "<Figure size 1200x400 with 2 Axes>"
      ]
     },
     "metadata": {},
     "output_type": "display_data"
    },
    {
     "data": {
      "image/png": "[encoded data removed]",
      "text/plain": [
       "<Figure size 1200x400 with 2 Axes>"
      ]
     },
     "metadata": {},
     "output_type": "display_data"
    }
   ],
   "source": [
    "for i in [\"AREA\", \"PRICE\"]:\n",
    "    fig, (ax1, ax2) = plt.subplots(1, 2, figsize=(12, 4))\n",
    "    sns.kdeplot(x=main_df[i], ax=ax1)\n",
    "    sns.kdeplot(x=np.log1p(main_df[i]), ax=ax2)\n",
    "\n",
    "    fig.suptitle(i)\n",
    "    plt.show()"
   ]
  },
  {
   "cell_type": "code",
   "execution_count": 8,
   "metadata": {},
   "outputs": [
    {
     "data": {
      "text/plain": [
       "<Axes: >"
      ]
     },
     "execution_count": 8,
     "metadata": {},
     "output_type": "execute_result"
    },
    {
     "data": {
      "image/png": "[encoded data removed]",
      "text/plain": [
       "<Figure size 640x480 with 1 Axes>"
      ]
     },
     "metadata": {},
     "output_type": "display_data"
    }
   ],
   "source": [
    "sns.heatmap(main_df.corr(numeric_only=True), cmap=\"coolwarm\", cbar=False, annot=True, fmt=\".2f\")"
   ]
  },
  {
   "cell_type": "markdown",
   "metadata": {},
   "source": [
    "### Encoding of categorical features"
   ]
  },
  {
   "cell_type": "code",
   "execution_count": 9,
   "metadata": {},
   "outputs": [],
   "source": [
    "main_df[\"BEDROOM_NUM\"] = main_df[\"BEDROOM_NUM\"].apply(lambda x: x if x <= 5 else 99)\n",
    "main_df[\"BALCONY_NUM\"] = main_df[\"BALCONY_NUM\"].apply(lambda x: x if x <= 4 else 99)"
   ]
  },
  {
   "cell_type": "code",
   "execution_count": 10,
   "metadata": {},
   "outputs": [
    {
     "name": "stdout",
     "output_type": "stream",
     "text": [
      "         'FURNISH': ['Furnished', 'Semifurnished', 'Unfurnished']\n",
      "             'AGE': ['5-10 Year Old Property', '1-5 Year Old Property', 'Under Construction', '0-1 Year Old Property', '10+ Year Old Property']\n",
      "     'BEDROOM_NUM': [5.0, 1.0, 2.0, 3.0, 4.0, 99.0]\n",
      "     'BALCONY_NUM': [4.0, 1.0, 2.0, 3.0, 0.0]\n",
      "       'FLOOR_NUM': ['low rise', 'mid rise', 'high rise']\n",
      "          'FACING': ['North-East', 'East', 'North', 'South-East', 'South', 'West', 'South-West', 'North-West']\n",
      "   'LOCALITY_NAME': 116\n"
     ]
    }
   ],
   "source": [
    "for col in cat_cols:\n",
    "    if main_df[col].nunique() < 20:\n",
    "        print(f\"{col!r:>18}: {main_df[col].unique().tolist()}\")\n",
    "    else:\n",
    "        print(f\"{col!r:>18}: {main_df[col].nunique()}\")"
   ]
  },
  {
   "cell_type": "code",
   "execution_count": 11,
   "metadata": {},
   "outputs": [],
   "source": [
    "ord_cols = {\n",
    "    \"FURNISH\": [\"Unfurnished\", \"Semifurnished\", \"Furnished\"],\n",
    "    \"AGE\": [\n",
    "        \"10+ Year Old Property\",\n",
    "        \"5-10 Year Old Property\",\n",
    "        \"1-5 Year Old Property\",\n",
    "        \"0-1 Year Old Property\",\n",
    "        \"Under Construction\",\n",
    "    ],\n",
    "    \"BEDROOM_NUM\": [1, 2, 3, 4, 5, 99],\n",
    "    \"BALCONY_NUM\": [0, 1, 2, 3, 4, 99],\n",
    "    \"FLOOR_NUM\": [\"low rise\", \"mid rise\", \"high rise\"],\n",
    "}\n",
    "ohe_cols = [\"FACING\", \"LOCALITY_NAME\"]"
   ]
  },
  {
   "cell_type": "markdown",
   "metadata": {},
   "source": [
    "### Encoding Pipeline"
   ]
  },
  {
   "cell_type": "code",
   "execution_count": 12,
   "metadata": {},
   "outputs": [],
   "source": [
    "preprocessor = ColumnTransformer(\n",
    "    transformers=[\n",
    "        (\"ord\", OrdinalEncoder(categories=list(ord_cols.values())), list(ord_cols.keys())),\n",
    "        (\"ohe\", OneHotEncoder(sparse_output=False, handle_unknown=\"ignore\"), ohe_cols),\n",
    "        (\"log1p_area\", FunctionTransformer(np.log1p, np.expm1, validate=True), [\"AREA\"]),\n",
    "    ],\n",
    "    remainder=\"passthrough\",\n",
    ")"
   ]
  },
  {
   "cell_type": "markdown",
   "metadata": {},
   "source": [
    "## Split Dataset"
   ]
  },
  {
   "cell_type": "code",
   "execution_count": 13,
   "metadata": {},
   "outputs": [],
   "source": [
    "X = main_df.drop(columns=[target])\n",
    "y = pd.Series(np.log1p(main_df[target]), name=\"PRICE\")\n",
    "\n",
    "X_train, X_test, y_train, y_test = train_test_split(X, y, test_size=0.2, random_state=42)"
   ]
  },
  {
   "cell_type": "code",
   "execution_count": 14,
   "metadata": {},
   "outputs": [
    {
     "data": {
      "text/plain": [
       "((3239, 8), (810, 8))"
      ]
     },
     "execution_count": 14,
     "metadata": {},
     "output_type": "execute_result"
    }
   ],
   "source": [
    "X_train.shape, X_test.shape"
   ]
  },
  {
   "cell_type": "code",
   "execution_count": 15,
   "metadata": {},
   "outputs": [],
   "source": [
    "def calc_scores(y_true, y_pred):\n",
    "    y_true = np.expm1(y_true)\n",
    "    y_pred = np.expm1(y_pred)\n",
    "\n",
    "    mae = mean_absolute_error(y_true, y_pred) / C.LAKH\n",
    "    return mae"
   ]
  },
  {
   "cell_type": "code",
   "execution_count": 16,
   "metadata": {},
   "outputs": [],
   "source": [
    "def create_model_pipe(estimator, preprocessor: ColumnTransformer | None):\n",
    "    return Pipeline(\n",
    "        steps=[\n",
    "            (\"preprocessor\", preprocessor),\n",
    "            (\"scaler\", StandardScaler()),\n",
    "            (\"model\", estimator),\n",
    "        ]\n",
    "    )"
   ]
  },
  {
   "cell_type": "code",
   "execution_count": 17,
   "metadata": {},
   "outputs": [],
   "source": [
    "models_dict = {\n",
    "    # This throw error that while transforming the y_pred data some data goes to infinity.\n",
    "    # Also, it has very low r2_score approx (-7.778398599756416e+22)\n",
    "    # \"lr\": LinearRegression(),\n",
    "    \"ridge_default\": Ridge(),\n",
    "    \"rf_100\": RandomForestRegressor(n_estimators=100),\n",
    "    \"rf_500\": RandomForestRegressor(n_estimators=500),\n",
    "    \"svr_rbf\": SVR(kernel=\"rbf\"),\n",
    "}"
   ]
  },
  {
   "cell_type": "code",
   "execution_count": 18,
   "metadata": {},
   "outputs": [],
   "source": [
    "def calc_cv_score(X_train, y_train, *, X_test=None, y_test=None) -> dict:\n",
    "    scores_dict = {}\n",
    "\n",
    "    if X_test is None or y_test is None:\n",
    "        X_test = X_train\n",
    "        y_test = y_train\n",
    "\n",
    "    for name, estimator in models_dict.items():\n",
    "        start_time = perf_counter()\n",
    "        scores = cross_val_score(\n",
    "            model := create_model_pipe(estimator, preprocessor),\n",
    "            X_train,\n",
    "            y_train,\n",
    "            cv=5,\n",
    "            scoring=\"r2\",\n",
    "        )\n",
    "\n",
    "        print(f\"Fitting `{name}` model with {scores.mean():.3} R2 score.\")\n",
    "        model.fit(X_train, y_train)\n",
    "\n",
    "        scores_dict[name] = {\n",
    "            \"r2_mean\": scores.mean(),\n",
    "            \"r2_std\": scores.std(),\n",
    "            \"mae\": calc_scores(y_test, model.predict(X_test)),\n",
    "        }\n",
    "        print(f\"{name} model takes {(perf_counter() - start_time):.3} seconds.\\n\")\n",
    "\n",
    "    return scores_dict"
   ]
  },
  {
   "cell_type": "code",
   "execution_count": 19,
   "metadata": {},
   "outputs": [],
   "source": [
    "def dict_to_df(d: dict) -> pd.DataFrame:\n",
    "    return pd.DataFrame.from_dict(d, \"index\").sort_values(\"mae\").round(3)"
   ]
  },
  {
   "cell_type": "code",
   "execution_count": 20,
   "metadata": {},
   "outputs": [
    {
     "name": "stdout",
     "output_type": "stream",
     "text": [
      "Fitting `ridge_default` model with 0.856 R2 score.\n",
      "ridge_default model takes 2.3694477919998462 seconds.\n",
      "\n",
      "Fitting `rf_100` model with 0.879 R2 score.\n",
      "rf_100 model takes 6.141623625000648 seconds.\n",
      "\n",
      "Fitting `rf_1000` model with 0.881 R2 score.\n",
      "rf_1000 model takes 57.83846100000028 seconds.\n",
      "\n",
      "Fitting `svr_rbf` model with 0.856 R2 score.\n",
      "svr_rbf model takes 2.2807846659998177 seconds.\n",
      "\n"
     ]
    },
    {
     "data": {
      "text/html": [
       "<div>\n",
       "<style scoped>\n",
       "    .dataframe tbody tr th:only-of-type {\n",
       "        vertical-align: middle;\n",
       "    }\n",
       "\n",
       "    .dataframe tbody tr th {\n",
       "        vertical-align: top;\n",
       "    }\n",
       "\n",
       "    .dataframe thead th {\n",
       "        text-align: right;\n",
       "    }\n",
       "</style>\n",
       "<table border=\"1\" class=\"dataframe\">\n",
       "  <thead>\n",
       "    <tr style=\"text-align: right;\">\n",
       "      <th></th>\n",
       "      <th>r2_mean</th>\n",
       "      <th>r2_std</th>\n",
       "      <th>mae</th>\n",
       "    </tr>\n",
       "  </thead>\n",
       "  <tbody>\n",
       "    <tr>\n",
       "      <th>rf_1000</th>\n",
       "      <td>0.881</td>\n",
       "      <td>0.034</td>\n",
       "      <td>42.824</td>\n",
       "    </tr>\n",
       "    <tr>\n",
       "      <th>rf_100</th>\n",
       "      <td>0.879</td>\n",
       "      <td>0.034</td>\n",
       "      <td>42.873</td>\n",
       "    </tr>\n",
       "    <tr>\n",
       "      <th>svr_rbf</th>\n",
       "      <td>0.856</td>\n",
       "      <td>0.040</td>\n",
       "      <td>48.868</td>\n",
       "    </tr>\n",
       "    <tr>\n",
       "      <th>ridge_default</th>\n",
       "      <td>0.856</td>\n",
       "      <td>0.042</td>\n",
       "      <td>53.562</td>\n",
       "    </tr>\n",
       "  </tbody>\n",
       "</table>\n",
       "</div>"
      ],
      "text/plain": [
       "               r2_mean  r2_std     mae\n",
       "rf_1000          0.881   0.034  42.824\n",
       "rf_100           0.879   0.034  42.873\n",
       "svr_rbf          0.856   0.040  48.868\n",
       "ridge_default    0.856   0.042  53.562"
      ]
     },
     "execution_count": 20,
     "metadata": {},
     "output_type": "execute_result"
    }
   ],
   "source": [
    "# Training model with testing datasets\n",
    "scores_dict = calc_cv_score(X_train=X_train, y_train=y_train, X_test=X_test, y_test=y_test)\n",
    "dict_to_df(scores_dict)"
   ]
  },
  {
   "cell_type": "markdown",
   "metadata": {},
   "source": [
    "**Things to Note**\n",
    "\n",
    "- I used `OneHotEncoder(sparse_output=False, handle_unknown=\"ignore\")`. In this I compromized my unknown values in `LOCALITY_NAME` which comes in the testing data.\n",
    "- I used `FunctionTransformer(np.log1p, np.expm1, validate=True)` to transform the `AREA` column which improve the model score because `AREA` column is **right skewed**."
   ]
  },
  {
   "cell_type": "markdown",
   "metadata": {},
   "source": [
    "### Train new model by transforming the whole `X` data at once and then split it into testing and training data."
   ]
  },
  {
   "cell_type": "code",
   "execution_count": 21,
   "metadata": {},
   "outputs": [
    {
     "name": "stdout",
     "output_type": "stream",
     "text": [
      "Fitting `ridge_default` model with -3.94 R2 score.\n",
      "ridge_default model takes 2.4541650829996797 seconds.\n",
      "\n",
      "Fitting `rf_100` model with -6.23 R2 score.\n",
      "rf_100 model takes 7.710381082999447 seconds.\n",
      "\n",
      "Fitting `rf_1000` model with -6.16 R2 score.\n",
      "rf_1000 model takes 75.6956400830004 seconds.\n",
      "\n",
      "Fitting `svr_rbf` model with -3.71 R2 score.\n",
      "svr_rbf model takes 3.988472957999875 seconds.\n",
      "\n"
     ]
    },
    {
     "data": {
      "text/html": [
       "<div>\n",
       "<style scoped>\n",
       "    .dataframe tbody tr th:only-of-type {\n",
       "        vertical-align: middle;\n",
       "    }\n",
       "\n",
       "    .dataframe tbody tr th {\n",
       "        vertical-align: top;\n",
       "    }\n",
       "\n",
       "    .dataframe thead th {\n",
       "        text-align: right;\n",
       "    }\n",
       "</style>\n",
       "<table border=\"1\" class=\"dataframe\">\n",
       "  <thead>\n",
       "    <tr style=\"text-align: right;\">\n",
       "      <th></th>\n",
       "      <th>r2_mean</th>\n",
       "      <th>r2_std</th>\n",
       "      <th>mae</th>\n",
       "    </tr>\n",
       "  </thead>\n",
       "  <tbody>\n",
       "    <tr>\n",
       "      <th>rf_1000</th>\n",
       "      <td>-6.161</td>\n",
       "      <td>2.497</td>\n",
       "      <td>15.241</td>\n",
       "    </tr>\n",
       "    <tr>\n",
       "      <th>rf_100</th>\n",
       "      <td>-6.234</td>\n",
       "      <td>2.480</td>\n",
       "      <td>15.678</td>\n",
       "    </tr>\n",
       "    <tr>\n",
       "      <th>svr_rbf</th>\n",
       "      <td>-3.706</td>\n",
       "      <td>1.533</td>\n",
       "      <td>39.115</td>\n",
       "    </tr>\n",
       "    <tr>\n",
       "      <th>ridge_default</th>\n",
       "      <td>-3.938</td>\n",
       "      <td>2.606</td>\n",
       "      <td>49.037</td>\n",
       "    </tr>\n",
       "  </tbody>\n",
       "</table>\n",
       "</div>"
      ],
      "text/plain": [
       "               r2_mean  r2_std     mae\n",
       "rf_1000         -6.161   2.497  15.241\n",
       "rf_100          -6.234   2.480  15.678\n",
       "svr_rbf         -3.706   1.533  39.115\n",
       "ridge_default   -3.938   2.606  49.037"
      ]
     },
     "execution_count": 21,
     "metadata": {},
     "output_type": "execute_result"
    }
   ],
   "source": [
    "scores_dict = calc_cv_score(X, y)\n",
    "dict_to_df(scores_dict)"
   ]
  }
 ],
 "metadata": {
  "kernelspec": {
   "display_name": "Python 3",
   "language": "python",
   "name": "python3"
  },
  "language_info": {
   "codemirror_mode": {
    "name": "ipython",
    "version": 3
   },
   "file_extension": ".py",
   "mimetype": "text/x-python",
   "name": "python",
   "nbconvert_exporter": "python",
   "pygments_lexer": "ipython3",
   "version": "3.11.0"
  },
  "orig_nbformat": 4
 },
 "nbformat": 4,
 "nbformat_minor": 2
}
