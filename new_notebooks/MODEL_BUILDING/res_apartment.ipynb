{
 "cells": [
  {
   "cell_type": "markdown",
   "metadata": {},
   "source": [
    "# Model Building"
   ]
  },
  {
   "cell_type": "code",
   "execution_count": 1,
   "metadata": {},
   "outputs": [],
   "source": [
    "import numpy as np\n",
    "from matplotlib import pyplot as plt\n",
    "import pandas as pd\n",
    "import seaborn as sns\n",
    "\n",
    "from sklearn.metrics import r2_score, mean_absolute_error, mean_squared_error\n",
    "from sklearn.compose import ColumnTransformer\n",
    "from sklearn.linear_model import LinearRegression, Ridge, Lasso, ElasticNet\n",
    "from sklearn.svm import SVR\n",
    "from sklearn.ensemble import RandomForestRegressor\n",
    "from sklearn.model_selection import train_test_split, cross_val_score\n",
    "from sklearn.pipeline import Pipeline\n",
    "from sklearn.preprocessing import OneHotEncoder, OrdinalEncoder, StandardScaler\n",
    "\n",
    "from helpers import constants as C"
   ]
  },
  {
   "cell_type": "code",
   "execution_count": 2,
   "metadata": {},
   "outputs": [
    {
     "name": "stdout",
     "output_type": "stream",
     "text": [
      "(4049, 20)\n"
     ]
    },
    {
     "data": {
      "text/html": [
       "<div>\n",
       "<style scoped>\n",
       "    .dataframe tbody tr th:only-of-type {\n",
       "        vertical-align: middle;\n",
       "    }\n",
       "\n",
       "    .dataframe tbody tr th {\n",
       "        vertical-align: top;\n",
       "    }\n",
       "\n",
       "    .dataframe thead th {\n",
       "        text-align: right;\n",
       "    }\n",
       "</style>\n",
       "<table border=\"1\" class=\"dataframe\">\n",
       "  <thead>\n",
       "    <tr style=\"text-align: right;\">\n",
       "      <th></th>\n",
       "      <th>PROP_ID</th>\n",
       "      <th>CITY</th>\n",
       "      <th>PRICE</th>\n",
       "      <th>AREA</th>\n",
       "      <th>PROP_HEADING</th>\n",
       "      <th>DESCRIPTION</th>\n",
       "      <th>PROPERTY_TYPE</th>\n",
       "      <th>FURNISH</th>\n",
       "      <th>FACING</th>\n",
       "      <th>AGE</th>\n",
       "      <th>BEDROOM_NUM</th>\n",
       "      <th>PROP_NAME</th>\n",
       "      <th>BALCONY_NUM</th>\n",
       "      <th>FLOOR_NUM</th>\n",
       "      <th>LATITUDE</th>\n",
       "      <th>LONGITUDE</th>\n",
       "      <th>LOCALITY_NAME</th>\n",
       "      <th>SOCIETY_NAME</th>\n",
       "      <th>ADDRESS</th>\n",
       "      <th>LUXURY_CATEGORY</th>\n",
       "    </tr>\n",
       "  </thead>\n",
       "  <tbody>\n",
       "    <tr>\n",
       "      <th>0</th>\n",
       "      <td>d68894450</td>\n",
       "      <td>gurgaon</td>\n",
       "      <td>1100000.0</td>\n",
       "      <td>10777.0</td>\n",
       "      <td>5 bhk flat in sector 42 gurgaon</td>\n",
       "      <td>a 4 bhk duplex flat for rent in sector 42 gurg...</td>\n",
       "      <td>residential apartment</td>\n",
       "      <td>Furnished</td>\n",
       "      <td>North-East</td>\n",
       "      <td>5-10 Year Old Property</td>\n",
       "      <td>5.0</td>\n",
       "      <td>dlf the magnolias</td>\n",
       "      <td>4.0</td>\n",
       "      <td>low rise</td>\n",
       "      <td>28.454897</td>\n",
       "      <td>77.105367</td>\n",
       "      <td>sector 42 gurgaon</td>\n",
       "      <td>dlf the magnolias</td>\n",
       "      <td>a 209</td>\n",
       "      <td>2.0</td>\n",
       "    </tr>\n",
       "    <tr>\n",
       "      <th>1</th>\n",
       "      <td>y70794212</td>\n",
       "      <td>gurgaon</td>\n",
       "      <td>1775000.0</td>\n",
       "      <td>600.0</td>\n",
       "      <td>1 bhk flat in sector 95 gurgaon</td>\n",
       "      <td>ramsons kshitij , sector 95 imt manesar, main ...</td>\n",
       "      <td>residential apartment</td>\n",
       "      <td>Semifurnished</td>\n",
       "      <td>East</td>\n",
       "      <td>1-5 Year Old Property</td>\n",
       "      <td>1.0</td>\n",
       "      <td>ramsons kshitij</td>\n",
       "      <td>1.0</td>\n",
       "      <td>low rise</td>\n",
       "      <td>28.416679</td>\n",
       "      <td>76.902677</td>\n",
       "      <td>sector 95 gurgaon</td>\n",
       "      <td>ramsons kshitij</td>\n",
       "      <td>216</td>\n",
       "      <td>0.0</td>\n",
       "    </tr>\n",
       "    <tr>\n",
       "      <th>2</th>\n",
       "      <td>s70190322</td>\n",
       "      <td>gurgaon</td>\n",
       "      <td>2000000.0</td>\n",
       "      <td>366.0</td>\n",
       "      <td>1 bhk flat in sector 95 gurgaon</td>\n",
       "      <td>situated in sector 95 gurgaon, rof ananda is a...</td>\n",
       "      <td>residential apartment</td>\n",
       "      <td>Unfurnished</td>\n",
       "      <td>North-East</td>\n",
       "      <td>1-5 Year Old Property</td>\n",
       "      <td>1.0</td>\n",
       "      <td>rof ananda</td>\n",
       "      <td>1.0</td>\n",
       "      <td>low rise</td>\n",
       "      <td>28.484814</td>\n",
       "      <td>77.080853</td>\n",
       "      <td>sector 95 gurgaon</td>\n",
       "      <td>rof ananda</td>\n",
       "      <td>405</td>\n",
       "      <td>0.0</td>\n",
       "    </tr>\n",
       "    <tr>\n",
       "      <th>3</th>\n",
       "      <td>c64640776</td>\n",
       "      <td>gurgaon</td>\n",
       "      <td>2033000.0</td>\n",
       "      <td>555.0</td>\n",
       "      <td>2 bhk flat in sector 86 gurgaon</td>\n",
       "      <td>check out this 2 bhk apartment for sale in gls...</td>\n",
       "      <td>residential apartment</td>\n",
       "      <td>Semifurnished</td>\n",
       "      <td>East</td>\n",
       "      <td>Under Construction</td>\n",
       "      <td>2.0</td>\n",
       "      <td>gls avenue 86</td>\n",
       "      <td>2.0</td>\n",
       "      <td>mid rise</td>\n",
       "      <td>28.401966</td>\n",
       "      <td>76.942206</td>\n",
       "      <td>sector 86 gurgaon</td>\n",
       "      <td>gls avenue 86</td>\n",
       "      <td>301</td>\n",
       "      <td>2.0</td>\n",
       "    </tr>\n",
       "    <tr>\n",
       "      <th>4</th>\n",
       "      <td>f70190474</td>\n",
       "      <td>gurgaon</td>\n",
       "      <td>2050000.0</td>\n",
       "      <td>366.0</td>\n",
       "      <td>1 bhk flat in sector 95 gurgaon</td>\n",
       "      <td>located in the popular residential address of ...</td>\n",
       "      <td>residential apartment</td>\n",
       "      <td>Semifurnished</td>\n",
       "      <td>North-East</td>\n",
       "      <td>1-5 Year Old Property</td>\n",
       "      <td>1.0</td>\n",
       "      <td>rof ananda</td>\n",
       "      <td>1.0</td>\n",
       "      <td>mid rise</td>\n",
       "      <td>28.484814</td>\n",
       "      <td>77.080853</td>\n",
       "      <td>sector 95 gurgaon</td>\n",
       "      <td>rof ananda</td>\n",
       "      <td>509</td>\n",
       "      <td>0.0</td>\n",
       "    </tr>\n",
       "  </tbody>\n",
       "</table>\n",
       "</div>"
      ],
      "text/plain": [
       "     PROP_ID     CITY      PRICE     AREA                     PROP_HEADING  \\\n",
       "0  d68894450  gurgaon  1100000.0  10777.0  5 bhk flat in sector 42 gurgaon   \n",
       "1  y70794212  gurgaon  1775000.0    600.0  1 bhk flat in sector 95 gurgaon   \n",
       "2  s70190322  gurgaon  2000000.0    366.0  1 bhk flat in sector 95 gurgaon   \n",
       "3  c64640776  gurgaon  2033000.0    555.0  2 bhk flat in sector 86 gurgaon   \n",
       "4  f70190474  gurgaon  2050000.0    366.0  1 bhk flat in sector 95 gurgaon   \n",
       "\n",
       "                                         DESCRIPTION          PROPERTY_TYPE  \\\n",
       "0  a 4 bhk duplex flat for rent in sector 42 gurg...  residential apartment   \n",
       "1  ramsons kshitij , sector 95 imt manesar, main ...  residential apartment   \n",
       "2  situated in sector 95 gurgaon, rof ananda is a...  residential apartment   \n",
       "3  check out this 2 bhk apartment for sale in gls...  residential apartment   \n",
       "4  located in the popular residential address of ...  residential apartment   \n",
       "\n",
       "         FURNISH      FACING                     AGE  BEDROOM_NUM  \\\n",
       "0      Furnished  North-East  5-10 Year Old Property          5.0   \n",
       "1  Semifurnished        East   1-5 Year Old Property          1.0   \n",
       "2    Unfurnished  North-East   1-5 Year Old Property          1.0   \n",
       "3  Semifurnished        East      Under Construction          2.0   \n",
       "4  Semifurnished  North-East   1-5 Year Old Property          1.0   \n",
       "\n",
       "           PROP_NAME  BALCONY_NUM FLOOR_NUM   LATITUDE  LONGITUDE  \\\n",
       "0  dlf the magnolias          4.0  low rise  28.454897  77.105367   \n",
       "1    ramsons kshitij          1.0  low rise  28.416679  76.902677   \n",
       "2         rof ananda          1.0  low rise  28.484814  77.080853   \n",
       "3      gls avenue 86          2.0  mid rise  28.401966  76.942206   \n",
       "4         rof ananda          1.0  mid rise  28.484814  77.080853   \n",
       "\n",
       "       LOCALITY_NAME       SOCIETY_NAME ADDRESS  LUXURY_CATEGORY  \n",
       "0  sector 42 gurgaon  dlf the magnolias   a 209              2.0  \n",
       "1  sector 95 gurgaon    ramsons kshitij     216              0.0  \n",
       "2  sector 95 gurgaon         rof ananda     405              0.0  \n",
       "3  sector 86 gurgaon      gls avenue 86     301              2.0  \n",
       "4  sector 95 gurgaon         rof ananda     509              0.0  "
      ]
     },
     "execution_count": 2,
     "metadata": {},
     "output_type": "execute_result"
    }
   ],
   "source": [
    "df = pd.read_csv(\"data/processed/Gurgaon/res_apartment.csv\")\n",
    "print(df.shape)\n",
    "df.head()"
   ]
  },
  {
   "cell_type": "code",
   "execution_count": 3,
   "metadata": {},
   "outputs": [
    {
     "data": {
      "text/plain": [
       "PROP_ID               0\n",
       "CITY                  0\n",
       "PRICE                 0\n",
       "AREA                  0\n",
       "PROP_HEADING          0\n",
       "DESCRIPTION           0\n",
       "PROPERTY_TYPE         0\n",
       "FURNISH               0\n",
       "FACING                0\n",
       "AGE                   0\n",
       "BEDROOM_NUM           0\n",
       "PROP_NAME             0\n",
       "BALCONY_NUM           0\n",
       "FLOOR_NUM             0\n",
       "LATITUDE              0\n",
       "LONGITUDE             0\n",
       "LOCALITY_NAME         0\n",
       "SOCIETY_NAME          0\n",
       "ADDRESS            2122\n",
       "LUXURY_CATEGORY       0\n",
       "dtype: int64"
      ]
     },
     "execution_count": 3,
     "metadata": {},
     "output_type": "execute_result"
    }
   ],
   "source": [
    "df.isnull().sum()"
   ]
  },
  {
   "cell_type": "code",
   "execution_count": 4,
   "metadata": {},
   "outputs": [],
   "source": [
    "target = \"PRICE\"\n",
    "num_cols = [\n",
    "    \"AREA\",\n",
    "]\n",
    "cat_cols = [\n",
    "    \"FURNISH\",\n",
    "    \"AGE\",\n",
    "    \"BEDROOM_NUM\",\n",
    "    \"BALCONY_NUM\",\n",
    "    \"FLOOR_NUM\",\n",
    "    \"FACING\",\n",
    "    \"LOCALITY_NAME\",\n",
    "]"
   ]
  },
  {
   "cell_type": "code",
   "execution_count": 5,
   "metadata": {},
   "outputs": [
    {
     "name": "stdout",
     "output_type": "stream",
     "text": [
      "(4049, 9)\n"
     ]
    },
    {
     "data": {
      "text/html": [
       "<div>\n",
       "<style scoped>\n",
       "    .dataframe tbody tr th:only-of-type {\n",
       "        vertical-align: middle;\n",
       "    }\n",
       "\n",
       "    .dataframe tbody tr th {\n",
       "        vertical-align: top;\n",
       "    }\n",
       "\n",
       "    .dataframe thead th {\n",
       "        text-align: right;\n",
       "    }\n",
       "</style>\n",
       "<table border=\"1\" class=\"dataframe\">\n",
       "  <thead>\n",
       "    <tr style=\"text-align: right;\">\n",
       "      <th></th>\n",
       "      <th>PRICE</th>\n",
       "      <th>AREA</th>\n",
       "      <th>FURNISH</th>\n",
       "      <th>AGE</th>\n",
       "      <th>BEDROOM_NUM</th>\n",
       "      <th>BALCONY_NUM</th>\n",
       "      <th>FLOOR_NUM</th>\n",
       "      <th>FACING</th>\n",
       "      <th>LOCALITY_NAME</th>\n",
       "    </tr>\n",
       "  </thead>\n",
       "  <tbody>\n",
       "    <tr>\n",
       "      <th>0</th>\n",
       "      <td>1100000.0</td>\n",
       "      <td>10777.0</td>\n",
       "      <td>Furnished</td>\n",
       "      <td>5-10 Year Old Property</td>\n",
       "      <td>5.0</td>\n",
       "      <td>4.0</td>\n",
       "      <td>low rise</td>\n",
       "      <td>North-East</td>\n",
       "      <td>sector 42 gurgaon</td>\n",
       "    </tr>\n",
       "    <tr>\n",
       "      <th>1</th>\n",
       "      <td>1775000.0</td>\n",
       "      <td>600.0</td>\n",
       "      <td>Semifurnished</td>\n",
       "      <td>1-5 Year Old Property</td>\n",
       "      <td>1.0</td>\n",
       "      <td>1.0</td>\n",
       "      <td>low rise</td>\n",
       "      <td>East</td>\n",
       "      <td>sector 95 gurgaon</td>\n",
       "    </tr>\n",
       "    <tr>\n",
       "      <th>2</th>\n",
       "      <td>2000000.0</td>\n",
       "      <td>366.0</td>\n",
       "      <td>Unfurnished</td>\n",
       "      <td>1-5 Year Old Property</td>\n",
       "      <td>1.0</td>\n",
       "      <td>1.0</td>\n",
       "      <td>low rise</td>\n",
       "      <td>North-East</td>\n",
       "      <td>sector 95 gurgaon</td>\n",
       "    </tr>\n",
       "    <tr>\n",
       "      <th>3</th>\n",
       "      <td>2033000.0</td>\n",
       "      <td>555.0</td>\n",
       "      <td>Semifurnished</td>\n",
       "      <td>Under Construction</td>\n",
       "      <td>2.0</td>\n",
       "      <td>2.0</td>\n",
       "      <td>mid rise</td>\n",
       "      <td>East</td>\n",
       "      <td>sector 86 gurgaon</td>\n",
       "    </tr>\n",
       "    <tr>\n",
       "      <th>4</th>\n",
       "      <td>2050000.0</td>\n",
       "      <td>366.0</td>\n",
       "      <td>Semifurnished</td>\n",
       "      <td>1-5 Year Old Property</td>\n",
       "      <td>1.0</td>\n",
       "      <td>1.0</td>\n",
       "      <td>mid rise</td>\n",
       "      <td>North-East</td>\n",
       "      <td>sector 95 gurgaon</td>\n",
       "    </tr>\n",
       "  </tbody>\n",
       "</table>\n",
       "</div>"
      ],
      "text/plain": [
       "       PRICE     AREA        FURNISH                     AGE  BEDROOM_NUM  \\\n",
       "0  1100000.0  10777.0      Furnished  5-10 Year Old Property          5.0   \n",
       "1  1775000.0    600.0  Semifurnished   1-5 Year Old Property          1.0   \n",
       "2  2000000.0    366.0    Unfurnished   1-5 Year Old Property          1.0   \n",
       "3  2033000.0    555.0  Semifurnished      Under Construction          2.0   \n",
       "4  2050000.0    366.0  Semifurnished   1-5 Year Old Property          1.0   \n",
       "\n",
       "   BALCONY_NUM FLOOR_NUM      FACING      LOCALITY_NAME  \n",
       "0          4.0  low rise  North-East  sector 42 gurgaon  \n",
       "1          1.0  low rise        East  sector 95 gurgaon  \n",
       "2          1.0  low rise  North-East  sector 95 gurgaon  \n",
       "3          2.0  mid rise        East  sector 86 gurgaon  \n",
       "4          1.0  mid rise  North-East  sector 95 gurgaon  "
      ]
     },
     "execution_count": 5,
     "metadata": {},
     "output_type": "execute_result"
    }
   ],
   "source": [
    "main_df = df[[target] + num_cols + cat_cols].copy(True)\n",
    "print(main_df.shape)\n",
    "main_df.head()"
   ]
  },
  {
   "cell_type": "code",
   "execution_count": 6,
   "metadata": {},
   "outputs": [
    {
     "data": {
      "text/plain": [
       "<Axes: >"
      ]
     },
     "execution_count": 6,
     "metadata": {},
     "output_type": "execute_result"
    },
    {
     "data": {
      "image/png": "[encoded data removed]",
      "text/plain": [
       "<Figure size 640x480 with 1 Axes>"
      ]
     },
     "metadata": {},
     "output_type": "display_data"
    }
   ],
   "source": [
    "sns.heatmap(main_df.corr(numeric_only=True), cmap=\"coolwarm\", cbar=False, annot=True, fmt=\".2f\")"
   ]
  },
  {
   "cell_type": "markdown",
   "metadata": {},
   "source": [
    "### Encoding of categorical features"
   ]
  },
  {
   "cell_type": "code",
   "execution_count": 7,
   "metadata": {},
   "outputs": [],
   "source": [
    "main_df[\"BEDROOM_NUM\"] = main_df[\"BEDROOM_NUM\"].apply(lambda x: x if x <= 5 else 99)\n",
    "main_df[\"BALCONY_NUM\"] = main_df[\"BALCONY_NUM\"].apply(lambda x: x if x <= 4 else 99)"
   ]
  },
  {
   "cell_type": "code",
   "execution_count": 8,
   "metadata": {},
   "outputs": [
    {
     "name": "stdout",
     "output_type": "stream",
     "text": [
      "    'FURNISH': ['Furnished', 'Semifurnished', 'Unfurnished']\n",
      "        'AGE': ['5-10 Year Old Property', '1-5 Year Old Property', 'Under Construction', '0-1 Year Old Property', '10+ Year Old Property']\n",
      "'BEDROOM_NUM': [5.0, 1.0, 2.0, 3.0, 4.0, 99.0]\n",
      "'BALCONY_NUM': [4.0, 1.0, 2.0, 3.0, 0.0]\n",
      "  'FLOOR_NUM': ['low rise', 'mid rise', 'high rise']\n",
      "     'FACING': ['North-East', 'East', 'North', 'South-East', 'South', 'West', 'South-West', 'North-West']\n",
      "'LOCALITY_NAME': 116\n"
     ]
    }
   ],
   "source": [
    "for col in cat_cols:\n",
    "    if main_df[col].nunique() < 20:\n",
    "        print(f\"{col!r:>13}: {main_df[col].unique().tolist()}\")\n",
    "    else:\n",
    "        print(f\"{col!r:>13}: {main_df[col].nunique()}\")"
   ]
  },
  {
   "cell_type": "code",
   "execution_count": 9,
   "metadata": {},
   "outputs": [],
   "source": [
    "ord_cols = {\n",
    "    \"FURNISH\": [\"Unfurnished\", \"Semifurnished\", \"Furnished\"],\n",
    "    \"AGE\": [\n",
    "        \"10+ Year Old Property\",\n",
    "        \"5-10 Year Old Property\",\n",
    "        \"1-5 Year Old Property\",\n",
    "        \"0-1 Year Old Property\",\n",
    "        \"Under Construction\",\n",
    "    ],\n",
    "    \"BEDROOM_NUM\": [1, 2, 3, 4, 5, 99],\n",
    "    \"BALCONY_NUM\": [0, 1, 2, 3, 4, 99],\n",
    "    \"FLOOR_NUM\": [\"low rise\", \"mid rise\", \"high rise\"],\n",
    "}\n",
    "ohe_cols = [\"FACING\", \"LOCALITY_NAME\"]"
   ]
  },
  {
   "cell_type": "markdown",
   "metadata": {},
   "source": [
    "### Encoding Pipeline"
   ]
  },
  {
   "cell_type": "code",
   "execution_count": 10,
   "metadata": {},
   "outputs": [],
   "source": [
    "preprocessor = ColumnTransformer(\n",
    "    transformers=[\n",
    "        (\"ord\", OrdinalEncoder(categories=list(ord_cols.values())), list(ord_cols.keys())),\n",
    "        (\"ohe\", OneHotEncoder(sparse_output=False), ohe_cols),\n",
    "    ],\n",
    "    remainder=\"passthrough\",\n",
    ")"
   ]
  },
  {
   "cell_type": "markdown",
   "metadata": {},
   "source": [
    "## Split Dataset"
   ]
  },
  {
   "cell_type": "code",
   "execution_count": 11,
   "metadata": {},
   "outputs": [],
   "source": [
    "X = main_df.drop(columns=[target])\n",
    "y = main_df[target]\n",
    "\n",
    "# Preprocess the whole data and encode the categorical features\n",
    "X_trf = pd.DataFrame(\n",
    "    np.array(preprocessor.fit_transform(X)), columns=preprocessor.get_feature_names_out()\n",
    ")\n",
    "\n",
    "X_train, X_test, y_train, y_test = train_test_split(X_trf, y, test_size=0.2, random_state=42)"
   ]
  },
  {
   "cell_type": "code",
   "execution_count": 12,
   "metadata": {},
   "outputs": [
    {
     "data": {
      "text/plain": [
       "((3239, 130), (810, 130))"
      ]
     },
     "execution_count": 12,
     "metadata": {},
     "output_type": "execute_result"
    }
   ],
   "source": [
    "X_train.shape, X_test.shape"
   ]
  },
  {
   "cell_type": "code",
   "execution_count": 13,
   "metadata": {},
   "outputs": [
    {
     "data": {
      "text/plain": [
       "<Axes: >"
      ]
     },
     "execution_count": 13,
     "metadata": {},
     "output_type": "execute_result"
    },
    {
     "data": {
      "image/png": "[encoded data removed]",
      "text/plain": [
       "<Figure size 2000x400 with 1 Axes>"
      ]
     },
     "metadata": {},
     "output_type": "display_data"
    }
   ],
   "source": [
    "(\n",
    "    pd.concat([X_trf, y.to_frame()], axis=1)\n",
    "    .corr()[\"PRICE\"]\n",
    "    .abs()\n",
    "    .sort_values(ascending=False)\n",
    "    .head(40)\n",
    "    .plot.bar(figsize=(20, 4))\n",
    ")"
   ]
  },
  {
   "cell_type": "code",
   "execution_count": 14,
   "metadata": {},
   "outputs": [],
   "source": [
    "def calc_scores(y_true, y_pred):\n",
    "    print(f\"mean_squared_error: {mean_squared_error(y_true, y_pred)}\")\n",
    "    print(f\"mean_absolute_error: {round(mean_absolute_error(y_true, y_pred) / C.LAKH)} Lac\")  # type: ignore"
   ]
  },
  {
   "cell_type": "code",
   "execution_count": 15,
   "metadata": {},
   "outputs": [],
   "source": [
    "def create_model_pipe(estimator):\n",
    "    return Pipeline(\n",
    "        steps=[\n",
    "            (\"scaler\", StandardScaler()),\n",
    "            (\"model\", estimator),\n",
    "        ]\n",
    "    )"
   ]
  },
  {
   "cell_type": "markdown",
   "metadata": {},
   "source": [
    "## LinearRegression"
   ]
  },
  {
   "cell_type": "code",
   "execution_count": 16,
   "metadata": {},
   "outputs": [
    {
     "data": {
      "text/plain": [
       "-7.279285355882304e+23"
      ]
     },
     "execution_count": 16,
     "metadata": {},
     "output_type": "execute_result"
    }
   ],
   "source": [
    "lr_pipe = create_model_pipe(LinearRegression())\n",
    "scores = cross_val_score(lr_pipe, X_train, y_train, scoring=\"r2\", cv=5)\n",
    "np.mean(scores)"
   ]
  },
  {
   "cell_type": "code",
   "execution_count": 17,
   "metadata": {},
   "outputs": [
    {
     "name": "stdout",
     "output_type": "stream",
     "text": [
      "mean_squared_error: 8.200635295587054e+36\n",
      "mean_absolute_error: 1805838938634 Lac\n"
     ]
    }
   ],
   "source": [
    "lr_pipe.fit(X_train, y_train)\n",
    "y_pred = lr_pipe.predict(X_test)\n",
    "calc_scores(y_test, y_pred)"
   ]
  },
  {
   "cell_type": "markdown",
   "metadata": {},
   "source": [
    "## Ridge"
   ]
  },
  {
   "cell_type": "code",
   "execution_count": 18,
   "metadata": {},
   "outputs": [
    {
     "data": {
      "text/plain": [
       "0.7650112106507237"
      ]
     },
     "execution_count": 18,
     "metadata": {},
     "output_type": "execute_result"
    }
   ],
   "source": [
    "ridge_pipe = create_model_pipe(Ridge())\n",
    "scores = cross_val_score(ridge_pipe, X_train, y_train, scoring=\"r2\", cv=5)\n",
    "np.mean(scores)"
   ]
  },
  {
   "cell_type": "code",
   "execution_count": 19,
   "metadata": {},
   "outputs": [
    {
     "name": "stdout",
     "output_type": "stream",
     "text": [
      "mean_squared_error: 197386000154531.47\n",
      "mean_absolute_error: 63 Lac\n"
     ]
    }
   ],
   "source": [
    "ridge_pipe.fit(X_train, y_train)\n",
    "y_pred = ridge_pipe.predict(X_test)\n",
    "calc_scores(y_test, y_pred)"
   ]
  },
  {
   "cell_type": "markdown",
   "metadata": {},
   "source": [
    "## Lasso"
   ]
  },
  {
   "cell_type": "code",
   "execution_count": 20,
   "metadata": {},
   "outputs": [
    {
     "name": "stderr",
     "output_type": "stream",
     "text": [
      "/Library/Frameworks/Python.framework/Versions/3.11/lib/python3.11/site-packages/sklearn/linear_model/_coordinate_descent.py:628: ConvergenceWarning: Objective did not converge. You might want to increase the number of iterations, check the scale of the features or consider increasing regularisation. Duality gap: 2.704e+16, tolerance: 2.252e+14\n",
      "  model = cd_fast.enet_coordinate_descent(\n",
      "/Library/Frameworks/Python.framework/Versions/3.11/lib/python3.11/site-packages/sklearn/linear_model/_coordinate_descent.py:628: ConvergenceWarning: Objective did not converge. You might want to increase the number of iterations, check the scale of the features or consider increasing regularisation. Duality gap: 2.326e+16, tolerance: 1.856e+14\n",
      "  model = cd_fast.enet_coordinate_descent(\n",
      "/Library/Frameworks/Python.framework/Versions/3.11/lib/python3.11/site-packages/sklearn/linear_model/_coordinate_descent.py:628: ConvergenceWarning: Objective did not converge. You might want to increase the number of iterations, check the scale of the features or consider increasing regularisation. Duality gap: 2.984e+16, tolerance: 2.191e+14\n",
      "  model = cd_fast.enet_coordinate_descent(\n",
      "/Library/Frameworks/Python.framework/Versions/3.11/lib/python3.11/site-packages/sklearn/linear_model/_coordinate_descent.py:628: ConvergenceWarning: Objective did not converge. You might want to increase the number of iterations, check the scale of the features or consider increasing regularisation. Duality gap: 3.061e+16, tolerance: 2.369e+14\n",
      "  model = cd_fast.enet_coordinate_descent(\n",
      "/Library/Frameworks/Python.framework/Versions/3.11/lib/python3.11/site-packages/sklearn/linear_model/_coordinate_descent.py:628: ConvergenceWarning: Objective did not converge. You might want to increase the number of iterations, check the scale of the features or consider increasing regularisation. Duality gap: 2.565e+16, tolerance: 2.302e+14\n",
      "  model = cd_fast.enet_coordinate_descent(\n"
     ]
    },
    {
     "data": {
      "text/plain": [
       "0.7651257522505319"
      ]
     },
     "execution_count": 20,
     "metadata": {},
     "output_type": "execute_result"
    }
   ],
   "source": [
    "lasso_pipe = create_model_pipe(Lasso())\n",
    "scores = cross_val_score(lasso_pipe, X_train, y_train, scoring=\"r2\", cv=5)\n",
    "np.mean(scores)"
   ]
  },
  {
   "cell_type": "code",
   "execution_count": 21,
   "metadata": {},
   "outputs": [
    {
     "name": "stdout",
     "output_type": "stream",
     "text": [
      "mean_squared_error: 197398366821530.22\n",
      "mean_absolute_error: 63 Lac\n"
     ]
    },
    {
     "name": "stderr",
     "output_type": "stream",
     "text": [
      "/Library/Frameworks/Python.framework/Versions/3.11/lib/python3.11/site-packages/sklearn/linear_model/_coordinate_descent.py:628: ConvergenceWarning: Objective did not converge. You might want to increase the number of iterations, check the scale of the features or consider increasing regularisation. Duality gap: 3.633e+16, tolerance: 2.743e+14\n",
      "  model = cd_fast.enet_coordinate_descent(\n"
     ]
    }
   ],
   "source": [
    "lasso_pipe.fit(X_train, y_train)\n",
    "y_pred = lasso_pipe.predict(X_test)\n",
    "calc_scores(y_test, y_pred)"
   ]
  },
  {
   "cell_type": "markdown",
   "metadata": {},
   "source": [
    "## ElasticNet"
   ]
  },
  {
   "cell_type": "code",
   "execution_count": 22,
   "metadata": {},
   "outputs": [
    {
     "data": {
      "text/plain": [
       "0.7306811829296744"
      ]
     },
     "execution_count": 22,
     "metadata": {},
     "output_type": "execute_result"
    }
   ],
   "source": [
    "elastic_pipe = create_model_pipe(ElasticNet())\n",
    "scores = cross_val_score(elastic_pipe, X_train, y_train, scoring=\"r2\", cv=5)\n",
    "np.mean(scores)"
   ]
  },
  {
   "cell_type": "code",
   "execution_count": 23,
   "metadata": {},
   "outputs": [
    {
     "name": "stdout",
     "output_type": "stream",
     "text": [
      "mean_squared_error: 314070363323107.5\n",
      "mean_absolute_error: 74 Lac\n"
     ]
    }
   ],
   "source": [
    "elastic_pipe.fit(X_train, y_train)\n",
    "y_pred = elastic_pipe.predict(X_test)\n",
    "calc_scores(y_test, y_pred)"
   ]
  },
  {
   "cell_type": "markdown",
   "metadata": {},
   "source": [
    "## SVR"
   ]
  },
  {
   "cell_type": "code",
   "execution_count": 24,
   "metadata": {},
   "outputs": [
    {
     "data": {
      "text/plain": [
       "-0.08490346567729605"
      ]
     },
     "execution_count": 24,
     "metadata": {},
     "output_type": "execute_result"
    }
   ],
   "source": [
    "svr = create_model_pipe(SVR(kernel=\"rbf\"))\n",
    "scores = cross_val_score(svr, X_train, y_train, scoring=\"r2\", cv=5)\n",
    "np.mean(scores)"
   ]
  },
  {
   "cell_type": "code",
   "execution_count": 25,
   "metadata": {},
   "outputs": [
    {
     "name": "stdout",
     "output_type": "stream",
     "text": [
      "mean_squared_error: 1252528474434124.2\n",
      "mean_absolute_error: 153 Lac\n"
     ]
    }
   ],
   "source": [
    "svr.fit(X_train, y_train)\n",
    "y_pred = svr.predict(X_test)\n",
    "calc_scores(y_test, y_pred)"
   ]
  },
  {
   "cell_type": "markdown",
   "metadata": {},
   "source": [
    "## RandomForestRegressor"
   ]
  },
  {
   "cell_type": "code",
   "execution_count": 26,
   "metadata": {},
   "outputs": [
    {
     "data": {
      "text/plain": [
       "0.8415399281983191"
      ]
     },
     "execution_count": 26,
     "metadata": {},
     "output_type": "execute_result"
    }
   ],
   "source": [
    "rf = create_model_pipe(RandomForestRegressor())\n",
    "scores = cross_val_score(rf, X_train, y_train, scoring=\"r2\", cv=5)\n",
    "np.mean(scores)"
   ]
  },
  {
   "cell_type": "code",
   "execution_count": 27,
   "metadata": {},
   "outputs": [
    {
     "name": "stdout",
     "output_type": "stream",
     "text": [
      "mean_squared_error: 80088121806536.62\n",
      "mean_absolute_error: 40 Lac\n"
     ]
    }
   ],
   "source": [
    "rf.fit(X_train, y_train)\n",
    "y_pred = rf.predict(X_test)\n",
    "calc_scores(y_test, y_pred)"
   ]
  },
  {
   "cell_type": "markdown",
   "metadata": {},
   "source": [
    "# Arree Wahh...!!\n",
    "\n",
    "- I got `0.765` **r2_score** with `Ridge` and `63 Lac` **absolute error**.\n",
    "- ⭐ I got `0.841` **r2_score** with `RandomForestRegressor` and `40 Lac` **absolute error**."
   ]
  }
 ],
 "metadata": {
  "kernelspec": {
   "display_name": "Python 3",
   "language": "python",
   "name": "python3"
  },
  "language_info": {
   "codemirror_mode": {
    "name": "ipython",
    "version": 3
   },
   "file_extension": ".py",
   "mimetype": "text/x-python",
   "name": "python",
   "nbconvert_exporter": "python",
   "pygments_lexer": "ipython3",
   "version": "3.11.0"
  },
  "orig_nbformat": 4
 },
 "nbformat": 4,
 "nbformat_minor": 2
}
