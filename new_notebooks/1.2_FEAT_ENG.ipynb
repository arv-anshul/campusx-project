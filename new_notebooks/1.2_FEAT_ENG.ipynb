{
 "cells": [
  {
   "cell_type": "code",
   "execution_count": 1,
   "metadata": {},
   "outputs": [],
   "source": [
    "from ast import literal_eval\n",
    "\n",
    "import pandas as pd\n",
    "import numpy as np\n",
    "import matplotlib.pyplot as plt\n",
    "import seaborn as sns"
   ]
  },
  {
   "cell_type": "code",
   "execution_count": 2,
   "metadata": {},
   "outputs": [],
   "source": [
    "plt.style.use('ggplot')\n",
    "pd.set_option('display.max_columns', None)"
   ]
  },
  {
   "cell_type": "code",
   "execution_count": 3,
   "metadata": {},
   "outputs": [
    {
     "name": "stdout",
     "output_type": "stream",
     "text": [
      "(10162, 28)\n"
     ]
    },
    {
     "data": {
      "text/html": [
       "<div>\n",
       "<style scoped>\n",
       "    .dataframe tbody tr th:only-of-type {\n",
       "        vertical-align: middle;\n",
       "    }\n",
       "\n",
       "    .dataframe tbody tr th {\n",
       "        vertical-align: top;\n",
       "    }\n",
       "\n",
       "    .dataframe thead th {\n",
       "        text-align: right;\n",
       "    }\n",
       "</style>\n",
       "<table border=\"1\" class=\"dataframe\">\n",
       "  <thead>\n",
       "    <tr style=\"text-align: right;\">\n",
       "      <th></th>\n",
       "      <th>SPID</th>\n",
       "      <th>PROP_ID</th>\n",
       "      <th>CITY</th>\n",
       "      <th>PRICE</th>\n",
       "      <th>PRICE_SQFT</th>\n",
       "      <th>AREA</th>\n",
       "      <th>TOTAL_LANDMARK_COUNT</th>\n",
       "      <th>FORMATTED_LANDMARK_DETAILS</th>\n",
       "      <th>PROP_HEADING</th>\n",
       "      <th>DESCRIPTION</th>\n",
       "      <th>PROPERTY_TYPE</th>\n",
       "      <th>FURNISH</th>\n",
       "      <th>FACING</th>\n",
       "      <th>AGE</th>\n",
       "      <th>TOTAL_FLOOR</th>\n",
       "      <th>FEATURES</th>\n",
       "      <th>BEDROOM_NUM</th>\n",
       "      <th>AMENITIES</th>\n",
       "      <th>PROP_NAME</th>\n",
       "      <th>BALCONY_NUM</th>\n",
       "      <th>FLOOR_NUM</th>\n",
       "      <th>LATITUDE</th>\n",
       "      <th>LONGITUDE</th>\n",
       "      <th>BHK_BED</th>\n",
       "      <th>LOCALITY_NAME</th>\n",
       "      <th>BUILDING_NAME</th>\n",
       "      <th>SOCIETY_NAME</th>\n",
       "      <th>ADDRESS</th>\n",
       "    </tr>\n",
       "  </thead>\n",
       "  <tbody>\n",
       "    <tr>\n",
       "      <th>0</th>\n",
       "      <td>70597758</td>\n",
       "      <td>h70597758</td>\n",
       "      <td>gurgaon</td>\n",
       "      <td>31900000.0</td>\n",
       "      <td>20202.0</td>\n",
       "      <td>1579.0</td>\n",
       "      <td>9.0</td>\n",
       "      <td>['1 metro station', '1 shopping', '2 connectiv...</td>\n",
       "      <td>3 bhk flat in sector 113 gurgaon</td>\n",
       "      <td>there is a 3 bhk apartment in sector 113, gurg...</td>\n",
       "      <td>residential apartment</td>\n",
       "      <td>not available</td>\n",
       "      <td>not available</td>\n",
       "      <td>5</td>\n",
       "      <td>25.0</td>\n",
       "      <td>['n']</td>\n",
       "      <td>3.0</td>\n",
       "      <td>NaN</td>\n",
       "      <td>la vida by tata housing</td>\n",
       "      <td>NaN</td>\n",
       "      <td>1.0</td>\n",
       "      <td>28.532594</td>\n",
       "      <td>77.020297</td>\n",
       "      <td>3.0</td>\n",
       "      <td>sector 113 gurgaon</td>\n",
       "      <td>la vida by tata housing</td>\n",
       "      <td>la vida by tata housing</td>\n",
       "      <td>NaN</td>\n",
       "    </tr>\n",
       "    <tr>\n",
       "      <th>1</th>\n",
       "      <td>70436188</td>\n",
       "      <td>h70436188</td>\n",
       "      <td>gurgaon</td>\n",
       "      <td>18500000.0</td>\n",
       "      <td>9135.0</td>\n",
       "      <td>2025.0</td>\n",
       "      <td>12.0</td>\n",
       "      <td>['1 metro station', '1 shopping', '1 connectiv...</td>\n",
       "      <td>3 bhk flat in sector 77 gurgaon</td>\n",
       "      <td>let your dream of owning a flat come true with...</td>\n",
       "      <td>residential apartment</td>\n",
       "      <td>not available</td>\n",
       "      <td>not available</td>\n",
       "      <td>6</td>\n",
       "      <td>24.0</td>\n",
       "      <td>['n']</td>\n",
       "      <td>3.0</td>\n",
       "      <td>NaN</td>\n",
       "      <td>emaar palm heights</td>\n",
       "      <td>NaN</td>\n",
       "      <td>1.0</td>\n",
       "      <td>28.385577</td>\n",
       "      <td>76.975992</td>\n",
       "      <td>3.0</td>\n",
       "      <td>sector 77 gurgaon</td>\n",
       "      <td>emaar palm heights</td>\n",
       "      <td>emaar palm heights</td>\n",
       "      <td>NaN</td>\n",
       "    </tr>\n",
       "    <tr>\n",
       "      <th>2</th>\n",
       "      <td>70217014</td>\n",
       "      <td>l70217014</td>\n",
       "      <td>gurgaon</td>\n",
       "      <td>120600000.0</td>\n",
       "      <td>42736.0</td>\n",
       "      <td>2822.0</td>\n",
       "      <td>9.0</td>\n",
       "      <td>['1 metro station', '1 shopping', '1 connectiv...</td>\n",
       "      <td>5 bhk flat in sector 53 gurgaon</td>\n",
       "      <td>tulip monsella offers 5 bhk flats in sector 53...</td>\n",
       "      <td>residential apartment</td>\n",
       "      <td>not available</td>\n",
       "      <td>not available</td>\n",
       "      <td>5</td>\n",
       "      <td>20.0</td>\n",
       "      <td>['n']</td>\n",
       "      <td>5.0</td>\n",
       "      <td>NaN</td>\n",
       "      <td>tulip monsella</td>\n",
       "      <td>NaN</td>\n",
       "      <td>1.0</td>\n",
       "      <td>28.435057</td>\n",
       "      <td>77.101367</td>\n",
       "      <td>5.0</td>\n",
       "      <td>sector 53 gurgaon</td>\n",
       "      <td>tulip monsella</td>\n",
       "      <td>tulip monsella</td>\n",
       "      <td>NaN</td>\n",
       "    </tr>\n",
       "    <tr>\n",
       "      <th>3</th>\n",
       "      <td>70217012</td>\n",
       "      <td>x70217012</td>\n",
       "      <td>gurgaon</td>\n",
       "      <td>95300000.0</td>\n",
       "      <td>42736.0</td>\n",
       "      <td>2229.0</td>\n",
       "      <td>9.0</td>\n",
       "      <td>['1 metro station', '1 shopping', '1 connectiv...</td>\n",
       "      <td>4 bhk flat in sector 53 gurgaon</td>\n",
       "      <td>tulip monsella offers 4 bhk flats in sector 53...</td>\n",
       "      <td>residential apartment</td>\n",
       "      <td>not available</td>\n",
       "      <td>not available</td>\n",
       "      <td>5</td>\n",
       "      <td>20.0</td>\n",
       "      <td>['n']</td>\n",
       "      <td>4.0</td>\n",
       "      <td>NaN</td>\n",
       "      <td>tulip monsella</td>\n",
       "      <td>NaN</td>\n",
       "      <td>1.0</td>\n",
       "      <td>28.435057</td>\n",
       "      <td>77.101367</td>\n",
       "      <td>4.0</td>\n",
       "      <td>sector 53 gurgaon</td>\n",
       "      <td>tulip monsella</td>\n",
       "      <td>tulip monsella</td>\n",
       "      <td>NaN</td>\n",
       "    </tr>\n",
       "    <tr>\n",
       "      <th>4</th>\n",
       "      <td>70217010</td>\n",
       "      <td>a70217010</td>\n",
       "      <td>gurgaon</td>\n",
       "      <td>72000000.0</td>\n",
       "      <td>43834.0</td>\n",
       "      <td>1642.0</td>\n",
       "      <td>9.0</td>\n",
       "      <td>['1 metro station', '1 shopping', '1 connectiv...</td>\n",
       "      <td>3 bhk flat in sector 53 gurgaon</td>\n",
       "      <td>tulip monsella offers 3 bhk apartments in sect...</td>\n",
       "      <td>residential apartment</td>\n",
       "      <td>not available</td>\n",
       "      <td>not available</td>\n",
       "      <td>5</td>\n",
       "      <td>20.0</td>\n",
       "      <td>['n']</td>\n",
       "      <td>3.0</td>\n",
       "      <td>NaN</td>\n",
       "      <td>tulip monsella</td>\n",
       "      <td>NaN</td>\n",
       "      <td>1.0</td>\n",
       "      <td>28.435057</td>\n",
       "      <td>77.101367</td>\n",
       "      <td>3.0</td>\n",
       "      <td>sector 53 gurgaon</td>\n",
       "      <td>tulip monsella</td>\n",
       "      <td>tulip monsella</td>\n",
       "      <td>NaN</td>\n",
       "    </tr>\n",
       "  </tbody>\n",
       "</table>\n",
       "</div>"
      ],
      "text/plain": [
       "       SPID    PROP_ID     CITY        PRICE  PRICE_SQFT    AREA  \\\n",
       "0  70597758  h70597758  gurgaon   31900000.0     20202.0  1579.0   \n",
       "1  70436188  h70436188  gurgaon   18500000.0      9135.0  2025.0   \n",
       "2  70217014  l70217014  gurgaon  120600000.0     42736.0  2822.0   \n",
       "3  70217012  x70217012  gurgaon   95300000.0     42736.0  2229.0   \n",
       "4  70217010  a70217010  gurgaon   72000000.0     43834.0  1642.0   \n",
       "\n",
       "   TOTAL_LANDMARK_COUNT                         FORMATTED_LANDMARK_DETAILS  \\\n",
       "0                   9.0  ['1 metro station', '1 shopping', '2 connectiv...   \n",
       "1                  12.0  ['1 metro station', '1 shopping', '1 connectiv...   \n",
       "2                   9.0  ['1 metro station', '1 shopping', '1 connectiv...   \n",
       "3                   9.0  ['1 metro station', '1 shopping', '1 connectiv...   \n",
       "4                   9.0  ['1 metro station', '1 shopping', '1 connectiv...   \n",
       "\n",
       "                       PROP_HEADING  \\\n",
       "0  3 bhk flat in sector 113 gurgaon   \n",
       "1   3 bhk flat in sector 77 gurgaon   \n",
       "2   5 bhk flat in sector 53 gurgaon   \n",
       "3   4 bhk flat in sector 53 gurgaon   \n",
       "4   3 bhk flat in sector 53 gurgaon   \n",
       "\n",
       "                                         DESCRIPTION          PROPERTY_TYPE  \\\n",
       "0  there is a 3 bhk apartment in sector 113, gurg...  residential apartment   \n",
       "1  let your dream of owning a flat come true with...  residential apartment   \n",
       "2  tulip monsella offers 5 bhk flats in sector 53...  residential apartment   \n",
       "3  tulip monsella offers 4 bhk flats in sector 53...  residential apartment   \n",
       "4  tulip monsella offers 3 bhk apartments in sect...  residential apartment   \n",
       "\n",
       "         FURNISH         FACING  AGE  TOTAL_FLOOR FEATURES  BEDROOM_NUM  \\\n",
       "0  not available  not available    5         25.0    ['n']          3.0   \n",
       "1  not available  not available    6         24.0    ['n']          3.0   \n",
       "2  not available  not available    5         20.0    ['n']          5.0   \n",
       "3  not available  not available    5         20.0    ['n']          4.0   \n",
       "4  not available  not available    5         20.0    ['n']          3.0   \n",
       "\n",
       "  AMENITIES                PROP_NAME  BALCONY_NUM FLOOR_NUM   LATITUDE  \\\n",
       "0       NaN  la vida by tata housing          NaN       1.0  28.532594   \n",
       "1       NaN       emaar palm heights          NaN       1.0  28.385577   \n",
       "2       NaN           tulip monsella          NaN       1.0  28.435057   \n",
       "3       NaN           tulip monsella          NaN       1.0  28.435057   \n",
       "4       NaN           tulip monsella          NaN       1.0  28.435057   \n",
       "\n",
       "   LONGITUDE  BHK_BED        LOCALITY_NAME            BUILDING_NAME  \\\n",
       "0  77.020297      3.0  sector 113 gurgaon   la vida by tata housing   \n",
       "1  76.975992      3.0    sector 77 gurgaon       emaar palm heights   \n",
       "2  77.101367      5.0    sector 53 gurgaon           tulip monsella   \n",
       "3  77.101367      4.0    sector 53 gurgaon           tulip monsella   \n",
       "4  77.101367      3.0    sector 53 gurgaon           tulip monsella   \n",
       "\n",
       "              SOCIETY_NAME ADDRESS  \n",
       "0  la vida by tata housing     NaN  \n",
       "1       emaar palm heights     NaN  \n",
       "2           tulip monsella     NaN  \n",
       "3           tulip monsella     NaN  \n",
       "4           tulip monsella     NaN  "
      ]
     },
     "execution_count": 3,
     "metadata": {},
     "output_type": "execute_result"
    }
   ],
   "source": [
    "df = pd.read_csv('data/processed/gurgaon_10k.csv')\n",
    "print(df.shape)\n",
    "df.head()"
   ]
  },
  {
   "cell_type": "code",
   "execution_count": 4,
   "metadata": {},
   "outputs": [
    {
     "data": {
      "text/plain": [
       "Index(['SPID', 'PROP_ID', 'CITY', 'PRICE', 'PRICE_SQFT', 'AREA',\n",
       "       'TOTAL_LANDMARK_COUNT', 'FORMATTED_LANDMARK_DETAILS', 'PROP_HEADING',\n",
       "       'DESCRIPTION', 'PROPERTY_TYPE', 'FURNISH', 'FACING', 'AGE',\n",
       "       'TOTAL_FLOOR', 'FEATURES', 'BEDROOM_NUM', 'AMENITIES', 'PROP_NAME',\n",
       "       'BALCONY_NUM', 'FLOOR_NUM', 'LATITUDE', 'LONGITUDE', 'BHK_BED',\n",
       "       'LOCALITY_NAME', 'BUILDING_NAME', 'SOCIETY_NAME', 'ADDRESS'],\n",
       "      dtype='object')"
      ]
     },
     "execution_count": 4,
     "metadata": {},
     "output_type": "execute_result"
    }
   ],
   "source": [
    "df.columns"
   ]
  },
  {
   "cell_type": "code",
   "execution_count": 5,
   "metadata": {},
   "outputs": [
    {
     "name": "stdout",
     "output_type": "stream",
     "text": [
      "<class 'pandas.core.frame.DataFrame'>\n",
      "RangeIndex: 10162 entries, 0 to 10161\n",
      "Data columns (total 28 columns):\n",
      " #   Column                      Non-Null Count  Dtype  \n",
      "---  ------                      --------------  -----  \n",
      " 0   SPID                        10162 non-null  int64  \n",
      " 1   PROP_ID                     10162 non-null  object \n",
      " 2   CITY                        10162 non-null  object \n",
      " 3   PRICE                       10162 non-null  float64\n",
      " 4   PRICE_SQFT                  10162 non-null  float64\n",
      " 5   AREA                        10162 non-null  float64\n",
      " 6   TOTAL_LANDMARK_COUNT        10051 non-null  float64\n",
      " 7   FORMATTED_LANDMARK_DETAILS  10162 non-null  object \n",
      " 8   PROP_HEADING                10162 non-null  object \n",
      " 9   DESCRIPTION                 10162 non-null  object \n",
      " 10  PROPERTY_TYPE               10162 non-null  object \n",
      " 11  FURNISH                     10162 non-null  object \n",
      " 12  FACING                      10162 non-null  object \n",
      " 13  AGE                         10162 non-null  int64  \n",
      " 14  TOTAL_FLOOR                 10111 non-null  float64\n",
      " 15  FEATURES                    10162 non-null  object \n",
      " 16  BEDROOM_NUM                 9164 non-null   float64\n",
      " 17  AMENITIES                   9887 non-null   object \n",
      " 18  PROP_NAME                   8326 non-null   object \n",
      " 19  BALCONY_NUM                 9015 non-null   float64\n",
      " 20  FLOOR_NUM                   8432 non-null   object \n",
      " 21  LATITUDE                    10162 non-null  float64\n",
      " 22  LONGITUDE                   10162 non-null  float64\n",
      " 23  BHK_BED                     9164 non-null   float64\n",
      " 24  LOCALITY_NAME               10162 non-null  object \n",
      " 25  BUILDING_NAME               8326 non-null   object \n",
      " 26  SOCIETY_NAME                8326 non-null   object \n",
      " 27  ADDRESS                     4961 non-null   object \n",
      "dtypes: float64(10), int64(2), object(16)\n",
      "memory usage: 2.2+ MB\n"
     ]
    }
   ],
   "source": [
    "df.info()"
   ]
  },
  {
   "cell_type": "code",
   "execution_count": 6,
   "metadata": {},
   "outputs": [
    {
     "data": {
      "text/plain": [
       "SPID                             0\n",
       "PROP_ID                          0\n",
       "CITY                             0\n",
       "PRICE                            0\n",
       "PRICE_SQFT                       0\n",
       "AREA                             0\n",
       "TOTAL_LANDMARK_COUNT           111\n",
       "FORMATTED_LANDMARK_DETAILS       0\n",
       "PROP_HEADING                     0\n",
       "DESCRIPTION                      0\n",
       "PROPERTY_TYPE                    0\n",
       "FURNISH                          0\n",
       "FACING                           0\n",
       "AGE                              0\n",
       "TOTAL_FLOOR                     51\n",
       "FEATURES                         0\n",
       "BEDROOM_NUM                    998\n",
       "AMENITIES                      275\n",
       "PROP_NAME                     1836\n",
       "BALCONY_NUM                   1147\n",
       "FLOOR_NUM                     1730\n",
       "LATITUDE                         0\n",
       "LONGITUDE                        0\n",
       "BHK_BED                        998\n",
       "LOCALITY_NAME                    0\n",
       "BUILDING_NAME                 1836\n",
       "SOCIETY_NAME                  1836\n",
       "ADDRESS                       5201\n",
       "dtype: int64"
      ]
     },
     "execution_count": 6,
     "metadata": {},
     "output_type": "execute_result"
    }
   ],
   "source": [
    "df.isnull().sum()"
   ]
  },
  {
   "cell_type": "markdown",
   "metadata": {},
   "source": [
    "## FORMATTED_LANDMARK_DETAILS"
   ]
  },
  {
   "cell_type": "code",
   "execution_count": 7,
   "metadata": {},
   "outputs": [
    {
     "data": {
      "text/plain": [
       "array([\"['1 metro station', '1 shopping', '2 connectivities', '2 educations', '1 hospital', '1 airport', '1 railway station']\",\n",
       "       \"['1 metro station', '1 shopping', '1 connectivity', '2 educations', '1 hospital', '1 airport', '1 railway station', '1 hotels', '1 amusement park', '1 golf course', '1 stadium']\",\n",
       "       \"['1 metro station', '1 shopping', '1 connectivity', '2 educations', '1 hospital', '1 club', '2 hotelss']\",\n",
       "       \"['1 metro station', '1 shopping', '1 connectivity', '2 educations', '1 hospital', '1 club', '2 hotelss']\",\n",
       "       \"['1 metro station', '1 shopping', '1 connectivity', '2 educations', '1 hospital', '1 club', '2 hotelss']\"],\n",
       "      dtype=object)"
      ]
     },
     "execution_count": 7,
     "metadata": {},
     "output_type": "execute_result"
    }
   ],
   "source": [
    "df['FORMATTED_LANDMARK_DETAILS'].head(5).values"
   ]
  },
  {
   "cell_type": "code",
   "execution_count": 8,
   "metadata": {},
   "outputs": [],
   "source": [
    "df['FORMATTED_LANDMARK_DETAILS'] = df['FORMATTED_LANDMARK_DETAILS'].apply(literal_eval)"
   ]
  },
  {
   "cell_type": "code",
   "execution_count": 9,
   "metadata": {},
   "outputs": [
    {
     "name": "stdout",
     "output_type": "stream",
     "text": [
      "28\n"
     ]
    },
    {
     "data": {
      "text/plain": [
       "['metro station',\n",
       " 'shopping',\n",
       " 'connectivitie',\n",
       " 'education',\n",
       " 'hospital',\n",
       " 'airport',\n",
       " 'railway station',\n",
       " 'connectivity',\n",
       " 'hotel',\n",
       " 'amusement park',\n",
       " 'golf course',\n",
       " 'stadium',\n",
       " 'club',\n",
       " 'office complex',\n",
       " 'atm',\n",
       " 'pharmacy',\n",
       " 'miscellaneou',\n",
       " 'library',\n",
       " 'religious place',\n",
       " 'office complexe',\n",
       " 'attraction',\n",
       " 'parking',\n",
       " 'swimming pool',\n",
       " 'bank',\n",
       " 'park',\n",
       " nan,\n",
       " 'bus stop',\n",
       " 'bus depot']"
      ]
     },
     "execution_count": 9,
     "metadata": {},
     "output_type": "execute_result"
    }
   ],
   "source": [
    "unique_landmarks = (\n",
    "    df['FORMATTED_LANDMARK_DETAILS']\n",
    "    .explode()\n",
    "    .str.split(' ', n=1)\n",
    "    .str.get(-1)\n",
    "    .str.replace('ss', 's')\n",
    "    .str.removesuffix('s')\n",
    "    .unique()\n",
    "    .tolist()\n",
    ")\n",
    "print(len(unique_landmarks))\n",
    "unique_landmarks"
   ]
  },
  {
   "cell_type": "code",
   "execution_count": 10,
   "metadata": {},
   "outputs": [],
   "source": [
    "landmark_groups = {\n",
    "    \"TRANSPORATION\": [\"station\", \"bus\", \"airport\"],\n",
    "    \"ACCOMODATION\": [\"hotel\", \"office\", \"atm\", \"bank\"],\n",
    "    \"LEISURE\": [\"shop\", \"mall\", \"park\", \"stadium\", \"club\", \"pool\", \"attraction\", \"golf\"],\n",
    "    \"EDUCATION\": [\"education\", \"library\"],\n",
    "    \"HEALTH\": [\"hospital\", \"pharmacy\"],\n",
    "    \"OTHER\": [\n",
    "        \"religious\",\n",
    "        \"connect\",\n",
    "        \"miscellaneou\",\n",
    "        \"parking\",  # This value is being over-shadowed by `park` in LEISURE.\n",
    "    ],\n",
    "}"
   ]
  },
  {
   "cell_type": "code",
   "execution_count": 11,
   "metadata": {},
   "outputs": [],
   "source": [
    "def handle_landmarks(x: list[str], key: str) -> list[str]:\n",
    "    global curr_idx  # type: ignore\n",
    "    col_values: list[int] = []\n",
    "\n",
    "    for i in x:\n",
    "        for j in landmark_groups[key]:\n",
    "            if j in i and isinstance(i, str):\n",
    "                value = i.split(' ')[0]\n",
    "                col_values.append(int(value))\n",
    "    else:\n",
    "        col_values.append(0)\n",
    "\n",
    "    df.loc[curr_idx, key] = sum(col_values)  # type: ignore\n",
    "    curr_idx += 1  # type: ignore\n",
    "    return x"
   ]
  },
  {
   "cell_type": "code",
   "execution_count": 12,
   "metadata": {},
   "outputs": [],
   "source": [
    "for col_name in landmark_groups.keys():\n",
    "    curr_idx = 0\n",
    "    df['FORMATTED_LANDMARK_DETAILS'].apply(lambda x: handle_landmarks(x, col_name))"
   ]
  },
  {
   "cell_type": "code",
   "execution_count": 13,
   "metadata": {},
   "outputs": [
    {
     "data": {
      "text/plain": [
       "array([list(['3 metro stations', '2 religious places', '5 atms', '5 hospitals', '1 attraction', '2 pharmacys', '2 office complexes', '2 miscellaneouss']),\n",
       "       list(['1 metro station', '1 shopping', '1 connectivity', '2 educations', '1 airport', '1 office complex', '2 hotelss', '1 amusement park', '1 golf course', '1 miscellaneous']),\n",
       "       list(['1 metro station', '1 shopping', '1 connectivity', '2 educations', '1 hospital', '1 airport', '2 clubs', '1 office complex', '1 hotels', '1 amusement park', '2 miscellaneouss']),\n",
       "       list(['2 shoppings', '2 educations', '1 religious place', '1 hospital', '4 bankss', '1 pharmacy', '1 park', '3 miscellaneouss']),\n",
       "       list(['1 shopping', '2 connectivities', '2 educations', '1 hospital', '1 airport', '1 office complex', '1 amusement park', '1 miscellaneous']),\n",
       "       list(['1 shopping', '2 connectivities', '3 educations', '1 hospital', '1 airport', '1 railway station', '1 hotels', '1 stadium']),\n",
       "       list(['5 metro stations', '3 religious places', '6 atms', '9 hospitals', '4 pharmacys', '2 office complexes']),\n",
       "       list(['1 shopping', '1 education', '3 religious places', '2 atms', '2 hospitals', '2 bankss', '1 park', '1 hotels', '2 miscellaneouss'])],\n",
       "      dtype=object)"
      ]
     },
     "execution_count": 13,
     "metadata": {},
     "output_type": "execute_result"
    }
   ],
   "source": [
    "df['FORMATTED_LANDMARK_DETAILS'].sample(8, random_state=10).values"
   ]
  },
  {
   "cell_type": "code",
   "execution_count": 14,
   "metadata": {},
   "outputs": [
    {
     "data": {
      "text/html": [
       "<div>\n",
       "<style scoped>\n",
       "    .dataframe tbody tr th:only-of-type {\n",
       "        vertical-align: middle;\n",
       "    }\n",
       "\n",
       "    .dataframe tbody tr th {\n",
       "        vertical-align: top;\n",
       "    }\n",
       "\n",
       "    .dataframe thead th {\n",
       "        text-align: right;\n",
       "    }\n",
       "</style>\n",
       "<table border=\"1\" class=\"dataframe\">\n",
       "  <thead>\n",
       "    <tr style=\"text-align: right;\">\n",
       "      <th></th>\n",
       "      <th>TOTAL_LANDMARK_COUNT</th>\n",
       "      <th>TRANSPORATION</th>\n",
       "      <th>ACCOMODATION</th>\n",
       "      <th>LEISURE</th>\n",
       "      <th>EDUCATION</th>\n",
       "      <th>HEALTH</th>\n",
       "      <th>OTHER</th>\n",
       "    </tr>\n",
       "  </thead>\n",
       "  <tbody>\n",
       "    <tr>\n",
       "      <th>10066</th>\n",
       "      <td>42.0</td>\n",
       "      <td>3.0</td>\n",
       "      <td>7.0</td>\n",
       "      <td>1.0</td>\n",
       "      <td>0.0</td>\n",
       "      <td>7.0</td>\n",
       "      <td>4.0</td>\n",
       "    </tr>\n",
       "    <tr>\n",
       "      <th>832</th>\n",
       "      <td>12.0</td>\n",
       "      <td>2.0</td>\n",
       "      <td>3.0</td>\n",
       "      <td>3.0</td>\n",
       "      <td>2.0</td>\n",
       "      <td>0.0</td>\n",
       "      <td>2.0</td>\n",
       "    </tr>\n",
       "    <tr>\n",
       "      <th>10123</th>\n",
       "      <td>14.0</td>\n",
       "      <td>2.0</td>\n",
       "      <td>2.0</td>\n",
       "      <td>4.0</td>\n",
       "      <td>2.0</td>\n",
       "      <td>1.0</td>\n",
       "      <td>3.0</td>\n",
       "    </tr>\n",
       "    <tr>\n",
       "      <th>5183</th>\n",
       "      <td>15.0</td>\n",
       "      <td>0.0</td>\n",
       "      <td>4.0</td>\n",
       "      <td>3.0</td>\n",
       "      <td>2.0</td>\n",
       "      <td>2.0</td>\n",
       "      <td>4.0</td>\n",
       "    </tr>\n",
       "    <tr>\n",
       "      <th>4465</th>\n",
       "      <td>10.0</td>\n",
       "      <td>1.0</td>\n",
       "      <td>1.0</td>\n",
       "      <td>2.0</td>\n",
       "      <td>2.0</td>\n",
       "      <td>1.0</td>\n",
       "      <td>3.0</td>\n",
       "    </tr>\n",
       "    <tr>\n",
       "      <th>7405</th>\n",
       "      <td>11.0</td>\n",
       "      <td>2.0</td>\n",
       "      <td>1.0</td>\n",
       "      <td>2.0</td>\n",
       "      <td>3.0</td>\n",
       "      <td>1.0</td>\n",
       "      <td>2.0</td>\n",
       "    </tr>\n",
       "    <tr>\n",
       "      <th>7238</th>\n",
       "      <td>44.0</td>\n",
       "      <td>5.0</td>\n",
       "      <td>8.0</td>\n",
       "      <td>0.0</td>\n",
       "      <td>0.0</td>\n",
       "      <td>13.0</td>\n",
       "      <td>3.0</td>\n",
       "    </tr>\n",
       "    <tr>\n",
       "      <th>4080</th>\n",
       "      <td>15.0</td>\n",
       "      <td>0.0</td>\n",
       "      <td>5.0</td>\n",
       "      <td>2.0</td>\n",
       "      <td>1.0</td>\n",
       "      <td>2.0</td>\n",
       "      <td>5.0</td>\n",
       "    </tr>\n",
       "  </tbody>\n",
       "</table>\n",
       "</div>"
      ],
      "text/plain": [
       "       TOTAL_LANDMARK_COUNT  TRANSPORATION  ACCOMODATION  LEISURE  EDUCATION  \\\n",
       "10066                  42.0            3.0           7.0      1.0        0.0   \n",
       "832                    12.0            2.0           3.0      3.0        2.0   \n",
       "10123                  14.0            2.0           2.0      4.0        2.0   \n",
       "5183                   15.0            0.0           4.0      3.0        2.0   \n",
       "4465                   10.0            1.0           1.0      2.0        2.0   \n",
       "7405                   11.0            2.0           1.0      2.0        3.0   \n",
       "7238                   44.0            5.0           8.0      0.0        0.0   \n",
       "4080                   15.0            0.0           5.0      2.0        1.0   \n",
       "\n",
       "       HEALTH  OTHER  \n",
       "10066     7.0    4.0  \n",
       "832       0.0    2.0  \n",
       "10123     1.0    3.0  \n",
       "5183      2.0    4.0  \n",
       "4465      1.0    3.0  \n",
       "7405      1.0    2.0  \n",
       "7238     13.0    3.0  \n",
       "4080      2.0    5.0  "
      ]
     },
     "execution_count": 14,
     "metadata": {},
     "output_type": "execute_result"
    }
   ],
   "source": [
    "df[['TOTAL_LANDMARK_COUNT', *landmark_groups.keys()]].sample(8, random_state=10)"
   ]
  },
  {
   "cell_type": "markdown",
   "metadata": {},
   "source": [
    "## AMENITIES"
   ]
  },
  {
   "cell_type": "code",
   "execution_count": 15,
   "metadata": {},
   "outputs": [
    {
     "data": {
      "text/plain": [
       "9904               [17, 20, 21, 23, 6, 19, 101, 102, 103]\n",
       "2273    [17, 20, 44, 23, 45, 24, 46, 19, 6, 9, 40, 30,...\n",
       "3011         [5, 32, 23, 24, 6, 29, 19, 25, 26, 101, 102]\n",
       "3928             [5, 17, 20, 21, 23, 24, 6, 19, 101, 102]\n",
       "9599    [10, 32, 17, 5, 8, 20, 21, 44, 23, 45, 24, 46,...\n",
       "Name: AMENITIES, dtype: object"
      ]
     },
     "execution_count": 15,
     "metadata": {},
     "output_type": "execute_result"
    }
   ],
   "source": [
    "df['AMENITIES'] = df['AMENITIES'].apply(\n",
    "    lambda x: [] if isinstance(x, float) else list(map(int, literal_eval(x)))\n",
    ")\n",
    "df['AMENITIES'].sample(5)"
   ]
  },
  {
   "cell_type": "code",
   "execution_count": 16,
   "metadata": {},
   "outputs": [
    {
     "name": "stdout",
     "output_type": "stream",
     "text": [
      "36\n",
      "[nan, 1, 2, 3, 5, 6, 8, 9, 10, 12, 17, 19, 20, 21, 23, 24, 25, 26, 28, 29, 30, 31, 32, 33, 39, 40, 41, 42, 43, 44, 45, 46, 47, 101, 102, 103]\n"
     ]
    }
   ],
   "source": [
    "unique_amenities = df['AMENITIES'].explode().unique().tolist()\n",
    "print(len(unique_amenities))\n",
    "print(sorted(unique_amenities))"
   ]
  },
  {
   "cell_type": "code",
   "execution_count": 17,
   "metadata": {},
   "outputs": [
    {
     "name": "stdout",
     "output_type": "stream",
     "text": [
      "(33, 4)\n"
     ]
    },
    {
     "data": {
      "text/html": [
       "<div>\n",
       "<style scoped>\n",
       "    .dataframe tbody tr th:only-of-type {\n",
       "        vertical-align: middle;\n",
       "    }\n",
       "\n",
       "    .dataframe tbody tr th {\n",
       "        vertical-align: top;\n",
       "    }\n",
       "\n",
       "    .dataframe thead th {\n",
       "        text-align: right;\n",
       "    }\n",
       "</style>\n",
       "<table border=\"1\" class=\"dataframe\">\n",
       "  <thead>\n",
       "    <tr style=\"text-align: right;\">\n",
       "      <th></th>\n",
       "      <th>id</th>\n",
       "      <th>category</th>\n",
       "      <th>type</th>\n",
       "      <th>label</th>\n",
       "    </tr>\n",
       "  </thead>\n",
       "  <tbody>\n",
       "    <tr>\n",
       "      <th>0</th>\n",
       "      <td>25</td>\n",
       "      <td>Other Features</td>\n",
       "      <td>FEATURES_RESIDENTIAL</td>\n",
       "      <td>Waste Disposal</td>\n",
       "    </tr>\n",
       "    <tr>\n",
       "      <th>1</th>\n",
       "      <td>26</td>\n",
       "      <td>Other Features</td>\n",
       "      <td>FEATURES_RESIDENTIAL</td>\n",
       "      <td>Rain Water Harvesting</td>\n",
       "    </tr>\n",
       "    <tr>\n",
       "      <th>2</th>\n",
       "      <td>28</td>\n",
       "      <td>Other Features</td>\n",
       "      <td>FEATURES_COMMERCIAL</td>\n",
       "      <td>Bank Attached Property</td>\n",
       "    </tr>\n",
       "    <tr>\n",
       "      <th>3</th>\n",
       "      <td>2</td>\n",
       "      <td>Property Feature</td>\n",
       "      <td>FEATURES_COMMERCIAL</td>\n",
       "      <td>Power Back-up</td>\n",
       "    </tr>\n",
       "    <tr>\n",
       "      <th>4</th>\n",
       "      <td>5</td>\n",
       "      <td>Property Feature</td>\n",
       "      <td>FEATURES_RESIDENTIAL</td>\n",
       "      <td>Feng Shui / Vaastu Compliant</td>\n",
       "    </tr>\n",
       "  </tbody>\n",
       "</table>\n",
       "</div>"
      ],
      "text/plain": [
       "   id          category                  type                         label\n",
       "0  25    Other Features  FEATURES_RESIDENTIAL                Waste Disposal\n",
       "1  26    Other Features  FEATURES_RESIDENTIAL         Rain Water Harvesting\n",
       "2  28    Other Features   FEATURES_COMMERCIAL        Bank Attached Property\n",
       "3   2  Property Feature   FEATURES_COMMERCIAL                 Power Back-up\n",
       "4   5  Property Feature  FEATURES_RESIDENTIAL  Feng Shui / Vaastu Compliant"
      ]
     },
     "execution_count": 17,
     "metadata": {},
     "output_type": "execute_result"
    }
   ],
   "source": [
    "amenity_df = pd.read_csv('data/facets/AMENITIES.csv')\n",
    "print(amenity_df.shape)\n",
    "amenity_df.head()"
   ]
  },
  {
   "cell_type": "code",
   "execution_count": 18,
   "metadata": {},
   "outputs": [
    {
     "data": {
      "text/plain": [
       "array([ 1,  2,  3,  5,  6,  8,  9, 10, 11, 12, 13, 15, 16, 17, 19, 20, 21,\n",
       "       22, 23, 24, 25, 26, 27, 28, 29, 32, 33, 34, 35, 36, 37, 38, 39])"
      ]
     },
     "execution_count": 18,
     "metadata": {},
     "output_type": "execute_result"
    }
   ],
   "source": [
    "amenity_df['id'].sort_values().values"
   ]
  },
  {
   "cell_type": "code",
   "execution_count": 19,
   "metadata": {},
   "outputs": [
    {
     "data": {
      "text/plain": [
       "array(['Waste Disposal', 'Rain Water Harvesting',\n",
       "       'Bank Attached Property', 'Power Back-up',\n",
       "       'Feng Shui / Vaastu Compliant', 'Private Garden / Terrace',\n",
       "       'Centrally Air Conditioned', 'Security / Fire Alarm',\n",
       "       'Intercom Facility', 'Water Storage', 'Piped-gas',\n",
       "       'Water purifier', 'Near Bank', 'Swimming Pool',\n",
       "       'Club house / Community Center', 'Park', 'Security Personnel',\n",
       "       'Fitness Centre / GYM', 'Visitor Parking', 'Lift(s)',\n",
       "       'Maintenance Staff', 'Shopping Centre',\n",
       "       'WheelChair Accessibilitiy', 'DG Availability',\n",
       "       'CCTV Surveillance', 'Grade A Building', 'Grocery Shop', 'ATM',\n",
       "       'Cafeteria / Food Court', 'Bar / Lounge', 'Conference room',\n",
       "       'Service / Goods Lift', 'Access to High Speed Internet'],\n",
       "      dtype=object)"
      ]
     },
     "execution_count": 19,
     "metadata": {},
     "output_type": "execute_result"
    }
   ],
   "source": [
    "amenity_df['label'].values"
   ]
  },
  {
   "cell_type": "code",
   "execution_count": 20,
   "metadata": {},
   "outputs": [],
   "source": [
    "amenity_values = {\n",
    "    'Waste Disposal': 5,\n",
    "    'Rain Water Harvesting': 7,\n",
    "    'Bank Attached Property': 3,\n",
    "    'Power Back-up': 9,\n",
    "    'Feng Shui / Vaastu Compliant': 6,\n",
    "    'Private Garden / Terrace': 8,\n",
    "    'Centrally Air Conditioned': 9,\n",
    "    'Security / Fire Alarm': 9,\n",
    "    'Intercom Facility': 7,\n",
    "    'Water Storage': 6,\n",
    "    'Piped-gas': 4,\n",
    "    'Water purifier': 6,\n",
    "    'Near Bank': 5,\n",
    "    'Swimming Pool': 8,\n",
    "    'Club house / Community Center': 7,\n",
    "    'Park': 8,\n",
    "    'Security Personnel': 9,\n",
    "    'Fitness Centre / GYM': 8,\n",
    "    'Visitor Parking': 6,\n",
    "    'Lift(s)': 8,\n",
    "    'Maintenance Staff': 5,\n",
    "    'Shopping Centre': 7,\n",
    "    'WheelChair Accessibilitiy': 4,\n",
    "    'DG Availability': 7,\n",
    "    'CCTV Surveillance': 9,\n",
    "    'Grade A Building': 7,\n",
    "    'Grocery Shop': 5,\n",
    "    'ATM': 6,\n",
    "    'Cafeteria / Food Court': 6,\n",
    "    'Bar / Lounge': 7,\n",
    "    'Conference room': 6,\n",
    "    'Service / Goods Lift': 6,\n",
    "    'Access to High Speed Internet': 8,\n",
    "}"
   ]
  },
  {
   "cell_type": "code",
   "execution_count": 21,
   "metadata": {},
   "outputs": [],
   "source": [
    "amenity_df['values'] = amenity_df['label'].map(amenity_values, 'ignore')"
   ]
  },
  {
   "cell_type": "code",
   "execution_count": 22,
   "metadata": {},
   "outputs": [],
   "source": [
    "amenity_value_lookup: dict[str, int] = (\n",
    "    amenity_df[['id', 'values']].set_index('id').to_dict()['values']\n",
    ")"
   ]
  },
  {
   "cell_type": "code",
   "execution_count": 23,
   "metadata": {},
   "outputs": [],
   "source": [
    "def handle_amenities(x: list[str]) -> float | int:\n",
    "    if isinstance(x, float):\n",
    "        return x\n",
    "\n",
    "    total_sum = sum(amenity_value_lookup.get(i, 0) for i in x)\n",
    "    return total_sum"
   ]
  },
  {
   "cell_type": "code",
   "execution_count": 24,
   "metadata": {},
   "outputs": [
    {
     "data": {
      "text/plain": [
       "count    10162.000000\n",
       "mean        77.642393\n",
       "std         43.841759\n",
       "min          0.000000\n",
       "25%         43.000000\n",
       "50%         76.000000\n",
       "75%        116.000000\n",
       "max        150.000000\n",
       "Name: AMENITIES_SCORE, dtype: float64"
      ]
     },
     "execution_count": 24,
     "metadata": {},
     "output_type": "execute_result"
    }
   ],
   "source": [
    "df['AMENITIES_SCORE'] = df['AMENITIES'].apply(handle_amenities)\n",
    "df['AMENITIES_SCORE'].describe()"
   ]
  },
  {
   "cell_type": "code",
   "execution_count": 25,
   "metadata": {},
   "outputs": [
    {
     "data": {
      "text/plain": [
       "(0, 150)"
      ]
     },
     "execution_count": 25,
     "metadata": {},
     "output_type": "execute_result"
    }
   ],
   "source": [
    "df['AMENITIES_SCORE'].min(), df['AMENITIES_SCORE'].max()  # Suprising result (0, 150)"
   ]
  },
  {
   "cell_type": "code",
   "execution_count": 26,
   "metadata": {},
   "outputs": [
    {
     "data": {
      "text/plain": [
       "<Axes: >"
      ]
     },
     "execution_count": 26,
     "metadata": {},
     "output_type": "execute_result"
    },
    {
     "data": {
      "image/png": "[encoded data removed]",
      "text/plain": [
       "<Figure size 640x480 with 1 Axes>"
      ]
     },
     "metadata": {},
     "output_type": "display_data"
    }
   ],
   "source": [
    "df['AMENITIES_SCORE'].plot.box()"
   ]
  },
  {
   "cell_type": "code",
   "execution_count": 27,
   "metadata": {},
   "outputs": [
    {
     "data": {
      "text/plain": [
       "<Axes: xlabel='AMENITIES_SCORE', ylabel='Count'>"
      ]
     },
     "execution_count": 27,
     "metadata": {},
     "output_type": "execute_result"
    },
    {
     "data": {
      "image/png": "[encoded data removed]",
      "text/plain": [
       "<Figure size 640x480 with 1 Axes>"
      ]
     },
     "metadata": {},
     "output_type": "display_data"
    }
   ],
   "source": [
    "sns.histplot(df['AMENITIES_SCORE'], kde=True)"
   ]
  },
  {
   "cell_type": "markdown",
   "metadata": {},
   "source": [
    "## FEATURES"
   ]
  },
  {
   "cell_type": "code",
   "execution_count": 28,
   "metadata": {},
   "outputs": [],
   "source": [
    "def eval_features(x):\n",
    "    if isinstance(x, float):\n",
    "        return []\n",
    "\n",
    "    rv = []\n",
    "    for i in literal_eval(x):\n",
    "        if i.isnumeric():\n",
    "            rv.append(int(i))\n",
    "        else:\n",
    "            rv.append(i)\n",
    "    return rv"
   ]
  },
  {
   "cell_type": "code",
   "execution_count": 29,
   "metadata": {},
   "outputs": [
    {
     "data": {
      "text/plain": [
       "8068    [44, 23, 45, 24, 46, 47, 25, 26, 28, 29, 30, 3...\n",
       "2518    [44, 23, 45, 24, 46, 25, 47, 26, 29, 30, 31, 1...\n",
       "5108                                             [23, 26]\n",
       "1172    [44, 23, 45, 24, 46, 25, 47, 26, 29, 30, 31, 1...\n",
       "2843    [44, 23, 45, 24, 17, 39, 29, 19, 5, 6, 30, 20,...\n",
       "Name: FEATURES, dtype: object"
      ]
     },
     "execution_count": 29,
     "metadata": {},
     "output_type": "execute_result"
    }
   ],
   "source": [
    "df['FEATURES'] = df['FEATURES'].apply(eval_features)\n",
    "df['FEATURES'].sample(5)"
   ]
  },
  {
   "cell_type": "code",
   "execution_count": 30,
   "metadata": {},
   "outputs": [
    {
     "name": "stdout",
     "output_type": "stream",
     "text": [
      "35\n"
     ]
    },
    {
     "data": {
      "text/plain": [
       "array(['n', 23, 24, 5, 17, 6, 19, 20, 21, 33, 45, 12, 25, 47, 26, 28, 1,\n",
       "       3, 9, 40, 41, 42, 32, 29, 44, 46, 39, 8, 30, 10, 43, 'f', 31, 2,\n",
       "       'p'], dtype=object)"
      ]
     },
     "execution_count": 30,
     "metadata": {},
     "output_type": "execute_result"
    }
   ],
   "source": [
    "unique_features = df['FEATURES'].explode().unique()\n",
    "print(len(unique_features))\n",
    "unique_features"
   ]
  },
  {
   "cell_type": "code",
   "execution_count": 31,
   "metadata": {},
   "outputs": [
    {
     "name": "stdout",
     "output_type": "stream",
     "text": [
      "(14, 2)\n"
     ]
    },
    {
     "data": {
      "text/html": [
       "<div>\n",
       "<style scoped>\n",
       "    .dataframe tbody tr th:only-of-type {\n",
       "        vertical-align: middle;\n",
       "    }\n",
       "\n",
       "    .dataframe tbody tr th {\n",
       "        vertical-align: top;\n",
       "    }\n",
       "\n",
       "    .dataframe thead th {\n",
       "        text-align: right;\n",
       "    }\n",
       "</style>\n",
       "<table border=\"1\" class=\"dataframe\">\n",
       "  <thead>\n",
       "    <tr style=\"text-align: right;\">\n",
       "      <th></th>\n",
       "      <th>id</th>\n",
       "      <th>label</th>\n",
       "    </tr>\n",
       "  </thead>\n",
       "  <tbody>\n",
       "    <tr>\n",
       "      <th>0</th>\n",
       "      <td>4</td>\n",
       "      <td>Parking</td>\n",
       "    </tr>\n",
       "    <tr>\n",
       "      <th>1</th>\n",
       "      <td>6</td>\n",
       "      <td>Park</td>\n",
       "    </tr>\n",
       "    <tr>\n",
       "      <th>2</th>\n",
       "      <td>2</td>\n",
       "      <td>Power Backup</td>\n",
       "    </tr>\n",
       "    <tr>\n",
       "      <th>3</th>\n",
       "      <td>21</td>\n",
       "      <td>Lift</td>\n",
       "    </tr>\n",
       "    <tr>\n",
       "      <th>4</th>\n",
       "      <td>12</td>\n",
       "      <td>Gymnasium</td>\n",
       "    </tr>\n",
       "  </tbody>\n",
       "</table>\n",
       "</div>"
      ],
      "text/plain": [
       "   id         label\n",
       "0   4       Parking\n",
       "1   6          Park\n",
       "2   2  Power Backup\n",
       "3  21          Lift\n",
       "4  12     Gymnasium"
      ]
     },
     "execution_count": 31,
     "metadata": {},
     "output_type": "execute_result"
    }
   ],
   "source": [
    "features_df = pd.read_csv('data/facets/FEATURES.csv')\n",
    "print(features_df.shape)\n",
    "features_df.head()"
   ]
  },
  {
   "cell_type": "code",
   "execution_count": 32,
   "metadata": {},
   "outputs": [
    {
     "data": {
      "text/plain": [
       "array(['Parking', 'Park', 'Power Backup', 'Lift', 'Gymnasium',\n",
       "       'Club house', 'Waste disposal', 'Swimming Pool',\n",
       "       'Security Personnel', 'Gas Pipeline', 'Near bank',\n",
       "       'DG Availability', 'Wheelchair Accessibility', 'ATM'], dtype=object)"
      ]
     },
     "execution_count": 32,
     "metadata": {},
     "output_type": "execute_result"
    }
   ],
   "source": [
    "features_df['label'].values"
   ]
  },
  {
   "cell_type": "code",
   "execution_count": 33,
   "metadata": {},
   "outputs": [],
   "source": [
    "features_values = {\n",
    "    'Parking': 5,\n",
    "    'Park': 7,\n",
    "    'Power Backup': 9,\n",
    "    'Lift': 8,\n",
    "    'Gymnasium': 8,\n",
    "    'Club house': 7,\n",
    "    'Waste disposal': 5,\n",
    "    'Swimming Pool': 8,\n",
    "    'Security Personnel': 9,\n",
    "    'Gas Pipeline': 6,\n",
    "    'Near bank': 5,\n",
    "    'DG Availability': 7,\n",
    "    'Wheelchair Accessibility': 4,\n",
    "    'ATM': 6,\n",
    "}"
   ]
  },
  {
   "cell_type": "code",
   "execution_count": 34,
   "metadata": {},
   "outputs": [
    {
     "data": {
      "text/html": [
       "<div>\n",
       "<style scoped>\n",
       "    .dataframe tbody tr th:only-of-type {\n",
       "        vertical-align: middle;\n",
       "    }\n",
       "\n",
       "    .dataframe tbody tr th {\n",
       "        vertical-align: top;\n",
       "    }\n",
       "\n",
       "    .dataframe thead th {\n",
       "        text-align: right;\n",
       "    }\n",
       "</style>\n",
       "<table border=\"1\" class=\"dataframe\">\n",
       "  <thead>\n",
       "    <tr style=\"text-align: right;\">\n",
       "      <th></th>\n",
       "      <th>id</th>\n",
       "      <th>label</th>\n",
       "      <th>values</th>\n",
       "    </tr>\n",
       "  </thead>\n",
       "  <tbody>\n",
       "    <tr>\n",
       "      <th>0</th>\n",
       "      <td>4</td>\n",
       "      <td>Parking</td>\n",
       "      <td>5</td>\n",
       "    </tr>\n",
       "    <tr>\n",
       "      <th>1</th>\n",
       "      <td>6</td>\n",
       "      <td>Park</td>\n",
       "      <td>7</td>\n",
       "    </tr>\n",
       "    <tr>\n",
       "      <th>2</th>\n",
       "      <td>2</td>\n",
       "      <td>Power Backup</td>\n",
       "      <td>9</td>\n",
       "    </tr>\n",
       "    <tr>\n",
       "      <th>3</th>\n",
       "      <td>21</td>\n",
       "      <td>Lift</td>\n",
       "      <td>8</td>\n",
       "    </tr>\n",
       "    <tr>\n",
       "      <th>4</th>\n",
       "      <td>12</td>\n",
       "      <td>Gymnasium</td>\n",
       "      <td>8</td>\n",
       "    </tr>\n",
       "    <tr>\n",
       "      <th>5</th>\n",
       "      <td>3</td>\n",
       "      <td>Club house</td>\n",
       "      <td>7</td>\n",
       "    </tr>\n",
       "    <tr>\n",
       "      <th>6</th>\n",
       "      <td>25</td>\n",
       "      <td>Waste disposal</td>\n",
       "      <td>5</td>\n",
       "    </tr>\n",
       "    <tr>\n",
       "      <th>7</th>\n",
       "      <td>1</td>\n",
       "      <td>Swimming Pool</td>\n",
       "      <td>8</td>\n",
       "    </tr>\n",
       "    <tr>\n",
       "      <th>8</th>\n",
       "      <td>9</td>\n",
       "      <td>Security Personnel</td>\n",
       "      <td>9</td>\n",
       "    </tr>\n",
       "    <tr>\n",
       "      <th>9</th>\n",
       "      <td>29</td>\n",
       "      <td>Gas Pipeline</td>\n",
       "      <td>6</td>\n",
       "    </tr>\n",
       "    <tr>\n",
       "      <th>10</th>\n",
       "      <td>39</td>\n",
       "      <td>Near bank</td>\n",
       "      <td>5</td>\n",
       "    </tr>\n",
       "    <tr>\n",
       "      <th>11</th>\n",
       "      <td>35</td>\n",
       "      <td>DG Availability</td>\n",
       "      <td>7</td>\n",
       "    </tr>\n",
       "    <tr>\n",
       "      <th>12</th>\n",
       "      <td>34</td>\n",
       "      <td>Wheelchair Accessibility</td>\n",
       "      <td>4</td>\n",
       "    </tr>\n",
       "    <tr>\n",
       "      <th>13</th>\n",
       "      <td>11</td>\n",
       "      <td>ATM</td>\n",
       "      <td>6</td>\n",
       "    </tr>\n",
       "  </tbody>\n",
       "</table>\n",
       "</div>"
      ],
      "text/plain": [
       "    id                     label  values\n",
       "0    4                   Parking       5\n",
       "1    6                      Park       7\n",
       "2    2              Power Backup       9\n",
       "3   21                      Lift       8\n",
       "4   12                 Gymnasium       8\n",
       "5    3                Club house       7\n",
       "6   25            Waste disposal       5\n",
       "7    1             Swimming Pool       8\n",
       "8    9        Security Personnel       9\n",
       "9   29              Gas Pipeline       6\n",
       "10  39                 Near bank       5\n",
       "11  35           DG Availability       7\n",
       "12  34  Wheelchair Accessibility       4\n",
       "13  11                       ATM       6"
      ]
     },
     "execution_count": 34,
     "metadata": {},
     "output_type": "execute_result"
    }
   ],
   "source": [
    "features_df['values'] = features_df['label'].map(features_values, 'ignore')\n",
    "features_df"
   ]
  },
  {
   "cell_type": "code",
   "execution_count": 35,
   "metadata": {},
   "outputs": [
    {
     "name": "stdout",
     "output_type": "stream",
     "text": [
      "{4: 5, 6: 7, 2: 9, 21: 8, 12: 8, 3: 7, 25: 5, 1: 8, 9: 9, 29: 6, 39: 5, 35: 7, 34: 4, 11: 6}\n"
     ]
    }
   ],
   "source": [
    "features_value_lookup: dict[str, int] = (\n",
    "    features_df[['id', 'values']].set_index('id').to_dict()['values']\n",
    ")\n",
    "print(features_value_lookup)"
   ]
  },
  {
   "cell_type": "code",
   "execution_count": 36,
   "metadata": {},
   "outputs": [],
   "source": [
    "def handle_features(x: list[str]) -> float | int:\n",
    "    if isinstance(x, (float, int)):\n",
    "        return x\n",
    "\n",
    "    total_sum = sum(features_value_lookup.get(i, 0) for i in x)\n",
    "    return total_sum"
   ]
  },
  {
   "cell_type": "code",
   "execution_count": 37,
   "metadata": {},
   "outputs": [
    {
     "data": {
      "text/plain": [
       "count    10162.000000\n",
       "mean        35.643279\n",
       "std         24.204278\n",
       "min          0.000000\n",
       "25%         15.000000\n",
       "50%         40.000000\n",
       "75%         58.000000\n",
       "max         72.000000\n",
       "Name: FEATURES_SCORE, dtype: float64"
      ]
     },
     "execution_count": 37,
     "metadata": {},
     "output_type": "execute_result"
    }
   ],
   "source": [
    "df['FEATURES_SCORE'] = df['FEATURES'].apply(handle_features)\n",
    "df['FEATURES_SCORE'].describe()"
   ]
  },
  {
   "cell_type": "code",
   "execution_count": 38,
   "metadata": {},
   "outputs": [
    {
     "data": {
      "text/plain": [
       "(0, 72)"
      ]
     },
     "execution_count": 38,
     "metadata": {},
     "output_type": "execute_result"
    }
   ],
   "source": [
    "df['FEATURES_SCORE'].min(), df['FEATURES_SCORE'].max()"
   ]
  },
  {
   "cell_type": "markdown",
   "metadata": {},
   "source": [
    "## AGE"
   ]
  },
  {
   "cell_type": "code",
   "execution_count": 39,
   "metadata": {},
   "outputs": [],
   "source": [
    "def eval_numeric_values(x: str | float):\n",
    "    if isinstance(x, float):\n",
    "        return x\n",
    "\n",
    "    x = x.replace('.', '')\n",
    "    if x.isnumeric():\n",
    "        return int(x)\n",
    "    return x"
   ]
  },
  {
   "cell_type": "code",
   "execution_count": 40,
   "metadata": {},
   "outputs": [
    {
     "name": "stdout",
     "output_type": "stream",
     "text": [
      "6\n"
     ]
    },
    {
     "data": {
      "text/plain": [
       "array([5, 6, 1, 3, 0, 2])"
      ]
     },
     "execution_count": 40,
     "metadata": {},
     "output_type": "execute_result"
    }
   ],
   "source": [
    "print(df['AGE'].nunique())\n",
    "df['AGE'].unique()"
   ]
  },
  {
   "cell_type": "code",
   "execution_count": 41,
   "metadata": {},
   "outputs": [
    {
     "data": {
      "text/plain": [
       "AGE\n",
       "1    3757\n",
       "6    2243\n",
       "2    1551\n",
       "5    1013\n",
       "0     990\n",
       "3     608\n",
       "Name: count, dtype: int64"
      ]
     },
     "execution_count": 41,
     "metadata": {},
     "output_type": "execute_result"
    }
   ],
   "source": [
    "df['AGE'].value_counts()"
   ]
  },
  {
   "cell_type": "code",
   "execution_count": 42,
   "metadata": {},
   "outputs": [
    {
     "name": "stdout",
     "output_type": "stream",
     "text": [
      "null values: 0\n"
     ]
    },
    {
     "data": {
      "text/plain": [
       "AGE\n",
       "1-5 Year Old Property     3757\n",
       "0-1 Year Old Property     2243\n",
       "5-10 Year Old Property    1551\n",
       "Under Construction        1013\n",
       "Undefined                  990\n",
       "10+ Year Old Property      608\n",
       "Name: count, dtype: int64"
      ]
     },
     "execution_count": 42,
     "metadata": {},
     "output_type": "execute_result"
    }
   ],
   "source": [
    "temp = pd.read_csv('data/facets/AGE.csv')\n",
    "value_lookup = temp.set_index('id').to_dict()['label']\n",
    "df['AGE'] = df['AGE'].map(value_lookup)\n",
    "\n",
    "print('null values:', df['AGE'].isnull().sum())\n",
    "df['AGE'].value_counts()"
   ]
  },
  {
   "cell_type": "markdown",
   "metadata": {},
   "source": [
    "## TOTAL_FLOOR"
   ]
  },
  {
   "cell_type": "code",
   "execution_count": 43,
   "metadata": {},
   "outputs": [],
   "source": [
    "df['TOTAL_FLOOR'] = df['TOTAL_FLOOR'].apply(eval_numeric_values)"
   ]
  },
  {
   "cell_type": "code",
   "execution_count": 44,
   "metadata": {},
   "outputs": [
    {
     "name": "stdout",
     "output_type": "stream",
     "text": [
      "49\n"
     ]
    },
    {
     "data": {
      "text/plain": [
       "array([25., 24., 20., 22., 29., 14.,  4.,  2., 32., 39.,  0., 42.,  3.,\n",
       "       26., 36., 12., 28., 13.,  5.,  1., nan, 18., 17., 30.,  8., 35.,\n",
       "       40., 33., 15., 38., 34., 10., 43., 21., 19., 16., 11., 47., 27.,\n",
       "        9., 44.,  6., 51., 23.,  7., 31., 41., 45., 50., 48.])"
      ]
     },
     "execution_count": 44,
     "metadata": {},
     "output_type": "execute_result"
    }
   ],
   "source": [
    "print(df['TOTAL_FLOOR'].nunique())\n",
    "df['TOTAL_FLOOR'].unique()"
   ]
  },
  {
   "cell_type": "markdown",
   "metadata": {},
   "source": [
    "## FLOOR_NUM"
   ]
  },
  {
   "cell_type": "code",
   "execution_count": 45,
   "metadata": {},
   "outputs": [],
   "source": [
    "df['FLOOR_NUM'] = df['FLOOR_NUM'].apply(eval_numeric_values)"
   ]
  },
  {
   "cell_type": "code",
   "execution_count": 46,
   "metadata": {},
   "outputs": [
    {
     "name": "stdout",
     "output_type": "stream",
     "text": [
      "47\n"
     ]
    },
    {
     "data": {
      "text/plain": [
       "array([10, 60, 20, 30, 40, nan, 1, 4, 'g', 2, 12, 17, 15, 3, 6, 28, 7, 16,\n",
       "       9, 14, 18, 8, 26, 24, 23, 19, 5, 22, 13, 11, 21, 35, 32, 0, 'l',\n",
       "       27, 31, 25, 38, 29, 39, 'b', 33, 37, 34, 36, 41, 43], dtype=object)"
      ]
     },
     "execution_count": 46,
     "metadata": {},
     "output_type": "execute_result"
    }
   ],
   "source": [
    "print(df['FLOOR_NUM'].nunique())\n",
    "df['FLOOR_NUM'].unique()"
   ]
  },
  {
   "cell_type": "markdown",
   "metadata": {},
   "source": [
    "## Categorize `FLOOR_NUM, TOTAL_FLOOR`"
   ]
  },
  {
   "cell_type": "markdown",
   "metadata": {},
   "source": [
    "I am not going to decode the `FLOOR_NUM, TOTAL_FLOOR` fetures because they are just same value after encodeing.\n",
    "\n",
    "**See:**\n",
    "\n",
    "- [FLOOR_NUM.csv](../data/facets/FLOOR_NUM.csv)\n",
    "- [TOTAL_FLOOR.csv](../data/facets/TOTAL_FLOOR.csv)"
   ]
  },
  {
   "cell_type": "code",
   "execution_count": 47,
   "metadata": {},
   "outputs": [
    {
     "name": "stdout",
     "output_type": "stream",
     "text": [
      "FLOOR_NUM\n",
      "<15      7024\n",
      ">30      2006\n",
      "15-30     736\n",
      "g         373\n",
      "l          18\n",
      "b           5\n",
      "Name: count, dtype: int64\n",
      "TOTAL_FLOOR\n",
      "<15      5879\n",
      "15-30    2908\n",
      ">30      1375\n",
      "Name: count, dtype: int64\n"
     ]
    }
   ],
   "source": [
    "temp_cols = ['FLOOR_NUM', 'TOTAL_FLOOR']\n",
    "\n",
    "for col in temp_cols:\n",
    "    df[col] = df[col].apply(\n",
    "        lambda x: x\n",
    "        if isinstance(x, str)\n",
    "        else '<15'\n",
    "        if x < 15\n",
    "        else '15-30'\n",
    "        if (x >= 15 and x < 30)\n",
    "        else '>30'\n",
    "    )\n",
    "\n",
    "    print(df[col].value_counts())"
   ]
  },
  {
   "cell_type": "markdown",
   "metadata": {},
   "source": [
    "# General Step - End"
   ]
  },
  {
   "cell_type": "code",
   "execution_count": 48,
   "metadata": {},
   "outputs": [
    {
     "data": {
      "text/plain": [
       "Index(['SPID', 'PROP_ID', 'CITY', 'PRICE', 'PRICE_SQFT', 'AREA',\n",
       "       'TOTAL_LANDMARK_COUNT', 'FORMATTED_LANDMARK_DETAILS', 'PROP_HEADING',\n",
       "       'DESCRIPTION', 'PROPERTY_TYPE', 'FURNISH', 'FACING', 'AGE',\n",
       "       'TOTAL_FLOOR', 'FEATURES', 'BEDROOM_NUM', 'AMENITIES', 'PROP_NAME',\n",
       "       'BALCONY_NUM', 'FLOOR_NUM', 'LATITUDE', 'LONGITUDE', 'BHK_BED',\n",
       "       'LOCALITY_NAME', 'BUILDING_NAME', 'SOCIETY_NAME', 'ADDRESS',\n",
       "       'TRANSPORATION', 'ACCOMODATION', 'LEISURE', 'EDUCATION', 'HEALTH',\n",
       "       'OTHER', 'AMENITIES_SCORE', 'FEATURES_SCORE'],\n",
       "      dtype='object')"
      ]
     },
     "execution_count": 48,
     "metadata": {},
     "output_type": "execute_result"
    }
   ],
   "source": [
    "df.columns"
   ]
  },
  {
   "cell_type": "code",
   "execution_count": 49,
   "metadata": {},
   "outputs": [
    {
     "data": {
      "text/plain": [
       "SPID                             0\n",
       "PROP_ID                          0\n",
       "CITY                             0\n",
       "PRICE                            0\n",
       "PRICE_SQFT                       0\n",
       "AREA                             0\n",
       "TOTAL_LANDMARK_COUNT           111\n",
       "FORMATTED_LANDMARK_DETAILS       0\n",
       "PROP_HEADING                     0\n",
       "DESCRIPTION                      0\n",
       "PROPERTY_TYPE                    0\n",
       "FURNISH                          0\n",
       "FACING                           0\n",
       "AGE                              0\n",
       "TOTAL_FLOOR                      0\n",
       "FEATURES                         0\n",
       "BEDROOM_NUM                    998\n",
       "AMENITIES                        0\n",
       "PROP_NAME                     1836\n",
       "BALCONY_NUM                   1147\n",
       "FLOOR_NUM                        0\n",
       "LATITUDE                         0\n",
       "LONGITUDE                        0\n",
       "BHK_BED                        998\n",
       "LOCALITY_NAME                    0\n",
       "BUILDING_NAME                 1836\n",
       "SOCIETY_NAME                  1836\n",
       "ADDRESS                       5201\n",
       "TRANSPORATION                    0\n",
       "ACCOMODATION                     0\n",
       "LEISURE                          0\n",
       "EDUCATION                        0\n",
       "HEALTH                           0\n",
       "OTHER                            0\n",
       "AMENITIES_SCORE                  0\n",
       "FEATURES_SCORE                   0\n",
       "dtype: int64"
      ]
     },
     "execution_count": 49,
     "metadata": {},
     "output_type": "execute_result"
    }
   ],
   "source": [
    "df.isnull().sum()"
   ]
  },
  {
   "cell_type": "code",
   "execution_count": 50,
   "metadata": {},
   "outputs": [],
   "source": [
    "drop_cols = 'FORMATTED_LANDMARK_DETAILS AMENITIES FEATURES'.split()\n",
    "df.drop(columns=drop_cols, inplace=True)\n",
    "df.shape"
   ]
  },
  {
   "cell_type": "code",
   "execution_count": 51,
   "metadata": {},
   "outputs": [
    {
     "data": {
      "text/html": [
       "<div>\n",
       "<style scoped>\n",
       "    .dataframe tbody tr th:only-of-type {\n",
       "        vertical-align: middle;\n",
       "    }\n",
       "\n",
       "    .dataframe tbody tr th {\n",
       "        vertical-align: top;\n",
       "    }\n",
       "\n",
       "    .dataframe thead th {\n",
       "        text-align: right;\n",
       "    }\n",
       "</style>\n",
       "<table border=\"1\" class=\"dataframe\">\n",
       "  <thead>\n",
       "    <tr style=\"text-align: right;\">\n",
       "      <th></th>\n",
       "      <th>SPID</th>\n",
       "      <th>PROP_ID</th>\n",
       "      <th>CITY</th>\n",
       "      <th>PRICE</th>\n",
       "      <th>PRICE_SQFT</th>\n",
       "      <th>AREA</th>\n",
       "      <th>TOTAL_LANDMARK_COUNT</th>\n",
       "      <th>PROP_HEADING</th>\n",
       "      <th>DESCRIPTION</th>\n",
       "      <th>PROPERTY_TYPE</th>\n",
       "      <th>FURNISH</th>\n",
       "      <th>FACING</th>\n",
       "      <th>AGE</th>\n",
       "      <th>TOTAL_FLOOR</th>\n",
       "      <th>BEDROOM_NUM</th>\n",
       "      <th>PROP_NAME</th>\n",
       "      <th>BALCONY_NUM</th>\n",
       "      <th>FLOOR_NUM</th>\n",
       "      <th>LATITUDE</th>\n",
       "      <th>LONGITUDE</th>\n",
       "      <th>BHK_BED</th>\n",
       "      <th>LOCALITY_NAME</th>\n",
       "      <th>BUILDING_NAME</th>\n",
       "      <th>SOCIETY_NAME</th>\n",
       "      <th>ADDRESS</th>\n",
       "      <th>TRANSPORATION</th>\n",
       "      <th>ACCOMODATION</th>\n",
       "      <th>LEISURE</th>\n",
       "      <th>EDUCATION</th>\n",
       "      <th>HEALTH</th>\n",
       "      <th>OTHER</th>\n",
       "      <th>AMENITIES_SCORE</th>\n",
       "      <th>FEATURES_SCORE</th>\n",
       "    </tr>\n",
       "  </thead>\n",
       "  <tbody>\n",
       "    <tr>\n",
       "      <th>5053</th>\n",
       "      <td>69848282</td>\n",
       "      <td>o69848282</td>\n",
       "      <td>gurgaon</td>\n",
       "      <td>17500000.0</td>\n",
       "      <td>8974.0</td>\n",
       "      <td>1950.0</td>\n",
       "      <td>15.0</td>\n",
       "      <td>3 bhk flat in sector 70 gurgaon</td>\n",
       "      <td>this property is located in sector 70, it has ...</td>\n",
       "      <td>residential apartment</td>\n",
       "      <td>Unfurnished</td>\n",
       "      <td>not available</td>\n",
       "      <td>0-1 Year Old Property</td>\n",
       "      <td>15-30</td>\n",
       "      <td>3.0</td>\n",
       "      <td>shree vardhman victoria</td>\n",
       "      <td>3.0</td>\n",
       "      <td>&lt;15</td>\n",
       "      <td>28.393486</td>\n",
       "      <td>77.018605</td>\n",
       "      <td>3.0</td>\n",
       "      <td>sector 70 gurgaon</td>\n",
       "      <td>shree vardhman victoria</td>\n",
       "      <td>shree vardhman victoria</td>\n",
       "      <td>NaN</td>\n",
       "      <td>0.0</td>\n",
       "      <td>6.0</td>\n",
       "      <td>1.0</td>\n",
       "      <td>1.0</td>\n",
       "      <td>2.0</td>\n",
       "      <td>5.0</td>\n",
       "      <td>68</td>\n",
       "      <td>47</td>\n",
       "    </tr>\n",
       "    <tr>\n",
       "      <th>2206</th>\n",
       "      <td>70212326</td>\n",
       "      <td>j70212326</td>\n",
       "      <td>gurgaon</td>\n",
       "      <td>11200000.0</td>\n",
       "      <td>5894.0</td>\n",
       "      <td>1900.0</td>\n",
       "      <td>11.0</td>\n",
       "      <td>3 bhk flat in sector 106 gurgaon</td>\n",
       "      <td>this 3 bhk apartment is available for sale in ...</td>\n",
       "      <td>residential apartment</td>\n",
       "      <td>Semifurnished</td>\n",
       "      <td>North-East</td>\n",
       "      <td>1-5 Year Old Property</td>\n",
       "      <td>15-30</td>\n",
       "      <td>3.0</td>\n",
       "      <td>paras dews</td>\n",
       "      <td>3.0</td>\n",
       "      <td>&lt;15</td>\n",
       "      <td>28.503300</td>\n",
       "      <td>76.997430</td>\n",
       "      <td>3.0</td>\n",
       "      <td>sector 106 gurgaon</td>\n",
       "      <td>paras dews</td>\n",
       "      <td>paras dews</td>\n",
       "      <td>NaN</td>\n",
       "      <td>3.0</td>\n",
       "      <td>1.0</td>\n",
       "      <td>3.0</td>\n",
       "      <td>2.0</td>\n",
       "      <td>1.0</td>\n",
       "      <td>1.0</td>\n",
       "      <td>55</td>\n",
       "      <td>15</td>\n",
       "    </tr>\n",
       "    <tr>\n",
       "      <th>9988</th>\n",
       "      <td>70737902</td>\n",
       "      <td>z70737902</td>\n",
       "      <td>gurgaon</td>\n",
       "      <td>28000.0</td>\n",
       "      <td>11.0</td>\n",
       "      <td>2500.0</td>\n",
       "      <td>45.0</td>\n",
       "      <td>2 bhk independent builder floor in sector 57 g...</td>\n",
       "      <td>near honkong bazar mall and main road</td>\n",
       "      <td>independent/builder floor</td>\n",
       "      <td>Furnished</td>\n",
       "      <td>East</td>\n",
       "      <td>1-5 Year Old Property</td>\n",
       "      <td>&lt;15</td>\n",
       "      <td>2.0</td>\n",
       "      <td>NaN</td>\n",
       "      <td>2.0</td>\n",
       "      <td>&lt;15</td>\n",
       "      <td>28.423441</td>\n",
       "      <td>77.076593</td>\n",
       "      <td>2.0</td>\n",
       "      <td>sector 57 gurgaon</td>\n",
       "      <td>NaN</td>\n",
       "      <td>NaN</td>\n",
       "      <td>NaN</td>\n",
       "      <td>0.0</td>\n",
       "      <td>4.0</td>\n",
       "      <td>4.0</td>\n",
       "      <td>0.0</td>\n",
       "      <td>15.0</td>\n",
       "      <td>5.0</td>\n",
       "      <td>12</td>\n",
       "      <td>0</td>\n",
       "    </tr>\n",
       "    <tr>\n",
       "      <th>8505</th>\n",
       "      <td>68247438</td>\n",
       "      <td>o68247438</td>\n",
       "      <td>gurgaon</td>\n",
       "      <td>61900000.0</td>\n",
       "      <td>139077.0</td>\n",
       "      <td>3708.0</td>\n",
       "      <td>11.0</td>\n",
       "      <td>residential land / plot in sector 102 gurgaon</td>\n",
       "      <td>its a 3 side corner 412 sq yd plot for immedia...</td>\n",
       "      <td>residential land</td>\n",
       "      <td>not available</td>\n",
       "      <td>North</td>\n",
       "      <td>Undefined</td>\n",
       "      <td>&lt;15</td>\n",
       "      <td>NaN</td>\n",
       "      <td>bptp amstoria</td>\n",
       "      <td>NaN</td>\n",
       "      <td>&gt;30</td>\n",
       "      <td>28.474861</td>\n",
       "      <td>76.976292</td>\n",
       "      <td>NaN</td>\n",
       "      <td>sector 102 gurgaon</td>\n",
       "      <td>bptp amstoria</td>\n",
       "      <td>bptp amstoria</td>\n",
       "      <td>NaN</td>\n",
       "      <td>2.0</td>\n",
       "      <td>1.0</td>\n",
       "      <td>4.0</td>\n",
       "      <td>1.0</td>\n",
       "      <td>1.0</td>\n",
       "      <td>2.0</td>\n",
       "      <td>18</td>\n",
       "      <td>0</td>\n",
       "    </tr>\n",
       "    <tr>\n",
       "      <th>9532</th>\n",
       "      <td>59782372</td>\n",
       "      <td>g59782372</td>\n",
       "      <td>gurgaon</td>\n",
       "      <td>7500000.0</td>\n",
       "      <td>7944.0</td>\n",
       "      <td>1380.0</td>\n",
       "      <td>15.0</td>\n",
       "      <td>2 bhk flat in sector 37d gurgaon</td>\n",
       "      <td>2 bhk flat is available in the promising local...</td>\n",
       "      <td>residential apartment</td>\n",
       "      <td>Semifurnished</td>\n",
       "      <td>North-East</td>\n",
       "      <td>1-5 Year Old Property</td>\n",
       "      <td>15-30</td>\n",
       "      <td>2.0</td>\n",
       "      <td>ramprastha the edge towers</td>\n",
       "      <td>3.0</td>\n",
       "      <td>&lt;15</td>\n",
       "      <td>28.446516</td>\n",
       "      <td>76.968368</td>\n",
       "      <td>2.0</td>\n",
       "      <td>sector 37d gurgaon</td>\n",
       "      <td>ramprastha the edge towers</td>\n",
       "      <td>ramprastha the edge towers</td>\n",
       "      <td>NaN</td>\n",
       "      <td>0.0</td>\n",
       "      <td>3.0</td>\n",
       "      <td>1.0</td>\n",
       "      <td>3.0</td>\n",
       "      <td>2.0</td>\n",
       "      <td>6.0</td>\n",
       "      <td>92</td>\n",
       "      <td>44</td>\n",
       "    </tr>\n",
       "    <tr>\n",
       "      <th>8753</th>\n",
       "      <td>70637992</td>\n",
       "      <td>f70637992</td>\n",
       "      <td>gurgaon</td>\n",
       "      <td>55000000.0</td>\n",
       "      <td>18537.0</td>\n",
       "      <td>2913.0</td>\n",
       "      <td>12.0</td>\n",
       "      <td>4 bhk flat in sector 108 gurgaon</td>\n",
       "      <td>check out this 4 bhk apartment for sale in sob...</td>\n",
       "      <td>residential apartment</td>\n",
       "      <td>Unfurnished</td>\n",
       "      <td>North</td>\n",
       "      <td>Under Construction</td>\n",
       "      <td>15-30</td>\n",
       "      <td>4.0</td>\n",
       "      <td>sobha city</td>\n",
       "      <td>4.0</td>\n",
       "      <td>&lt;15</td>\n",
       "      <td>28.516331</td>\n",
       "      <td>76.995685</td>\n",
       "      <td>4.0</td>\n",
       "      <td>sector 108 gurgaon</td>\n",
       "      <td>sobha city</td>\n",
       "      <td>sobha city</td>\n",
       "      <td>NaN</td>\n",
       "      <td>3.0</td>\n",
       "      <td>2.0</td>\n",
       "      <td>3.0</td>\n",
       "      <td>2.0</td>\n",
       "      <td>1.0</td>\n",
       "      <td>1.0</td>\n",
       "      <td>97</td>\n",
       "      <td>43</td>\n",
       "    </tr>\n",
       "    <tr>\n",
       "      <th>892</th>\n",
       "      <td>70528388</td>\n",
       "      <td>w70528388</td>\n",
       "      <td>gurgaon</td>\n",
       "      <td>11500000.0</td>\n",
       "      <td>8569.0</td>\n",
       "      <td>1342.0</td>\n",
       "      <td>14.0</td>\n",
       "      <td>3 bhk flat in sector 89 gurgaon</td>\n",
       "      <td>the share of basement and terrace for all the ...</td>\n",
       "      <td>residential apartment</td>\n",
       "      <td>Unfurnished</td>\n",
       "      <td>North</td>\n",
       "      <td>Under Construction</td>\n",
       "      <td>&lt;15</td>\n",
       "      <td>3.0</td>\n",
       "      <td>smart world gems</td>\n",
       "      <td>2.0</td>\n",
       "      <td>&lt;15</td>\n",
       "      <td>28.424779</td>\n",
       "      <td>76.949530</td>\n",
       "      <td>3.0</td>\n",
       "      <td>sector 89 gurgaon</td>\n",
       "      <td>smart world gems</td>\n",
       "      <td>smart world gems</td>\n",
       "      <td>NaN</td>\n",
       "      <td>2.0</td>\n",
       "      <td>2.0</td>\n",
       "      <td>2.0</td>\n",
       "      <td>1.0</td>\n",
       "      <td>1.0</td>\n",
       "      <td>6.0</td>\n",
       "      <td>82</td>\n",
       "      <td>62</td>\n",
       "    </tr>\n",
       "  </tbody>\n",
       "</table>\n",
       "</div>"
      ],
      "text/plain": [
       "          SPID    PROP_ID     CITY       PRICE  PRICE_SQFT    AREA  \\\n",
       "5053  69848282  o69848282  gurgaon  17500000.0      8974.0  1950.0   \n",
       "2206  70212326  j70212326  gurgaon  11200000.0      5894.0  1900.0   \n",
       "9988  70737902  z70737902  gurgaon     28000.0        11.0  2500.0   \n",
       "8505  68247438  o68247438  gurgaon  61900000.0    139077.0  3708.0   \n",
       "9532  59782372  g59782372  gurgaon   7500000.0      7944.0  1380.0   \n",
       "8753  70637992  f70637992  gurgaon  55000000.0     18537.0  2913.0   \n",
       "892   70528388  w70528388  gurgaon  11500000.0      8569.0  1342.0   \n",
       "\n",
       "      TOTAL_LANDMARK_COUNT                                       PROP_HEADING  \\\n",
       "5053                  15.0                    3 bhk flat in sector 70 gurgaon   \n",
       "2206                  11.0                   3 bhk flat in sector 106 gurgaon   \n",
       "9988                  45.0  2 bhk independent builder floor in sector 57 g...   \n",
       "8505                  11.0      residential land / plot in sector 102 gurgaon   \n",
       "9532                  15.0                   2 bhk flat in sector 37d gurgaon   \n",
       "8753                  12.0                   4 bhk flat in sector 108 gurgaon   \n",
       "892                   14.0                    3 bhk flat in sector 89 gurgaon   \n",
       "\n",
       "                                            DESCRIPTION  \\\n",
       "5053  this property is located in sector 70, it has ...   \n",
       "2206  this 3 bhk apartment is available for sale in ...   \n",
       "9988              near honkong bazar mall and main road   \n",
       "8505  its a 3 side corner 412 sq yd plot for immedia...   \n",
       "9532  2 bhk flat is available in the promising local...   \n",
       "8753  check out this 4 bhk apartment for sale in sob...   \n",
       "892   the share of basement and terrace for all the ...   \n",
       "\n",
       "                  PROPERTY_TYPE        FURNISH         FACING  \\\n",
       "5053      residential apartment    Unfurnished  not available   \n",
       "2206      residential apartment  Semifurnished     North-East   \n",
       "9988  independent/builder floor      Furnished           East   \n",
       "8505           residential land  not available          North   \n",
       "9532      residential apartment  Semifurnished     North-East   \n",
       "8753      residential apartment    Unfurnished          North   \n",
       "892       residential apartment    Unfurnished          North   \n",
       "\n",
       "                        AGE TOTAL_FLOOR  BEDROOM_NUM  \\\n",
       "5053  0-1 Year Old Property       15-30          3.0   \n",
       "2206  1-5 Year Old Property       15-30          3.0   \n",
       "9988  1-5 Year Old Property         <15          2.0   \n",
       "8505              Undefined         <15          NaN   \n",
       "9532  1-5 Year Old Property       15-30          2.0   \n",
       "8753     Under Construction       15-30          4.0   \n",
       "892      Under Construction         <15          3.0   \n",
       "\n",
       "                       PROP_NAME  BALCONY_NUM FLOOR_NUM   LATITUDE  LONGITUDE  \\\n",
       "5053     shree vardhman victoria          3.0       <15  28.393486  77.018605   \n",
       "2206                  paras dews          3.0       <15  28.503300  76.997430   \n",
       "9988                         NaN          2.0       <15  28.423441  77.076593   \n",
       "8505               bptp amstoria          NaN       >30  28.474861  76.976292   \n",
       "9532  ramprastha the edge towers          3.0       <15  28.446516  76.968368   \n",
       "8753                  sobha city          4.0       <15  28.516331  76.995685   \n",
       "892             smart world gems          2.0       <15  28.424779  76.949530   \n",
       "\n",
       "      BHK_BED       LOCALITY_NAME               BUILDING_NAME  \\\n",
       "5053      3.0   sector 70 gurgaon     shree vardhman victoria   \n",
       "2206      3.0  sector 106 gurgaon                  paras dews   \n",
       "9988      2.0   sector 57 gurgaon                         NaN   \n",
       "8505      NaN  sector 102 gurgaon               bptp amstoria   \n",
       "9532      2.0  sector 37d gurgaon  ramprastha the edge towers   \n",
       "8753      4.0  sector 108 gurgaon                  sobha city   \n",
       "892       3.0   sector 89 gurgaon            smart world gems   \n",
       "\n",
       "                    SOCIETY_NAME ADDRESS  TRANSPORATION  ACCOMODATION  \\\n",
       "5053     shree vardhman victoria     NaN            0.0           6.0   \n",
       "2206                  paras dews     NaN            3.0           1.0   \n",
       "9988                         NaN     NaN            0.0           4.0   \n",
       "8505               bptp amstoria     NaN            2.0           1.0   \n",
       "9532  ramprastha the edge towers     NaN            0.0           3.0   \n",
       "8753                  sobha city     NaN            3.0           2.0   \n",
       "892             smart world gems     NaN            2.0           2.0   \n",
       "\n",
       "      LEISURE  EDUCATION  HEALTH  OTHER  AMENITIES_SCORE  FEATURES_SCORE  \n",
       "5053      1.0        1.0     2.0    5.0               68              47  \n",
       "2206      3.0        2.0     1.0    1.0               55              15  \n",
       "9988      4.0        0.0    15.0    5.0               12               0  \n",
       "8505      4.0        1.0     1.0    2.0               18               0  \n",
       "9532      1.0        3.0     2.0    6.0               92              44  \n",
       "8753      3.0        2.0     1.0    1.0               97              43  \n",
       "892       2.0        1.0     1.0    6.0               82              62  "
      ]
     },
     "execution_count": 51,
     "metadata": {},
     "output_type": "execute_result"
    }
   ],
   "source": [
    "df.sample(7)"
   ]
  },
  {
   "cell_type": "code",
   "execution_count": 52,
   "metadata": {},
   "outputs": [
    {
     "name": "stdout",
     "output_type": "stream",
     "text": [
      "<class 'pandas.core.frame.DataFrame'>\n",
      "RangeIndex: 10162 entries, 0 to 10161\n",
      "Data columns (total 33 columns):\n",
      " #   Column                Non-Null Count  Dtype  \n",
      "---  ------                --------------  -----  \n",
      " 0   SPID                  10162 non-null  int64  \n",
      " 1   PROP_ID               10162 non-null  object \n",
      " 2   CITY                  10162 non-null  object \n",
      " 3   PRICE                 10162 non-null  float64\n",
      " 4   PRICE_SQFT            10162 non-null  float64\n",
      " 5   AREA                  10162 non-null  float64\n",
      " 6   TOTAL_LANDMARK_COUNT  10051 non-null  float64\n",
      " 7   PROP_HEADING          10162 non-null  object \n",
      " 8   DESCRIPTION           10162 non-null  object \n",
      " 9   PROPERTY_TYPE         10162 non-null  object \n",
      " 10  FURNISH               10162 non-null  object \n",
      " 11  FACING                10162 non-null  object \n",
      " 12  AGE                   10162 non-null  object \n",
      " 13  TOTAL_FLOOR           10162 non-null  object \n",
      " 14  BEDROOM_NUM           9164 non-null   float64\n",
      " 15  PROP_NAME             8326 non-null   object \n",
      " 16  BALCONY_NUM           9015 non-null   float64\n",
      " 17  FLOOR_NUM             10162 non-null  object \n",
      " 18  LATITUDE              10162 non-null  float64\n",
      " 19  LONGITUDE             10162 non-null  float64\n",
      " 20  BHK_BED               9164 non-null   float64\n",
      " 21  LOCALITY_NAME         10162 non-null  object \n",
      " 22  BUILDING_NAME         8326 non-null   object \n",
      " 23  SOCIETY_NAME          8326 non-null   object \n",
      " 24  ADDRESS               4961 non-null   object \n",
      " 25  TRANSPORATION         10162 non-null  float64\n",
      " 26  ACCOMODATION          10162 non-null  float64\n",
      " 27  LEISURE               10162 non-null  float64\n",
      " 28  EDUCATION             10162 non-null  float64\n",
      " 29  HEALTH                10162 non-null  float64\n",
      " 30  OTHER                 10162 non-null  float64\n",
      " 31  AMENITIES_SCORE       10162 non-null  int64  \n",
      " 32  FEATURES_SCORE        10162 non-null  int64  \n",
      "dtypes: float64(15), int64(3), object(15)\n",
      "memory usage: 2.6+ MB\n"
     ]
    }
   ],
   "source": [
    "df.info()"
   ]
  },
  {
   "cell_type": "markdown",
   "metadata": {},
   "source": [
    "## Export Dataset"
   ]
  },
  {
   "cell_type": "code",
   "execution_count": 53,
   "metadata": {},
   "outputs": [],
   "source": [
    "df.to_csv('data/processed/gurgaon_10k.csv', index=False)"
   ]
  }
 ],
 "metadata": {
  "kernelspec": {
   "display_name": "Python 3",
   "language": "python",
   "name": "python3"
  },
  "language_info": {
   "codemirror_mode": {
    "name": "ipython",
    "version": 3
   },
   "file_extension": ".py",
   "mimetype": "text/x-python",
   "name": "python",
   "nbconvert_exporter": "python",
   "pygments_lexer": "ipython3",
   "version": "3.11.0"
  },
  "orig_nbformat": 4
 },
 "nbformat": 4,
 "nbformat_minor": 2
}
