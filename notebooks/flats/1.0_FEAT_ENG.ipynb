{
 "cells": [
  {
   "cell_type": "markdown",
   "metadata": {},
   "source": [
    "### I am taking help of CampusX SIR's notebook help in this. [Notebook](https://github.com/campusx-official/dsmp-capstone-project/blob/master/feature-engineering.ipynb)"
   ]
  },
  {
   "cell_type": "code",
   "execution_count": 1,
   "metadata": {},
   "outputs": [],
   "source": [
    "from ast import literal_eval\n",
    "import re\n",
    "\n",
    "import pandas as pd\n",
    "import numpy as np\n",
    "from matplotlib import pyplot as plt\n",
    "\n",
    "from sklearn.cluster import KMeans\n",
    "from sklearn.preprocessing import StandardScaler"
   ]
  },
  {
   "cell_type": "code",
   "execution_count": 2,
   "metadata": {},
   "outputs": [],
   "source": [
    "pd.set_option('display.max_colwidth', 100)"
   ]
  },
  {
   "cell_type": "code",
   "execution_count": 3,
   "metadata": {},
   "outputs": [
    {
     "name": "stdout",
     "output_type": "stream",
     "text": [
      "(2785, 27)\n"
     ]
    }
   ],
   "source": [
    "df = pd.read_csv('data/processed/1.1_CLEANING_flats.csv')\n",
    "print(df.shape)"
   ]
  },
  {
   "cell_type": "code",
   "execution_count": 4,
   "metadata": {},
   "outputs": [
    {
     "name": "stdout",
     "output_type": "stream",
     "text": [
      "<class 'pandas.core.frame.DataFrame'>\n",
      "RangeIndex: 2785 entries, 0 to 2784\n",
      "Data columns (total 27 columns):\n",
      " #   Column           Non-Null Count  Dtype  \n",
      "---  ------           --------------  -----  \n",
      " 0   link             2785 non-null   object \n",
      " 1   society          2785 non-null   object \n",
      " 2   price            2785 non-null   float64\n",
      " 3   area             2785 non-null   object \n",
      " 4   areaWithType     2785 non-null   object \n",
      " 5   bedRoom          2785 non-null   int64  \n",
      " 6   bathroom         2785 non-null   int64  \n",
      " 7   balcony          2785 non-null   int64  \n",
      " 8   additionalRoom   2785 non-null   object \n",
      " 9   address          2782 non-null   object \n",
      " 10  facing           2037 non-null   object \n",
      " 11  agePossession    2784 non-null   object \n",
      " 12  nearbyLocations  2785 non-null   object \n",
      " 13  description      2785 non-null   object \n",
      " 14  furnishDetails   2785 non-null   object \n",
      " 15  features         2785 non-null   object \n",
      " 16  property_id      2785 non-null   object \n",
      " 17  nthFloor         2784 non-null   float64\n",
      " 18  totalFloor       2784 non-null   float64\n",
      " 19  Transportation   2785 non-null   int64  \n",
      " 20  Education        2785 non-null   int64  \n",
      " 21  Healthcare       2785 non-null   int64  \n",
      " 22  Shopping         2785 non-null   int64  \n",
      " 23  Dining           2785 non-null   int64  \n",
      " 24  Accommodation    2785 non-null   int64  \n",
      " 25  Entertainment    2785 non-null   int64  \n",
      " 26  Service          2785 non-null   int64  \n",
      "dtypes: float64(3), int64(11), object(13)\n",
      "memory usage: 587.6+ KB\n"
     ]
    }
   ],
   "source": [
    "df.info()"
   ]
  },
  {
   "cell_type": "code",
   "execution_count": 5,
   "metadata": {},
   "outputs": [
    {
     "data": {
      "text/plain": [
       "link                 0\n",
       "society              0\n",
       "price                0\n",
       "area                 0\n",
       "areaWithType         0\n",
       "bedRoom              0\n",
       "bathroom             0\n",
       "balcony              0\n",
       "additionalRoom       0\n",
       "address              3\n",
       "facing             748\n",
       "agePossession        1\n",
       "nearbyLocations      0\n",
       "description          0\n",
       "furnishDetails       0\n",
       "features             0\n",
       "property_id          0\n",
       "nthFloor             1\n",
       "totalFloor           1\n",
       "Transportation       0\n",
       "Education            0\n",
       "Healthcare           0\n",
       "Shopping             0\n",
       "Dining               0\n",
       "Accommodation        0\n",
       "Entertainment        0\n",
       "Service              0\n",
       "dtype: int64"
      ]
     },
     "execution_count": 5,
     "metadata": {},
     "output_type": "execute_result"
    }
   ],
   "source": [
    "df.isnull().sum()"
   ]
  },
  {
   "cell_type": "markdown",
   "metadata": {},
   "source": [
    "## Plan of Attack\n",
    "\n",
    "1. I am going going to extract features from the dataset to perform EDA."
   ]
  },
  {
   "cell_type": "markdown",
   "metadata": {},
   "source": [
    "## society ->> sector"
   ]
  },
  {
   "cell_type": "markdown",
   "metadata": {},
   "source": [
    "1. Extract sector number from this column.\n",
    "2. There are many sectors which are **not labeled with sector number**. So I need to hard code it."
   ]
  },
  {
   "cell_type": "code",
   "execution_count": 6,
   "metadata": {},
   "outputs": [],
   "source": [
    "# Sir's method of extracting sectors\n",
    "\n",
    "df['sector_by_sir'] = (\n",
    "    df['address']\n",
    "    .str.split(',')\n",
    "    .str.get(0)\n",
    "    .str.replace(r'sector.*', '', regex=True)\n",
    "    .str.replace(r'road|gurgaon', '', regex=True)\n",
    "    .str.strip()\n",
    "    .apply(lambda x: x if x else np.nan)\n",
    ")"
   ]
  },
  {
   "cell_type": "code",
   "execution_count": 7,
   "metadata": {},
   "outputs": [
    {
     "data": {
      "text/plain": [
       "703"
      ]
     },
     "execution_count": 7,
     "metadata": {},
     "output_type": "execute_result"
    }
   ],
   "source": [
    "df['sector_by_sir'].nunique()"
   ]
  },
  {
   "cell_type": "code",
   "execution_count": 8,
   "metadata": {},
   "outputs": [
    {
     "data": {
      "text/plain": [
       "array(['krishna colony', '46b', 'sohna', nan, 'dwarka expressway', 'h 23',\n",
       "       'flat no. :- 301', 'senate court', 'g04', 'godrej habitat',\n",
       "       'new palam vihar', 'tower a-4', 't 3', '101', 'c 488', '609',\n",
       "       'flat no 201', 'tower 5', 'dlf phase 4', 'a253', 'plot no. 833',\n",
       "       '1422 bahadurgarh', 'h1202', 'tower 6', '802/b5', '#1101', 'near',\n",
       "       '3bhk', 'laxman vihar', 'f 150/b', 'godrej oasis', '401',\n",
       "       'emaar palm premier', 'tower 2 floor 4th', '4302', '621/622',\n",
       "       'tower 18', 's-68/3', 'sushant lok phase 1', 'tower - k',\n",
       "       'bhagwati sadan', 'n54c', 'ashok vihar phase 2', 'rajiv colony',\n",
       "       'garauli kalan', 'bhawani enclave', 'j002', 'iffco chowk', 'b33',\n",
       "       '1057', 'b1101', 'tower a', '104', '604', 'a5-3102', 'gwal pahari',\n",
       "       'plot 833 flat 202', 'central park flower valley', 'malibu town',\n",
       "       'golf course extension', 'chakkarpur', 'tower 6 402', 's-70/1',\n",
       "       'flat no. c-014', 'flat no. 002', 'block b', 'pc02', 'mid floor',\n",
       "       'south city 1 floors', '102', 'near royal public school',\n",
       "       'tower -3', '302', '202', '144', 'tower15 flat no 302',\n",
       "       '2nd floor', '35/2690 ashok vihar phase 2', 'g201', 'e11-c'],\n",
       "      dtype=object)"
      ]
     },
     "execution_count": 8,
     "metadata": {},
     "output_type": "execute_result"
    }
   ],
   "source": [
    "df['sector_by_sir'].unique()[:80]"
   ]
  },
  {
   "cell_type": "code",
   "execution_count": 9,
   "metadata": {},
   "outputs": [
    {
     "data": {
      "text/plain": [
       "1383"
      ]
     },
     "execution_count": 9,
     "metadata": {},
     "output_type": "execute_result"
    }
   ],
   "source": [
    "df['sector_by_sir'].isnull().sum()"
   ]
  },
  {
   "cell_type": "code",
   "execution_count": 10,
   "metadata": {},
   "outputs": [],
   "source": [
    "def zfill_(match: re.Match[str]):\n",
    "    return match.group(1).zfill(3)"
   ]
  },
  {
   "cell_type": "code",
   "execution_count": 11,
   "metadata": {},
   "outputs": [],
   "source": [
    "# My method of extracting sectors\n",
    "\n",
    "df['sector_by_me'] = (\n",
    "    df['address']\n",
    "    .astype(str)\n",
    "    .add(' ')\n",
    "    .add(df['description'].str.lower().astype(str))\n",
    "    .str.replace('-', ' ')\n",
    "    .str.replace(r'\\s{2,}', ' ', regex=True)\n",
    "    .str.extract(r'(sector \\d+\\w?)')[0]\n",
    ")"
   ]
  },
  {
   "cell_type": "code",
   "execution_count": 12,
   "metadata": {},
   "outputs": [
    {
     "data": {
      "text/plain": [
       "99"
      ]
     },
     "execution_count": 12,
     "metadata": {},
     "output_type": "execute_result"
    }
   ],
   "source": [
    "df['sector_by_me'].nunique()"
   ]
  },
  {
   "cell_type": "code",
   "execution_count": 13,
   "metadata": {},
   "outputs": [
    {
     "data": {
      "text/plain": [
       "(309,)"
      ]
     },
     "execution_count": 13,
     "metadata": {},
     "output_type": "execute_result"
    }
   ],
   "source": [
    "df[\n",
    "    df['address']\n",
    "    .astype(str)\n",
    "    .add(' ')\n",
    "    .add(df['description'].str.lower().astype(str))\n",
    "    .str.contains('sector')\n",
    "    == False\n",
    "]['address'].shape"
   ]
  },
  {
   "cell_type": "code",
   "execution_count": 14,
   "metadata": {},
   "outputs": [
    {
     "data": {
      "text/plain": [
       "array([nan, 'sector 61', 'sector 92', 'sector 36', 'sector 104',\n",
       "       'sector 88b', 'sector 78', 'sector 81', 'sector 79', 'sector 33',\n",
       "       'sector 90', 'sector 108', 'sector 62', 'sector 102', 'sector 89',\n",
       "       'sector 113', 'sector 65', 'sector 48', 'sector 37c', 'sector 3',\n",
       "       'sector 43', 'sector 88a', 'sector 68', 'sector 109', 'sector 106',\n",
       "       'sector 82', 'sector 85', 'sector 82a', 'sector 10a', 'sector 1a',\n",
       "       'sector 4', 'sector 84', 'sector 71', 'sector 7', 'sector 77',\n",
       "       'sector 37d', 'sector 67a', 'sector 57', 'sector 95', 'sector 99a',\n",
       "       'sector 103', 'sector 49', 'sector 30', 'sector 86', 'sector 66',\n",
       "       'sector 15', 'sector 93', 'sector 22', 'sector 63a', 'sector 95a',\n",
       "       'sector 52', 'sector 67', 'sector 107', 'sector 12a', 'sector 2',\n",
       "       'sector 99', 'sector 91', 'sector 1', 'sector 70', 'sector 70a',\n",
       "       'sector 54', 'sector 111', 'sector 41', 'sector 12', 'sector 73',\n",
       "       'sector 56', 'sector 83', 'sector 53', 'sector 72', 'sector 69',\n",
       "       'sector 47', 'sector 63', 'sector 110', 'sector 11', 'sector 9a',\n",
       "       'sector 28', 'sector 14', 'sector 5', 'sector 59', 'sector 38',\n",
       "       'sector 112', 'sector 45', 'sector 74', 'sector 60', 'sector 51',\n",
       "       'sector 50', 'sector 39', 'sector 58', 'sector 80', 'sector 55',\n",
       "       'sector 23a', 'sector 36a', 'sector 76', 'sector 31', 'sector 6',\n",
       "       'sector 32', 'sector 37a', 'sector 21', 'sector 02', 'sector 24'],\n",
       "      dtype=object)"
      ]
     },
     "execution_count": 14,
     "metadata": {},
     "output_type": "execute_result"
    }
   ],
   "source": [
    "df['sector_by_me'].unique()"
   ]
  },
  {
   "cell_type": "markdown",
   "metadata": {},
   "source": [
    "I am able to extract these many pure sector values from the dataset. But this is not enough."
   ]
  },
  {
   "cell_type": "code",
   "execution_count": 15,
   "metadata": {},
   "outputs": [
    {
     "data": {
      "text/plain": [
       "310"
      ]
     },
     "execution_count": 15,
     "metadata": {},
     "output_type": "execute_result"
    }
   ],
   "source": [
    "df['sector_by_me'].isnull().sum()"
   ]
  },
  {
   "cell_type": "code",
   "execution_count": 16,
   "metadata": {},
   "outputs": [],
   "source": [
    "# Merge sector_by_sir and sector_by_me columns and then do the extra works\n",
    "\n",
    "df['sector'] = (\n",
    "    df['sector_by_me']\n",
    "    .fillna('')\n",
    "    .add(' ')\n",
    "    .add(df['sector_by_sir'].fillna(''))\n",
    "    .str.replace(r'(sector \\d+\\w?)( .*)', r'\\1', regex=True)\n",
    "    .str.strip()\n",
    "    .apply(lambda x: x if x else np.nan)\n",
    ")"
   ]
  },
  {
   "cell_type": "code",
   "execution_count": 17,
   "metadata": {},
   "outputs": [
    {
     "data": {
      "text/plain": [
       "0"
      ]
     },
     "execution_count": 17,
     "metadata": {},
     "output_type": "execute_result"
    }
   ],
   "source": [
    "df['sector'].isnull().sum()"
   ]
  },
  {
   "cell_type": "code",
   "execution_count": 18,
   "metadata": {},
   "outputs": [
    {
     "data": {
      "text/plain": [
       "233"
      ]
     },
     "execution_count": 18,
     "metadata": {},
     "output_type": "execute_result"
    }
   ],
   "source": [
    "df['sector'].nunique()"
   ]
  },
  {
   "cell_type": "code",
   "execution_count": 19,
   "metadata": {},
   "outputs": [
    {
     "data": {
      "text/plain": [
       "array(['krishna colony', '46b', 'sohna', 'sector 61', 'sector 92',\n",
       "       'sector 36', 'dwarka expressway', 'sector 104', 'sector 88b',\n",
       "       'sector 78', 'sector 81', 'sector 79', 'sector 33', 'sector 90',\n",
       "       'sector 108', 'sector 62', 'sector 102', 'sector 89', 'sector 113',\n",
       "       'sector 65', 'sector 48', 'sector 37c', 'sector 3',\n",
       "       'new palam vihar', 'sector 43', 'sector 88a', 'sector 68',\n",
       "       'sector 109', 't 3', 'sector 106', 'sector 82', 'flat no 201',\n",
       "       'sector 85', 'sector 82a', 'dlf phase 4', 'a253', 'sector 10a',\n",
       "       'sector 1a', 'sector 4', 'sector 84', 'sector 71', 'sector 7',\n",
       "       'h1202', 'sector 77', 'sector 37d', 'sector 67a', 'sector 57',\n",
       "       'sector 95', 'sector 99a', 'sector 103', 'sector 49', 'sector 30',\n",
       "       'sector 86', 'sector 66', 'sector 15', 'laxman vihar', 'f 150/b',\n",
       "       'sector 93', 'sector 22', 'sector 63a', 'sector 95a', '621/622',\n",
       "       'tower 18', 'sector 52', 'sector 67', 'sushant lok phase 1',\n",
       "       'sector 107', 'sector 12a', 'ashok vihar phase 2', 'rajiv colony',\n",
       "       'sector 2', 'garauli kalan', 'bhawani enclave', 'sector 99',\n",
       "       'iffco chowk', '1057', 'sector 91', 'sector 1', 'sector 70',\n",
       "       'sector 70a'], dtype=object)"
      ]
     },
     "execution_count": 19,
     "metadata": {},
     "output_type": "execute_result"
    }
   ],
   "source": [
    "df['sector'].unique()[:80]"
   ]
  },
  {
   "cell_type": "code",
   "execution_count": 20,
   "metadata": {},
   "outputs": [],
   "source": [
    "extra_sectors_naming = {\n",
    "    '46b': 'sector 46b',\n",
    "    'dharam colony': 'sector 12',\n",
    "    'krishna colony': 'sector 7',\n",
    "    'suncity': 'sector 54',\n",
    "    'prem nagar': 'sector 13',\n",
    "    'mg road': 'sector 28',\n",
    "    'gandhi nagar': 'sector 28',\n",
    "    'laxmi garden': 'sector 11',\n",
    "    'shakti nagar': 'sector 11',\n",
    "    'baldev nagar': 'sector 7',\n",
    "    'shivpuri': 'sector 7',\n",
    "    'garhi harsaru': 'sector 17',\n",
    "    'imt manesar': 'sector 4',\n",
    "    'adarsh nagar': 'sector 12',\n",
    "    'shivaji nagar': 'sector 11',\n",
    "    'bhim nagar': 'sector 6',\n",
    "    'madanpuri': 'sector 7',\n",
    "    'saraswati vihar': 'sector 28',\n",
    "    'arjun nagar': 'sector 8',\n",
    "    'ravi nagar': 'sector 9',\n",
    "    'vishnu garden': 'sector 105',\n",
    "    'bhondsi': 'sector 11',\n",
    "    'surya vihar': 'sector 21',\n",
    "    'devilal colony': 'sector 9',\n",
    "    'valley view estate': 'sector 54',\n",
    "    'mehrauli  road': 'sector 14',\n",
    "    'jyoti park': 'sector 7',\n",
    "    'ansal plaza': 'sector 23',\n",
    "    'dayanand colony': 'sector 6',\n",
    "    'sushant lok phase 2': 'sector 55',\n",
    "    'chakkarpur': 'sector 28',\n",
    "    'greenwood city': 'sector 45',\n",
    "    'subhash nagar': 'sector 12',\n",
    "    'sohna road road': 'sector 33',\n",
    "    'malibu town': 'sector 47',\n",
    "    'surat nagar 1': 'sector 104',\n",
    "    'new colony': 'sector 7',\n",
    "    'mianwali colony': 'sector 12',\n",
    "    'jacobpura': 'sector 12',\n",
    "    'rajiv nagar': 'sector 13',\n",
    "    'rajiv colony': 'sector 33',\n",
    "    'ashok vihar': 'sector 3',\n",
    "    'dlf phase 1': 'sector 26',\n",
    "    'near to sikanderpur metro station': 'sector 26',\n",
    "    'nirvana country': 'sector 50',\n",
    "    'palam vihar': 'sector 2',\n",
    "    'new palam vihar': 'sector 110',\n",
    "    'dlf phase 2': 'sector 25',\n",
    "    'sushant lok phase 1': 'sector 43',\n",
    "    'laxman vihar': 'sector 4',\n",
    "    'laxman vihar phase 2': 'sector 4',\n",
    "    'dlf phase 4': 'sector 28',\n",
    "    'dlf phase 3': 'sector 24',\n",
    "    'sushant lok phase 3': 'sector 57',\n",
    "    'dlf phase 5': 'sector 43',\n",
    "    'rajendra park': 'sector 105',\n",
    "    'uppals southend': 'sector 49',\n",
    "    'sohna': 'sector 33',\n",
    "    'sohna road': 'sector 33',\n",
    "    'ashok vihar phase 3 extension': 'sector 5',\n",
    "    'south city 1': 'sector 41',\n",
    "    'ashok vihar phase 2': 'sector 5',\n",
    "    '35/2690 ashok vihar phase 2': 'sector 5',\n",
    "    \"garauli kalan\": 'sector 45',\n",
    "    \"bhawani enclave\": 'sector 56',\n",
    "    \"iffco chowk\": 'sector 29',\n",
    "    'sai kunj': 'sector 110a',\n",
    "    'manesar': 'Sector 4',\n",
    "    'shankar vihar': 'sector 104',\n",
    "    'patel nagar': 'sector 15',\n",
    "    'dwarka expressway': 'sector 88a',\n",
    "    'gwal pahari': 'sector 2',\n",
    "    'paras quartier': 'sector 29',\n",
    "    'ambience island': 'sector 24',\n",
    "    'lajpat nagar': 'sector 29',\n",
    "    'mehrauli': 'sector 29',\n",
    "    'central park flower valley': 'sector 32',\n",
    "}"
   ]
  },
  {
   "cell_type": "code",
   "execution_count": 21,
   "metadata": {},
   "outputs": [],
   "source": [
    "df['sector'] = df['sector'].replace(extra_sectors_naming).str.replace(r'(\\d+)', zfill_, regex=True)"
   ]
  },
  {
   "cell_type": "code",
   "execution_count": 22,
   "metadata": {},
   "outputs": [
    {
     "data": {
      "text/plain": [
       "array(['sector 007', 'sector 046b', 'sector 033', 'sector 061',\n",
       "       'sector 092', 'sector 036', 'sector 088a', 'sector 104',\n",
       "       'sector 088b', 'sector 078', 'sector 081', 'sector 079',\n",
       "       'sector 090', 'sector 108', 'sector 062', 'sector 102',\n",
       "       'sector 089', 'sector 113', 'sector 065', 'sector 048',\n",
       "       'sector 037c', 'sector 003', 'sector 110', 'sector 043',\n",
       "       'sector 068', 'sector 109', 't 003', 'sector 106', 'sector 082',\n",
       "       'flat no 201', 'sector 085', 'sector 082a', 'sector 028', 'a253',\n",
       "       'sector 010a', 'sector 001a', 'sector 004', 'sector 084',\n",
       "       'sector 071', 'h1202', 'sector 077', 'sector 037d', 'sector 067a',\n",
       "       'sector 057', 'sector 095', 'sector 099a', 'sector 103',\n",
       "       'sector 049', 'sector 030', 'sector 086', 'sector 066',\n",
       "       'sector 015', 'f 150/b', 'sector 093', 'sector 022', 'sector 063a',\n",
       "       'sector 095a', '621/622', 'tower 018', 'sector 052', 'sector 067',\n",
       "       'sector 107', 'sector 012a', 'sector 005', 'sector 002',\n",
       "       'sector 045', 'sector 056', 'sector 099', 'sector 029', '1057',\n",
       "       'sector 091', 'sector 001', 'sector 070', 'sector 070a',\n",
       "       'sector 032', 'sector 047', 'golf course extension', 'sector 054',\n",
       "       'sector 111', 'sector 041', 'sector 012', 'sector 073', '202',\n",
       "       'sector 083', 'sector 053', 'sector 072', 'sector 069',\n",
       "       'sector 063', '. 122001', 'sector 011', 'j-026', 'sector 009a',\n",
       "       'sector 014', 'sector 050', 'sector 025', 'sector 059',\n",
       "       'park view residency', '164', 't008-003', 'heritage city',\n",
       "       'sector 038', '1234', '194', 'sector 024', 'sector 112',\n",
       "       'sector 074', 'sector 060', 'sector 051', '008', '016floor',\n",
       "       'h tower', 'sector 026', '254', 'sector 039', 'sector 110a',\n",
       "       'Sector 004', 'dlf the icon', 'sector 058', '1902', '501', 'p-405',\n",
       "       'pc-1403', 'middle floor', 'lower floor', '0001', 'd014/010',\n",
       "       '801', '002', 'the icon', '603', '602', '1402', '1501', 'tower q',\n",
       "       '008/009', '004th', 'tower 003-601', 'sector 080', 'mg', '000',\n",
       "       '001', 'sector 055', 'sultanpur', '1002', 'higher floor', '221',\n",
       "       '101', '111', 'sector 023a', 'sector 036a', 'p010 003rd floor',\n",
       "       '003rd floor', 'a004 101', 'sector 076', 'sector 031', '047',\n",
       "       'new', 'dlf city phase 005', 'k 308', 't-003 1002', 'sector 006',\n",
       "       'm003 fourth floor', 'penthouse no. 209-a',\n",
       "       '001-c row house surya vihar near udyog vihar phase 001',\n",
       "       'near pataudi chowk', 'm018', 'u 027/007', '0002', 'ats marigold',\n",
       "       'flat t002 -1801', 'flat no 007', '145/012', '1204', 'sector 037a',\n",
       "       'o-008', '605', '606', 'm914', '4719 c', '405', 'g-004',\n",
       "       'sushant lok', '012a004', 'faridabad', '1803', 'eden landmark',\n",
       "       'sector 021', '106', '1905', 'm g', '2690/030', '092',\n",
       "       'golf course ext', '010/1204', 'f block', '502', 'tower 008',\n",
       "       'flat 002', 't011-301', 'tower 014'], dtype=object)"
      ]
     },
     "execution_count": 22,
     "metadata": {},
     "output_type": "execute_result"
    }
   ],
   "source": [
    "df['sector'].unique()"
   ]
  },
  {
   "cell_type": "code",
   "execution_count": 23,
   "metadata": {},
   "outputs": [
    {
     "data": {
      "text/plain": [
       "131"
      ]
     },
     "execution_count": 23,
     "metadata": {},
     "output_type": "execute_result"
    }
   ],
   "source": [
    "drop_rows = df[df['sector'].str.contains('sector', case=False) == False].index\n",
    "len(drop_rows)"
   ]
  },
  {
   "cell_type": "code",
   "execution_count": 24,
   "metadata": {},
   "outputs": [
    {
     "data": {
      "text/plain": [
       "383                    1234\n",
       "356     park view residency\n",
       "1514              sultanpur\n",
       "1043               the icon\n",
       "598                016floor\n",
       "2320                  g-004\n",
       "1448                   0001\n",
       "36                    t 003\n",
       "2545                f block\n",
       "374                t008-003\n",
       "1438                   0001\n",
       "1432                   0001\n",
       "786                    1902\n",
       "2763               t011-301\n",
       "357     park view residency\n",
       "Name: sector, dtype: object"
      ]
     },
     "execution_count": 24,
     "metadata": {},
     "output_type": "execute_result"
    }
   ],
   "source": [
    "df.iloc[drop_rows]['sector'].sample(15)"
   ]
  },
  {
   "cell_type": "code",
   "execution_count": 25,
   "metadata": {},
   "outputs": [],
   "source": [
    "# I am going to drop the extra rows which are not labeled with sector number\n",
    "df.drop(index=drop_rows, inplace=True)"
   ]
  },
  {
   "cell_type": "code",
   "execution_count": 26,
   "metadata": {},
   "outputs": [
    {
     "data": {
      "text/plain": [
       "(2654, 30)"
      ]
     },
     "execution_count": 26,
     "metadata": {},
     "output_type": "execute_result"
    }
   ],
   "source": [
    "df.shape"
   ]
  },
  {
   "cell_type": "markdown",
   "metadata": {},
   "source": [
    "## area"
   ]
  },
  {
   "cell_type": "code",
   "execution_count": 27,
   "metadata": {},
   "outputs": [],
   "source": [
    "df['area'] = df['area'].str.replace(',', '').str.extract(r'(\\d+)').astype('float')"
   ]
  },
  {
   "cell_type": "code",
   "execution_count": 28,
   "metadata": {},
   "outputs": [],
   "source": [
    "df['area'] = df['price'].mul(1_00_000).div(df['area']).astype('int')"
   ]
  },
  {
   "cell_type": "markdown",
   "metadata": {},
   "source": [
    "## areaWithType"
   ]
  },
  {
   "cell_type": "code",
   "execution_count": 29,
   "metadata": {},
   "outputs": [
    {
     "data": {
      "text/plain": [
       "774     Super Built up area 1963(182.37 sq.m.)Carpet area: 1700 sq.ft. (157.94 sq.m.)\n",
       "1176    Super Built up area 1404(130.44 sq.m.)Carpet area: 1200 sq.ft. (111.48 sq.m.)\n",
       "330                                            Super Built up area 2786(258.83 sq.m.)\n",
       "2752                                               Built Up area: 2000 (185.81 sq.m.)\n",
       "2000     Super Built up area 2557(237.55 sq.m.)Carpet area: 2550 sq.ft. (236.9 sq.m.)\n",
       "Name: areaWithType, dtype: object"
      ]
     },
     "execution_count": 29,
     "metadata": {},
     "output_type": "execute_result"
    }
   ],
   "source": [
    "df['areaWithType'].sample(5)"
   ]
  },
  {
   "cell_type": "code",
   "execution_count": 30,
   "metadata": {},
   "outputs": [
    {
     "name": "stdout",
     "output_type": "stream",
     "text": [
      "Super Built up area - 1749\n",
      "Built up area - 848\n",
      "Carpet area - 1616\n"
     ]
    }
   ],
   "source": [
    "print(\n",
    "    'Super Built up area -',\n",
    "    df['areaWithType'][df['areaWithType'].str.contains('Super Built up area')].shape[0],\n",
    ")\n",
    "print(\n",
    "    'Built up area -',\n",
    "    df['areaWithType'][df['areaWithType'].str.contains('Built Up area')].shape[0],\n",
    ")\n",
    "print('Carpet area -', df['areaWithType'][df['areaWithType'].str.contains('Carpet area')].shape[0])"
   ]
  },
  {
   "cell_type": "code",
   "execution_count": 31,
   "metadata": {},
   "outputs": [],
   "source": [
    "df['built_up_area'] = df['areaWithType'].str.extract(r'Built Up area: (\\d+.?\\d+?)').astype(float)\n",
    "df['carpet_area'] = df['areaWithType'].str.extract(r'Carpet area: (\\d+.?\\d+?)').astype(float)\n",
    "df['super_built_up_area'] = (\n",
    "    df['areaWithType'].str.replace('(', ' ').str.extract(r'Super Built up area (\\d+)').astype(float)\n",
    ")"
   ]
  },
  {
   "cell_type": "code",
   "execution_count": 32,
   "metadata": {},
   "outputs": [
    {
     "data": {
      "text/html": [
       "<div>\n",
       "<style scoped>\n",
       "    .dataframe tbody tr th:only-of-type {\n",
       "        vertical-align: middle;\n",
       "    }\n",
       "\n",
       "    .dataframe tbody tr th {\n",
       "        vertical-align: top;\n",
       "    }\n",
       "\n",
       "    .dataframe thead th {\n",
       "        text-align: right;\n",
       "    }\n",
       "</style>\n",
       "<table border=\"1\" class=\"dataframe\">\n",
       "  <thead>\n",
       "    <tr style=\"text-align: right;\">\n",
       "      <th></th>\n",
       "      <th>area</th>\n",
       "      <th>super_built_up_area</th>\n",
       "      <th>built_up_area</th>\n",
       "      <th>carpet_area</th>\n",
       "    </tr>\n",
       "  </thead>\n",
       "  <tbody>\n",
       "    <tr>\n",
       "      <th>306</th>\n",
       "      <td>2605</td>\n",
       "      <td>2605.0</td>\n",
       "      <td>NaN</td>\n",
       "      <td>NaN</td>\n",
       "    </tr>\n",
       "    <tr>\n",
       "      <th>100</th>\n",
       "      <td>1950</td>\n",
       "      <td>NaN</td>\n",
       "      <td>NaN</td>\n",
       "      <td>1950.0</td>\n",
       "    </tr>\n",
       "    <tr>\n",
       "      <th>1594</th>\n",
       "      <td>1943</td>\n",
       "      <td>1943.0</td>\n",
       "      <td>1750.0</td>\n",
       "      <td>1550.0</td>\n",
       "    </tr>\n",
       "    <tr>\n",
       "      <th>1039</th>\n",
       "      <td>1750</td>\n",
       "      <td>1750.0</td>\n",
       "      <td>1466.0</td>\n",
       "      <td>NaN</td>\n",
       "    </tr>\n",
       "    <tr>\n",
       "      <th>2264</th>\n",
       "      <td>735</td>\n",
       "      <td>735.0</td>\n",
       "      <td>NaN</td>\n",
       "      <td>NaN</td>\n",
       "    </tr>\n",
       "    <tr>\n",
       "      <th>1519</th>\n",
       "      <td>2812</td>\n",
       "      <td>2812.0</td>\n",
       "      <td>2600.0</td>\n",
       "      <td>2400.0</td>\n",
       "    </tr>\n",
       "    <tr>\n",
       "      <th>1955</th>\n",
       "      <td>1672</td>\n",
       "      <td>1672.0</td>\n",
       "      <td>NaN</td>\n",
       "      <td>NaN</td>\n",
       "    </tr>\n",
       "    <tr>\n",
       "      <th>2774</th>\n",
       "      <td>650</td>\n",
       "      <td>650.0</td>\n",
       "      <td>NaN</td>\n",
       "      <td>550.0</td>\n",
       "    </tr>\n",
       "    <tr>\n",
       "      <th>1701</th>\n",
       "      <td>1852</td>\n",
       "      <td>1852.0</td>\n",
       "      <td>NaN</td>\n",
       "      <td>1128.0</td>\n",
       "    </tr>\n",
       "    <tr>\n",
       "      <th>162</th>\n",
       "      <td>514</td>\n",
       "      <td>NaN</td>\n",
       "      <td>NaN</td>\n",
       "      <td>514.0</td>\n",
       "    </tr>\n",
       "  </tbody>\n",
       "</table>\n",
       "</div>"
      ],
      "text/plain": [
       "      area  super_built_up_area  built_up_area  carpet_area\n",
       "306   2605               2605.0            NaN          NaN\n",
       "100   1950                  NaN            NaN       1950.0\n",
       "1594  1943               1943.0         1750.0       1550.0\n",
       "1039  1750               1750.0         1466.0          NaN\n",
       "2264   735                735.0            NaN          NaN\n",
       "1519  2812               2812.0         2600.0       2400.0\n",
       "1955  1672               1672.0            NaN          NaN\n",
       "2774   650                650.0            NaN        550.0\n",
       "1701  1852               1852.0            NaN       1128.0\n",
       "162    514                  NaN            NaN        514.0"
      ]
     },
     "execution_count": 32,
     "metadata": {},
     "output_type": "execute_result"
    }
   ],
   "source": [
    "df[['area', 'super_built_up_area', 'built_up_area', 'carpet_area']].sample(10)"
   ]
  },
  {
   "cell_type": "markdown",
   "metadata": {},
   "source": [
    "**In my case the unit of areas seems good.**"
   ]
  },
  {
   "cell_type": "markdown",
   "metadata": {},
   "source": [
    "## additionalRoom"
   ]
  },
  {
   "cell_type": "code",
   "execution_count": 33,
   "metadata": {},
   "outputs": [],
   "source": [
    "df['additionalRoom'] = df['additionalRoom'].str.lower()"
   ]
  },
  {
   "cell_type": "code",
   "execution_count": 34,
   "metadata": {},
   "outputs": [],
   "source": [
    "additionalRooms = ['study room', 'servant room', 'store room', 'pooja room', 'others']\n",
    "\n",
    "for col in additionalRooms:\n",
    "    df[col] = df['additionalRoom'].str.contains(col).astype(int)"
   ]
  },
  {
   "cell_type": "code",
   "execution_count": 35,
   "metadata": {},
   "outputs": [
    {
     "data": {
      "text/html": [
       "<div>\n",
       "<style scoped>\n",
       "    .dataframe tbody tr th:only-of-type {\n",
       "        vertical-align: middle;\n",
       "    }\n",
       "\n",
       "    .dataframe tbody tr th {\n",
       "        vertical-align: top;\n",
       "    }\n",
       "\n",
       "    .dataframe thead th {\n",
       "        text-align: right;\n",
       "    }\n",
       "</style>\n",
       "<table border=\"1\" class=\"dataframe\">\n",
       "  <thead>\n",
       "    <tr style=\"text-align: right;\">\n",
       "      <th></th>\n",
       "      <th>additionalRoom</th>\n",
       "      <th>study room</th>\n",
       "      <th>servant room</th>\n",
       "      <th>store room</th>\n",
       "      <th>pooja room</th>\n",
       "      <th>others</th>\n",
       "    </tr>\n",
       "  </thead>\n",
       "  <tbody>\n",
       "    <tr>\n",
       "      <th>37</th>\n",
       "      <td>not available</td>\n",
       "      <td>0</td>\n",
       "      <td>0</td>\n",
       "      <td>0</td>\n",
       "      <td>0</td>\n",
       "      <td>0</td>\n",
       "    </tr>\n",
       "    <tr>\n",
       "      <th>2773</th>\n",
       "      <td>servant room</td>\n",
       "      <td>0</td>\n",
       "      <td>1</td>\n",
       "      <td>0</td>\n",
       "      <td>0</td>\n",
       "      <td>0</td>\n",
       "    </tr>\n",
       "    <tr>\n",
       "      <th>1160</th>\n",
       "      <td>not available</td>\n",
       "      <td>0</td>\n",
       "      <td>0</td>\n",
       "      <td>0</td>\n",
       "      <td>0</td>\n",
       "      <td>0</td>\n",
       "    </tr>\n",
       "    <tr>\n",
       "      <th>1904</th>\n",
       "      <td>not available</td>\n",
       "      <td>0</td>\n",
       "      <td>0</td>\n",
       "      <td>0</td>\n",
       "      <td>0</td>\n",
       "      <td>0</td>\n",
       "    </tr>\n",
       "    <tr>\n",
       "      <th>74</th>\n",
       "      <td>not available</td>\n",
       "      <td>0</td>\n",
       "      <td>0</td>\n",
       "      <td>0</td>\n",
       "      <td>0</td>\n",
       "      <td>0</td>\n",
       "    </tr>\n",
       "  </tbody>\n",
       "</table>\n",
       "</div>"
      ],
      "text/plain": [
       "     additionalRoom  study room  servant room  store room  pooja room  others\n",
       "37    not available           0             0           0           0       0\n",
       "2773   servant room           0             1           0           0       0\n",
       "1160  not available           0             0           0           0       0\n",
       "1904  not available           0             0           0           0       0\n",
       "74    not available           0             0           0           0       0"
      ]
     },
     "execution_count": 35,
     "metadata": {},
     "output_type": "execute_result"
    }
   ],
   "source": [
    "df.sample(5)[['additionalRoom', 'study room', 'servant room', 'store room', 'pooja room', 'others']]"
   ]
  },
  {
   "cell_type": "markdown",
   "metadata": {},
   "source": [
    "## agePossession"
   ]
  },
  {
   "cell_type": "code",
   "execution_count": 36,
   "metadata": {},
   "outputs": [
    {
     "data": {
      "text/plain": [
       "1"
      ]
     },
     "execution_count": 36,
     "metadata": {},
     "output_type": "execute_result"
    }
   ],
   "source": [
    "df['agePossession'].isnull().sum()"
   ]
  },
  {
   "cell_type": "code",
   "execution_count": 37,
   "metadata": {},
   "outputs": [
    {
     "data": {
      "text/plain": [
       "array(['1 to 5 Year Old', '10+ Year Old', '0 to 1 Year Old', 'Dec 2023',\n",
       "       'Under Construction', 'undefined', 'Jun 2024', 'Mar 2024',\n",
       "       'Dec 2025', 'By 2023', '5 to 10 Year Old', 'Sep 2025', 'Jan 2024',\n",
       "       'Within 6 months', 'Jan 2027', 'Dec 2024', 'Oct 2024', 'Nov 2023',\n",
       "       'Jul 2026', 'Feb 2024', 'Oct 2023', 'Jan 2025', 'Aug 2023', nan,\n",
       "       'By 2024', 'Apr 2024', 'Nov 2025', 'Dec 2026', 'Within 3 months',\n",
       "       'Apr 2026', 'By 2025', 'Jul 2027', 'Sep 2023', 'By 2027',\n",
       "       'Jan 2026', 'May 2024', 'Nov 2024', 'Aug 2024', 'Mar 2025',\n",
       "       'Jul 2024', 'Jul 2025', 'Sep 2027', 'Jun 2025', 'Jan 2028',\n",
       "       'Aug 2026', 'Mar 2026', 'Aug 2025', 'Oct 2025'], dtype=object)"
      ]
     },
     "execution_count": 37,
     "metadata": {},
     "output_type": "execute_result"
    }
   ],
   "source": [
    "df['agePossession'].unique()"
   ]
  },
  {
   "cell_type": "code",
   "execution_count": 38,
   "metadata": {},
   "outputs": [],
   "source": [
    "def categorize_age_possession(value: str) -> str:\n",
    "    if pd.isna(value):\n",
    "        return \"undefined\"\n",
    "    if \"0 to 1 Year Old\" == value or \"Within 6 months\" == value or \"Within 3 months\" == value:\n",
    "        return \"New Property\"\n",
    "    if \"1 to 5 Year Old\" == value:\n",
    "        return \"Relatively New\"\n",
    "    if \"5 to 10 Year Old\" == value:\n",
    "        return \"Moderately Old\"\n",
    "    if \"10+ Year Old\" == value:\n",
    "        return \"Old Property\"\n",
    "    if \"Under Construction\" == value or \"By\" in value:\n",
    "        return \"Under Construction\"\n",
    "    try:\n",
    "        # For entries like 'May 2024'\n",
    "        int(value.split(\" \")[-1])  # <<- Raises ValueError\n",
    "        return \"Under Construction\"\n",
    "    except ValueError:\n",
    "        return \"undefined\""
   ]
  },
  {
   "cell_type": "code",
   "execution_count": 39,
   "metadata": {},
   "outputs": [],
   "source": [
    "df['agePossession'] = df['agePossession'].apply(categorize_age_possession)"
   ]
  },
  {
   "cell_type": "code",
   "execution_count": 40,
   "metadata": {},
   "outputs": [
    {
     "data": {
      "text/plain": [
       "agePossession\n",
       "Relatively New        1375\n",
       "New Property           450\n",
       "Moderately Old         311\n",
       "Under Construction     220\n",
       "undefined              199\n",
       "Old Property            99\n",
       "Name: count, dtype: int64"
      ]
     },
     "execution_count": 40,
     "metadata": {},
     "output_type": "execute_result"
    }
   ],
   "source": [
    "df['agePossession'].value_counts()"
   ]
  },
  {
   "cell_type": "code",
   "execution_count": 41,
   "metadata": {},
   "outputs": [
    {
     "data": {
      "text/html": [
       "<div>\n",
       "<style scoped>\n",
       "    .dataframe tbody tr th:only-of-type {\n",
       "        vertical-align: middle;\n",
       "    }\n",
       "\n",
       "    .dataframe tbody tr th {\n",
       "        vertical-align: top;\n",
       "    }\n",
       "\n",
       "    .dataframe thead th {\n",
       "        text-align: right;\n",
       "    }\n",
       "</style>\n",
       "<table border=\"1\" class=\"dataframe\">\n",
       "  <thead>\n",
       "    <tr style=\"text-align: right;\">\n",
       "      <th></th>\n",
       "      <th>link</th>\n",
       "      <th>society</th>\n",
       "      <th>price</th>\n",
       "      <th>area</th>\n",
       "      <th>areaWithType</th>\n",
       "      <th>bedRoom</th>\n",
       "      <th>bathroom</th>\n",
       "      <th>balcony</th>\n",
       "      <th>additionalRoom</th>\n",
       "      <th>address</th>\n",
       "      <th>...</th>\n",
       "      <th>sector_by_me</th>\n",
       "      <th>sector</th>\n",
       "      <th>built_up_area</th>\n",
       "      <th>carpet_area</th>\n",
       "      <th>super_built_up_area</th>\n",
       "      <th>study room</th>\n",
       "      <th>servant room</th>\n",
       "      <th>store room</th>\n",
       "      <th>pooja room</th>\n",
       "      <th>others</th>\n",
       "    </tr>\n",
       "  </thead>\n",
       "  <tbody>\n",
       "    <tr>\n",
       "      <th>2305</th>\n",
       "      <td>1-bhk-bedroom-apartment-flat-for-sale-in-rof-aalayas-sector-102-gurgaon-750-sq-ft-spid-Z69515124</td>\n",
       "      <td>ROF Aalayas</td>\n",
       "      <td>45.0</td>\n",
       "      <td>750</td>\n",
       "      <td>Built Up area: 750 (69.68 sq.m.)</td>\n",
       "      <td>1</td>\n",
       "      <td>1</td>\n",
       "      <td>2</td>\n",
       "      <td>not available</td>\n",
       "      <td>sector 102, sector 102 gurgaon, gurgaon, haryana</td>\n",
       "      <td>...</td>\n",
       "      <td>sector 102</td>\n",
       "      <td>sector 102</td>\n",
       "      <td>750.0</td>\n",
       "      <td>NaN</td>\n",
       "      <td>NaN</td>\n",
       "      <td>0</td>\n",
       "      <td>0</td>\n",
       "      <td>0</td>\n",
       "      <td>0</td>\n",
       "      <td>0</td>\n",
       "    </tr>\n",
       "    <tr>\n",
       "      <th>2576</th>\n",
       "      <td>3-bhk-bedroom-apartment-flat-for-sale-in-mehrauli-gurgaon-road-gurgaon-1760-sq-ft-spid-B68924952</td>\n",
       "      <td>Essel Towers</td>\n",
       "      <td>220.0</td>\n",
       "      <td>1760</td>\n",
       "      <td>Carpet area: 1760 (163.51 sq.m.)</td>\n",
       "      <td>3</td>\n",
       "      <td>4</td>\n",
       "      <td>-1</td>\n",
       "      <td>not available</td>\n",
       "      <td>mehrauli gurgaon road, mehrauli gurgaon road, gurgaon, haryana</td>\n",
       "      <td>...</td>\n",
       "      <td>NaN</td>\n",
       "      <td>sector 029</td>\n",
       "      <td>NaN</td>\n",
       "      <td>1760.0</td>\n",
       "      <td>NaN</td>\n",
       "      <td>0</td>\n",
       "      <td>0</td>\n",
       "      <td>0</td>\n",
       "      <td>0</td>\n",
       "      <td>0</td>\n",
       "    </tr>\n",
       "    <tr>\n",
       "      <th>199</th>\n",
       "      <td>2-bhk-bedroom-apartment-flat-for-sale-in-housing-apna-enclave-sector-4-gurgaon-950-sq-ft-spid-E6...</td>\n",
       "      <td>Housing Apna Enclave</td>\n",
       "      <td>39.0</td>\n",
       "      <td>950</td>\n",
       "      <td>Built Up area: 950 (88.26 sq.m.)Carpet area: 750 sq.ft. (69.68 sq.m.)</td>\n",
       "      <td>2</td>\n",
       "      <td>2</td>\n",
       "      <td>1</td>\n",
       "      <td>not available</td>\n",
       "      <td>sector 4, sector 4 gurgaon, gurgaon, haryana</td>\n",
       "      <td>...</td>\n",
       "      <td>sector 4</td>\n",
       "      <td>sector 004</td>\n",
       "      <td>950.0</td>\n",
       "      <td>750.0</td>\n",
       "      <td>NaN</td>\n",
       "      <td>0</td>\n",
       "      <td>0</td>\n",
       "      <td>0</td>\n",
       "      <td>0</td>\n",
       "      <td>0</td>\n",
       "    </tr>\n",
       "    <tr>\n",
       "      <th>2619</th>\n",
       "      <td>3-bhk-bedroom-apartment-flat-for-sale-in-smart-world-gems-sector-89-gurgaon-1423-sq-ft-spid-C691...</td>\n",
       "      <td>Smart World Gems</td>\n",
       "      <td>120.0</td>\n",
       "      <td>1422</td>\n",
       "      <td>Built Up area: 1423 (132.2 sq.m.)Carpet area: 920 sq.ft. (85.47 sq.m.)</td>\n",
       "      <td>3</td>\n",
       "      <td>3</td>\n",
       "      <td>2</td>\n",
       "      <td>not available</td>\n",
       "      <td>sector 89, sector 89 gurgaon, gurgaon, haryana</td>\n",
       "      <td>...</td>\n",
       "      <td>sector 89</td>\n",
       "      <td>sector 089</td>\n",
       "      <td>1423.0</td>\n",
       "      <td>920.0</td>\n",
       "      <td>NaN</td>\n",
       "      <td>0</td>\n",
       "      <td>0</td>\n",
       "      <td>0</td>\n",
       "      <td>0</td>\n",
       "      <td>0</td>\n",
       "    </tr>\n",
       "    <tr>\n",
       "      <th>2746</th>\n",
       "      <td>4-bhk-bedroom-apartment-flat-for-sale-in-adarsh-nagar-gurgaon-3150-sq-ft-spid-Z68946778</td>\n",
       "      <td>Lord Krishna</td>\n",
       "      <td>270.0</td>\n",
       "      <td>3150</td>\n",
       "      <td>Built Up area: 3150 (292.64 sq.m.)</td>\n",
       "      <td>4</td>\n",
       "      <td>3</td>\n",
       "      <td>3</td>\n",
       "      <td>not available</td>\n",
       "      <td>adarsh nagar, sector 12a, adarsh nagar, gurgaon, haryana</td>\n",
       "      <td>...</td>\n",
       "      <td>sector 12a</td>\n",
       "      <td>sector 012a</td>\n",
       "      <td>3150.0</td>\n",
       "      <td>NaN</td>\n",
       "      <td>NaN</td>\n",
       "      <td>0</td>\n",
       "      <td>0</td>\n",
       "      <td>0</td>\n",
       "      <td>0</td>\n",
       "      <td>0</td>\n",
       "    </tr>\n",
       "  </tbody>\n",
       "</table>\n",
       "<p>5 rows × 38 columns</p>\n",
       "</div>"
      ],
      "text/plain": [
       "                                                                                                     link  \\\n",
       "2305     1-bhk-bedroom-apartment-flat-for-sale-in-rof-aalayas-sector-102-gurgaon-750-sq-ft-spid-Z69515124   \n",
       "2576     3-bhk-bedroom-apartment-flat-for-sale-in-mehrauli-gurgaon-road-gurgaon-1760-sq-ft-spid-B68924952   \n",
       "199   2-bhk-bedroom-apartment-flat-for-sale-in-housing-apna-enclave-sector-4-gurgaon-950-sq-ft-spid-E6...   \n",
       "2619  3-bhk-bedroom-apartment-flat-for-sale-in-smart-world-gems-sector-89-gurgaon-1423-sq-ft-spid-C691...   \n",
       "2746              4-bhk-bedroom-apartment-flat-for-sale-in-adarsh-nagar-gurgaon-3150-sq-ft-spid-Z68946778   \n",
       "\n",
       "                   society  price  area  \\\n",
       "2305           ROF Aalayas   45.0   750   \n",
       "2576          Essel Towers  220.0  1760   \n",
       "199   Housing Apna Enclave   39.0   950   \n",
       "2619      Smart World Gems  120.0  1422   \n",
       "2746          Lord Krishna  270.0  3150   \n",
       "\n",
       "                                                                areaWithType  \\\n",
       "2305                                        Built Up area: 750 (69.68 sq.m.)   \n",
       "2576                                        Carpet area: 1760 (163.51 sq.m.)   \n",
       "199    Built Up area: 950 (88.26 sq.m.)Carpet area: 750 sq.ft. (69.68 sq.m.)   \n",
       "2619  Built Up area: 1423 (132.2 sq.m.)Carpet area: 920 sq.ft. (85.47 sq.m.)   \n",
       "2746                                      Built Up area: 3150 (292.64 sq.m.)   \n",
       "\n",
       "      bedRoom  bathroom  balcony additionalRoom  \\\n",
       "2305        1         1        2  not available   \n",
       "2576        3         4       -1  not available   \n",
       "199         2         2        1  not available   \n",
       "2619        3         3        2  not available   \n",
       "2746        4         3        3  not available   \n",
       "\n",
       "                                                             address  ...  \\\n",
       "2305                sector 102, sector 102 gurgaon, gurgaon, haryana  ...   \n",
       "2576  mehrauli gurgaon road, mehrauli gurgaon road, gurgaon, haryana  ...   \n",
       "199                     sector 4, sector 4 gurgaon, gurgaon, haryana  ...   \n",
       "2619                  sector 89, sector 89 gurgaon, gurgaon, haryana  ...   \n",
       "2746        adarsh nagar, sector 12a, adarsh nagar, gurgaon, haryana  ...   \n",
       "\n",
       "     sector_by_me       sector built_up_area carpet_area super_built_up_area  \\\n",
       "2305   sector 102   sector 102         750.0         NaN                 NaN   \n",
       "2576          NaN   sector 029           NaN      1760.0                 NaN   \n",
       "199      sector 4   sector 004         950.0       750.0                 NaN   \n",
       "2619    sector 89   sector 089        1423.0       920.0                 NaN   \n",
       "2746   sector 12a  sector 012a        3150.0         NaN                 NaN   \n",
       "\n",
       "     study room servant room  store room  pooja room  others  \n",
       "2305          0            0           0           0       0  \n",
       "2576          0            0           0           0       0  \n",
       "199           0            0           0           0       0  \n",
       "2619          0            0           0           0       0  \n",
       "2746          0            0           0           0       0  \n",
       "\n",
       "[5 rows x 38 columns]"
      ]
     },
     "execution_count": 41,
     "metadata": {},
     "output_type": "execute_result"
    }
   ],
   "source": [
    "df[df['agePossession'].str.contains('undefined') == True].sample(5)"
   ]
  },
  {
   "cell_type": "markdown",
   "metadata": {},
   "source": [
    "For nnow, I found a relation between `ageposession` and `additionalRoom` columns is that wherever **additionalRoom** is `'not available` the **ageposession** is `'undefined'`."
   ]
  },
  {
   "cell_type": "markdown",
   "metadata": {},
   "source": [
    "## furnishDetails"
   ]
  },
  {
   "cell_type": "code",
   "execution_count": 42,
   "metadata": {},
   "outputs": [],
   "source": [
    "df['furnishDetails'] = df['furnishDetails'].apply(literal_eval)"
   ]
  },
  {
   "cell_type": "code",
   "execution_count": 43,
   "metadata": {},
   "outputs": [
    {
     "data": {
      "text/plain": [
       "17"
      ]
     },
     "execution_count": 43,
     "metadata": {},
     "output_type": "execute_result"
    }
   ],
   "source": [
    "distinct_furnish = (\n",
    "    df['furnishDetails'].explode().str.replace(r'.*\\s', '', regex=True).unique().tolist()\n",
    ")\n",
    "distinct_furnish = [i for i in distinct_furnish if isinstance(i, str)]\n",
    "len(distinct_furnish)"
   ]
  },
  {
   "cell_type": "code",
   "execution_count": 44,
   "metadata": {},
   "outputs": [
    {
     "data": {
      "text/plain": [
       "['Fan',\n",
       " 'Light',\n",
       " 'Wardrobe',\n",
       " 'AC',\n",
       " 'Bed',\n",
       " 'Chimney',\n",
       " 'Curtains',\n",
       " 'Table',\n",
       " 'Geyser',\n",
       " 'Kitchen',\n",
       " 'Microwave',\n",
       " 'Fridge',\n",
       " 'Sofa',\n",
       " 'Stove',\n",
       " 'TV',\n",
       " 'Machine',\n",
       " 'Purifier']"
      ]
     },
     "execution_count": 44,
     "metadata": {},
     "output_type": "execute_result"
    }
   ],
   "source": [
    "distinct_furnish"
   ]
  },
  {
   "cell_type": "code",
   "execution_count": 45,
   "metadata": {},
   "outputs": [],
   "source": [
    "df['furnishDetails'] = df['furnishDetails'].astype(str)\n",
    "furnish_df = pd.DataFrame()\n",
    "\n",
    "for furnish in distinct_furnish:\n",
    "    furnish_df[furnish] = df['furnishDetails'].str.extract(fr'(\\d+) {furnish}')[0]\n",
    "    furnish_df[furnish] = furnish_df[furnish].fillna(0).astype(int)"
   ]
  },
  {
   "cell_type": "code",
   "execution_count": 46,
   "metadata": {},
   "outputs": [
    {
     "data": {
      "text/html": [
       "<div>\n",
       "<style scoped>\n",
       "    .dataframe tbody tr th:only-of-type {\n",
       "        vertical-align: middle;\n",
       "    }\n",
       "\n",
       "    .dataframe tbody tr th {\n",
       "        vertical-align: top;\n",
       "    }\n",
       "\n",
       "    .dataframe thead th {\n",
       "        text-align: right;\n",
       "    }\n",
       "</style>\n",
       "<table border=\"1\" class=\"dataframe\">\n",
       "  <thead>\n",
       "    <tr style=\"text-align: right;\">\n",
       "      <th></th>\n",
       "      <th>Fan</th>\n",
       "      <th>Light</th>\n",
       "      <th>Wardrobe</th>\n",
       "      <th>AC</th>\n",
       "      <th>Bed</th>\n",
       "      <th>Chimney</th>\n",
       "      <th>Curtains</th>\n",
       "      <th>Table</th>\n",
       "      <th>Geyser</th>\n",
       "      <th>Kitchen</th>\n",
       "      <th>Microwave</th>\n",
       "      <th>Fridge</th>\n",
       "      <th>Sofa</th>\n",
       "      <th>Stove</th>\n",
       "      <th>TV</th>\n",
       "      <th>Machine</th>\n",
       "      <th>Purifier</th>\n",
       "    </tr>\n",
       "  </thead>\n",
       "  <tbody>\n",
       "    <tr>\n",
       "      <th>1462</th>\n",
       "      <td>0</td>\n",
       "      <td>0</td>\n",
       "      <td>0</td>\n",
       "      <td>0</td>\n",
       "      <td>0</td>\n",
       "      <td>0</td>\n",
       "      <td>0</td>\n",
       "      <td>0</td>\n",
       "      <td>0</td>\n",
       "      <td>0</td>\n",
       "      <td>0</td>\n",
       "      <td>0</td>\n",
       "      <td>0</td>\n",
       "      <td>0</td>\n",
       "      <td>0</td>\n",
       "      <td>0</td>\n",
       "      <td>0</td>\n",
       "    </tr>\n",
       "    <tr>\n",
       "      <th>2263</th>\n",
       "      <td>1</td>\n",
       "      <td>1</td>\n",
       "      <td>1</td>\n",
       "      <td>0</td>\n",
       "      <td>0</td>\n",
       "      <td>0</td>\n",
       "      <td>0</td>\n",
       "      <td>0</td>\n",
       "      <td>0</td>\n",
       "      <td>0</td>\n",
       "      <td>0</td>\n",
       "      <td>0</td>\n",
       "      <td>0</td>\n",
       "      <td>0</td>\n",
       "      <td>0</td>\n",
       "      <td>0</td>\n",
       "      <td>0</td>\n",
       "    </tr>\n",
       "    <tr>\n",
       "      <th>1235</th>\n",
       "      <td>8</td>\n",
       "      <td>15</td>\n",
       "      <td>3</td>\n",
       "      <td>5</td>\n",
       "      <td>0</td>\n",
       "      <td>1</td>\n",
       "      <td>1</td>\n",
       "      <td>0</td>\n",
       "      <td>5</td>\n",
       "      <td>0</td>\n",
       "      <td>1</td>\n",
       "      <td>1</td>\n",
       "      <td>0</td>\n",
       "      <td>1</td>\n",
       "      <td>0</td>\n",
       "      <td>0</td>\n",
       "      <td>0</td>\n",
       "    </tr>\n",
       "    <tr>\n",
       "      <th>475</th>\n",
       "      <td>5</td>\n",
       "      <td>7</td>\n",
       "      <td>0</td>\n",
       "      <td>3</td>\n",
       "      <td>0</td>\n",
       "      <td>1</td>\n",
       "      <td>0</td>\n",
       "      <td>0</td>\n",
       "      <td>3</td>\n",
       "      <td>0</td>\n",
       "      <td>0</td>\n",
       "      <td>0</td>\n",
       "      <td>0</td>\n",
       "      <td>1</td>\n",
       "      <td>0</td>\n",
       "      <td>0</td>\n",
       "      <td>0</td>\n",
       "    </tr>\n",
       "    <tr>\n",
       "      <th>999</th>\n",
       "      <td>0</td>\n",
       "      <td>0</td>\n",
       "      <td>0</td>\n",
       "      <td>0</td>\n",
       "      <td>0</td>\n",
       "      <td>0</td>\n",
       "      <td>0</td>\n",
       "      <td>0</td>\n",
       "      <td>0</td>\n",
       "      <td>0</td>\n",
       "      <td>0</td>\n",
       "      <td>0</td>\n",
       "      <td>0</td>\n",
       "      <td>0</td>\n",
       "      <td>0</td>\n",
       "      <td>0</td>\n",
       "      <td>0</td>\n",
       "    </tr>\n",
       "    <tr>\n",
       "      <th>2046</th>\n",
       "      <td>0</td>\n",
       "      <td>1</td>\n",
       "      <td>0</td>\n",
       "      <td>0</td>\n",
       "      <td>0</td>\n",
       "      <td>0</td>\n",
       "      <td>0</td>\n",
       "      <td>0</td>\n",
       "      <td>0</td>\n",
       "      <td>0</td>\n",
       "      <td>0</td>\n",
       "      <td>0</td>\n",
       "      <td>0</td>\n",
       "      <td>0</td>\n",
       "      <td>0</td>\n",
       "      <td>0</td>\n",
       "      <td>0</td>\n",
       "    </tr>\n",
       "    <tr>\n",
       "      <th>165</th>\n",
       "      <td>0</td>\n",
       "      <td>0</td>\n",
       "      <td>0</td>\n",
       "      <td>0</td>\n",
       "      <td>0</td>\n",
       "      <td>0</td>\n",
       "      <td>0</td>\n",
       "      <td>0</td>\n",
       "      <td>0</td>\n",
       "      <td>0</td>\n",
       "      <td>0</td>\n",
       "      <td>0</td>\n",
       "      <td>0</td>\n",
       "      <td>0</td>\n",
       "      <td>0</td>\n",
       "      <td>0</td>\n",
       "      <td>0</td>\n",
       "    </tr>\n",
       "    <tr>\n",
       "      <th>380</th>\n",
       "      <td>12</td>\n",
       "      <td>50</td>\n",
       "      <td>0</td>\n",
       "      <td>7</td>\n",
       "      <td>0</td>\n",
       "      <td>1</td>\n",
       "      <td>1</td>\n",
       "      <td>0</td>\n",
       "      <td>4</td>\n",
       "      <td>0</td>\n",
       "      <td>1</td>\n",
       "      <td>0</td>\n",
       "      <td>0</td>\n",
       "      <td>1</td>\n",
       "      <td>0</td>\n",
       "      <td>0</td>\n",
       "      <td>0</td>\n",
       "    </tr>\n",
       "    <tr>\n",
       "      <th>237</th>\n",
       "      <td>0</td>\n",
       "      <td>0</td>\n",
       "      <td>0</td>\n",
       "      <td>0</td>\n",
       "      <td>0</td>\n",
       "      <td>0</td>\n",
       "      <td>0</td>\n",
       "      <td>0</td>\n",
       "      <td>0</td>\n",
       "      <td>0</td>\n",
       "      <td>0</td>\n",
       "      <td>0</td>\n",
       "      <td>0</td>\n",
       "      <td>0</td>\n",
       "      <td>0</td>\n",
       "      <td>0</td>\n",
       "      <td>0</td>\n",
       "    </tr>\n",
       "    <tr>\n",
       "      <th>2771</th>\n",
       "      <td>0</td>\n",
       "      <td>0</td>\n",
       "      <td>0</td>\n",
       "      <td>4</td>\n",
       "      <td>0</td>\n",
       "      <td>1</td>\n",
       "      <td>0</td>\n",
       "      <td>0</td>\n",
       "      <td>0</td>\n",
       "      <td>0</td>\n",
       "      <td>0</td>\n",
       "      <td>0</td>\n",
       "      <td>0</td>\n",
       "      <td>1</td>\n",
       "      <td>0</td>\n",
       "      <td>0</td>\n",
       "      <td>0</td>\n",
       "    </tr>\n",
       "  </tbody>\n",
       "</table>\n",
       "</div>"
      ],
      "text/plain": [
       "      Fan  Light  Wardrobe  AC  Bed  Chimney  Curtains  Table  Geyser  \\\n",
       "1462    0      0         0   0    0        0         0      0       0   \n",
       "2263    1      1         1   0    0        0         0      0       0   \n",
       "1235    8     15         3   5    0        1         1      0       5   \n",
       "475     5      7         0   3    0        1         0      0       3   \n",
       "999     0      0         0   0    0        0         0      0       0   \n",
       "2046    0      1         0   0    0        0         0      0       0   \n",
       "165     0      0         0   0    0        0         0      0       0   \n",
       "380    12     50         0   7    0        1         1      0       4   \n",
       "237     0      0         0   0    0        0         0      0       0   \n",
       "2771    0      0         0   4    0        1         0      0       0   \n",
       "\n",
       "      Kitchen  Microwave  Fridge  Sofa  Stove  TV  Machine  Purifier  \n",
       "1462        0          0       0     0      0   0        0         0  \n",
       "2263        0          0       0     0      0   0        0         0  \n",
       "1235        0          1       1     0      1   0        0         0  \n",
       "475         0          0       0     0      1   0        0         0  \n",
       "999         0          0       0     0      0   0        0         0  \n",
       "2046        0          0       0     0      0   0        0         0  \n",
       "165         0          0       0     0      0   0        0         0  \n",
       "380         0          1       0     0      1   0        0         0  \n",
       "237         0          0       0     0      0   0        0         0  \n",
       "2771        0          0       0     0      1   0        0         0  "
      ]
     },
     "execution_count": 46,
     "metadata": {},
     "output_type": "execute_result"
    }
   ],
   "source": [
    "furnish_df.sample(10)"
   ]
  },
  {
   "cell_type": "code",
   "execution_count": 47,
   "metadata": {},
   "outputs": [],
   "source": [
    "scaler = StandardScaler()\n",
    "furnish_scaled = scaler.fit_transform(furnish_df)"
   ]
  },
  {
   "cell_type": "code",
   "execution_count": 48,
   "metadata": {},
   "outputs": [],
   "source": [
    "wcss_reduced = []\n",
    "\n",
    "for i in range(1, 11):\n",
    "    kmeans = KMeans(n_clusters=i, init='k-means++', n_init=10, random_state=42)\n",
    "    kmeans.fit(furnish_scaled)\n",
    "    wcss_reduced.append(kmeans.inertia_)"
   ]
  },
  {
   "cell_type": "code",
   "execution_count": 49,
   "metadata": {},
   "outputs": [
    {
     "data": {
      "image/png": "[encoded data removed]",
      "text/plain": [
       "<Figure size 1500x500 with 1 Axes>"
      ]
     },
     "metadata": {},
     "output_type": "display_data"
    }
   ],
   "source": [
    "# Plot the results\n",
    "plt.figure(figsize=(15, 5))\n",
    "plt.plot(range(1, 11), wcss_reduced, marker='o', linestyle='--')\n",
    "\n",
    "plt.title('Elbow Method for Optimal Number of Clusters (Reduced Range)')\n",
    "plt.xlabel('Number of Clusters')\n",
    "plt.ylabel('WCSS')\n",
    "plt.grid(True)\n",
    "plt.show()"
   ]
  },
  {
   "cell_type": "code",
   "execution_count": 50,
   "metadata": {},
   "outputs": [],
   "source": [
    "n_clusters = 3\n",
    "\n",
    "# Fit the KMeans model\n",
    "kmeans = KMeans(n_clusters=n_clusters, init='k-means++', n_init=10, random_state=42)\n",
    "kmeans.fit(furnish_scaled)\n",
    "\n",
    "# Predict the cluster assignments for each row\n",
    "cluster_assignments = kmeans.predict(furnish_scaled)"
   ]
  },
  {
   "cell_type": "code",
   "execution_count": 51,
   "metadata": {},
   "outputs": [],
   "source": [
    "df['furnish_type'] = cluster_assignments"
   ]
  },
  {
   "cell_type": "code",
   "execution_count": 52,
   "metadata": {},
   "outputs": [
    {
     "data": {
      "text/html": [
       "<div>\n",
       "<style scoped>\n",
       "    .dataframe tbody tr th:only-of-type {\n",
       "        vertical-align: middle;\n",
       "    }\n",
       "\n",
       "    .dataframe tbody tr th {\n",
       "        vertical-align: top;\n",
       "    }\n",
       "\n",
       "    .dataframe thead th {\n",
       "        text-align: right;\n",
       "    }\n",
       "</style>\n",
       "<table border=\"1\" class=\"dataframe\">\n",
       "  <thead>\n",
       "    <tr style=\"text-align: right;\">\n",
       "      <th></th>\n",
       "      <th>furnishDetails</th>\n",
       "      <th>furnish_type</th>\n",
       "    </tr>\n",
       "  </thead>\n",
       "  <tbody>\n",
       "    <tr>\n",
       "      <th>0</th>\n",
       "      <td>['3 Fan', '4 Light', '1 Wardrobe', 'No AC', 'No Bed', 'No Chimney', 'No Curtains', 'No Dining Ta...</td>\n",
       "      <td>1</td>\n",
       "    </tr>\n",
       "    <tr>\n",
       "      <th>1</th>\n",
       "      <td>['3 Wardrobe', '4 Fan', '1 Exhaust Fan', '1 Geyser', '3 Light', '1 Curtains', '1 Chimney', '1 Mo...</td>\n",
       "      <td>0</td>\n",
       "    </tr>\n",
       "    <tr>\n",
       "      <th>2</th>\n",
       "      <td>[]</td>\n",
       "      <td>1</td>\n",
       "    </tr>\n",
       "    <tr>\n",
       "      <th>3</th>\n",
       "      <td>[]</td>\n",
       "      <td>1</td>\n",
       "    </tr>\n",
       "    <tr>\n",
       "      <th>4</th>\n",
       "      <td>[]</td>\n",
       "      <td>1</td>\n",
       "    </tr>\n",
       "    <tr>\n",
       "      <th>...</th>\n",
       "      <td>...</td>\n",
       "      <td>...</td>\n",
       "    </tr>\n",
       "    <tr>\n",
       "      <th>2780</th>\n",
       "      <td>['3 Fan', '4 Light', '1 Wardrobe', 'No AC', 'No Bed', 'No Chimney', 'No Curtains', 'No Dining Ta...</td>\n",
       "      <td>1</td>\n",
       "    </tr>\n",
       "    <tr>\n",
       "      <th>2781</th>\n",
       "      <td>['3 Wardrobe', '4 Fan', '1 Exhaust Fan', '1 Geyser', '3 Light', '1 Curtains', '1 Chimney', '1 Mo...</td>\n",
       "      <td>0</td>\n",
       "    </tr>\n",
       "    <tr>\n",
       "      <th>2782</th>\n",
       "      <td>[]</td>\n",
       "      <td>1</td>\n",
       "    </tr>\n",
       "    <tr>\n",
       "      <th>2783</th>\n",
       "      <td>[]</td>\n",
       "      <td>1</td>\n",
       "    </tr>\n",
       "    <tr>\n",
       "      <th>2784</th>\n",
       "      <td>[]</td>\n",
       "      <td>1</td>\n",
       "    </tr>\n",
       "  </tbody>\n",
       "</table>\n",
       "<p>2654 rows × 2 columns</p>\n",
       "</div>"
      ],
      "text/plain": [
       "                                                                                           furnishDetails  \\\n",
       "0     ['3 Fan', '4 Light', '1 Wardrobe', 'No AC', 'No Bed', 'No Chimney', 'No Curtains', 'No Dining Ta...   \n",
       "1     ['3 Wardrobe', '4 Fan', '1 Exhaust Fan', '1 Geyser', '3 Light', '1 Curtains', '1 Chimney', '1 Mo...   \n",
       "2                                                                                                      []   \n",
       "3                                                                                                      []   \n",
       "4                                                                                                      []   \n",
       "...                                                                                                   ...   \n",
       "2780  ['3 Fan', '4 Light', '1 Wardrobe', 'No AC', 'No Bed', 'No Chimney', 'No Curtains', 'No Dining Ta...   \n",
       "2781  ['3 Wardrobe', '4 Fan', '1 Exhaust Fan', '1 Geyser', '3 Light', '1 Curtains', '1 Chimney', '1 Mo...   \n",
       "2782                                                                                                   []   \n",
       "2783                                                                                                   []   \n",
       "2784                                                                                                   []   \n",
       "\n",
       "      furnish_type  \n",
       "0                1  \n",
       "1                0  \n",
       "2                1  \n",
       "3                1  \n",
       "4                1  \n",
       "...            ...  \n",
       "2780             1  \n",
       "2781             0  \n",
       "2782             1  \n",
       "2783             1  \n",
       "2784             1  \n",
       "\n",
       "[2654 rows x 2 columns]"
      ]
     },
     "execution_count": 52,
     "metadata": {},
     "output_type": "execute_result"
    }
   ],
   "source": [
    "df[['furnishDetails', 'furnish_type']]"
   ]
  },
  {
   "cell_type": "markdown",
   "metadata": {},
   "source": [
    "**furnish_type**\n",
    "\n",
    "- `0` -> **unfurnished**\n",
    "- `1` -> **semifurnished**\n",
    "- `2` -> **furnished**"
   ]
  },
  {
   "cell_type": "markdown",
   "metadata": {},
   "source": [
    "## features"
   ]
  },
  {
   "cell_type": "markdown",
   "metadata": {},
   "source": [
    "In the feature engineering session of the course Sir's method got failed becuse the newly created feature `luxury_score` of flats has not a signoficant co-relation with `price` target feature.\n",
    "\n",
    "**That's why I am not going to follow the Sir's method. I am goning to find my way to deal with this column.**"
   ]
  },
  {
   "cell_type": "code",
   "execution_count": 53,
   "metadata": {},
   "outputs": [],
   "source": [
    "df['features'] = df['features'].apply(literal_eval)"
   ]
  },
  {
   "cell_type": "code",
   "execution_count": 54,
   "metadata": {},
   "outputs": [
    {
     "data": {
      "text/plain": [
       "array(['Feng Shui / Vaastu Compliant', 'Security / Fire Alarm', 'Lift(s)',\n",
       "       'Water Storage', 'Visitor Parking', 'Maintenance Staff', 'Park',\n",
       "       'Power Back-up', 'Intercom Facility', 'Swimming Pool',\n",
       "       'Fitness Centre / GYM', 'Club house / Community Center',\n",
       "       'Private Garden / Terrace', 'False Ceiling Lighting',\n",
       "       'Natural Light', 'Airy Rooms', 'Water softening plant', nan,\n",
       "       'Security Personnel', 'Internet/wi-fi connectivity',\n",
       "       'Rain Water Harvesting', 'Separate entry for servant room',\n",
       "       'Spacious Interiors', 'Waste Disposal', 'Piped-gas',\n",
       "       'Shopping Centre', 'Water purifier', 'No open drainage around',\n",
       "       'Low Density Society', 'Bank Attached Property',\n",
       "       'High Ceiling Height', 'Centrally Air Conditioned',\n",
       "       'Recently Renovated'], dtype=object)"
      ]
     },
     "execution_count": 54,
     "metadata": {},
     "output_type": "execute_result"
    }
   ],
   "source": [
    "df['features'].explode().unique()"
   ]
  },
  {
   "cell_type": "code",
   "execution_count": 55,
   "metadata": {},
   "outputs": [
    {
     "name": "stdout",
     "output_type": "stream",
     "text": [
      "(247, 2)\n"
     ]
    },
    {
     "data": {
      "text/html": [
       "<div>\n",
       "<style scoped>\n",
       "    .dataframe tbody tr th:only-of-type {\n",
       "        vertical-align: middle;\n",
       "    }\n",
       "\n",
       "    .dataframe tbody tr th {\n",
       "        vertical-align: top;\n",
       "    }\n",
       "\n",
       "    .dataframe thead th {\n",
       "        text-align: right;\n",
       "    }\n",
       "</style>\n",
       "<table border=\"1\" class=\"dataframe\">\n",
       "  <thead>\n",
       "    <tr style=\"text-align: right;\">\n",
       "      <th></th>\n",
       "      <th>PropertyName</th>\n",
       "      <th>TopFacilities</th>\n",
       "    </tr>\n",
       "  </thead>\n",
       "  <tbody>\n",
       "    <tr>\n",
       "      <th>0</th>\n",
       "      <td>Smartworld One DXP</td>\n",
       "      <td>['Swimming Pool', 'Salon', 'Restaurant', 'Spa', 'Cafeteria', 'Sun Deck', '24x7 Security', 'Club ...</td>\n",
       "    </tr>\n",
       "    <tr>\n",
       "      <th>1</th>\n",
       "      <td>M3M Crown</td>\n",
       "      <td>['Bowling Alley', 'Mini Theatre', 'Manicured Garden', 'Swimming Pool', 'Flower Garden', 'Reading...</td>\n",
       "    </tr>\n",
       "  </tbody>\n",
       "</table>\n",
       "</div>"
      ],
      "text/plain": [
       "         PropertyName  \\\n",
       "0  Smartworld One DXP   \n",
       "1           M3M Crown   \n",
       "\n",
       "                                                                                         TopFacilities  \n",
       "0  ['Swimming Pool', 'Salon', 'Restaurant', 'Spa', 'Cafeteria', 'Sun Deck', '24x7 Security', 'Club ...  \n",
       "1  ['Bowling Alley', 'Mini Theatre', 'Manicured Garden', 'Swimming Pool', 'Flower Garden', 'Reading...  "
      ]
     },
     "execution_count": 55,
     "metadata": {},
     "output_type": "execute_result"
    }
   ],
   "source": [
    "apartments = pd.read_csv('data/appartments.csv', usecols=['PropertyName', 'TopFacilities'])\n",
    "print(apartments.shape)\n",
    "apartments.head(2)"
   ]
  },
  {
   "cell_type": "code",
   "execution_count": 56,
   "metadata": {},
   "outputs": [
    {
     "data": {
      "text/plain": [
       "0"
      ]
     },
     "execution_count": 56,
     "metadata": {},
     "output_type": "execute_result"
    }
   ],
   "source": [
    "apartments['TopFacilities'].isnull().sum()"
   ]
  },
  {
   "cell_type": "code",
   "execution_count": 57,
   "metadata": {},
   "outputs": [],
   "source": [
    "drop_rows = apartments[apartments['TopFacilities'].str.startswith('[') == False].index\n",
    "apartments.drop(index=drop_rows, inplace=True)"
   ]
  },
  {
   "cell_type": "code",
   "execution_count": 58,
   "metadata": {},
   "outputs": [],
   "source": [
    "apartments['TopFacilities'] = apartments['TopFacilities'].apply(literal_eval)"
   ]
  },
  {
   "cell_type": "code",
   "execution_count": 59,
   "metadata": {},
   "outputs": [
    {
     "data": {
      "text/html": [
       "<div>\n",
       "<style scoped>\n",
       "    .dataframe tbody tr th:only-of-type {\n",
       "        vertical-align: middle;\n",
       "    }\n",
       "\n",
       "    .dataframe tbody tr th {\n",
       "        vertical-align: top;\n",
       "    }\n",
       "\n",
       "    .dataframe thead th {\n",
       "        text-align: right;\n",
       "    }\n",
       "</style>\n",
       "<table border=\"1\" class=\"dataframe\">\n",
       "  <thead>\n",
       "    <tr style=\"text-align: right;\">\n",
       "      <th></th>\n",
       "      <th>society</th>\n",
       "      <th>features</th>\n",
       "    </tr>\n",
       "  </thead>\n",
       "  <tbody>\n",
       "    <tr>\n",
       "      <th>4</th>\n",
       "      <td>parkwood westend</td>\n",
       "      <td>[]</td>\n",
       "    </tr>\n",
       "    <tr>\n",
       "      <th>5</th>\n",
       "      <td>signature global infinity mall</td>\n",
       "      <td>[]</td>\n",
       "    </tr>\n",
       "    <tr>\n",
       "      <th>6</th>\n",
       "      <td>the cocoon</td>\n",
       "      <td>[]</td>\n",
       "    </tr>\n",
       "    <tr>\n",
       "      <th>12</th>\n",
       "      <td>supertech araville</td>\n",
       "      <td>[]</td>\n",
       "    </tr>\n",
       "    <tr>\n",
       "      <th>13</th>\n",
       "      <td>godrej</td>\n",
       "      <td>[]</td>\n",
       "    </tr>\n",
       "  </tbody>\n",
       "</table>\n",
       "</div>"
      ],
      "text/plain": [
       "                           society features\n",
       "4                 parkwood westend       []\n",
       "5   signature global infinity mall       []\n",
       "6                       the cocoon       []\n",
       "12              supertech araville       []\n",
       "13                          godrej       []"
      ]
     },
     "execution_count": 59,
     "metadata": {},
     "output_type": "execute_result"
    }
   ],
   "source": [
    "null_features_df = df[['society', 'features']][\n",
    "    df['features'].apply(lambda x: x if x else np.nan).isnull()\n",
    "]\n",
    "null_features_df['society'] = null_features_df['society'].str.lower()\n",
    "\n",
    "null_features_df.head()"
   ]
  },
  {
   "cell_type": "code",
   "execution_count": 60,
   "metadata": {},
   "outputs": [],
   "source": [
    "apartments['PropertyName'] = apartments['PropertyName'].str.lower()"
   ]
  },
  {
   "cell_type": "code",
   "execution_count": 61,
   "metadata": {},
   "outputs": [],
   "source": [
    "temp_df = null_features_df.merge(\n",
    "    apartments,\n",
    "    left_on='society',\n",
    "    right_on='PropertyName',\n",
    "    how='left',\n",
    ")"
   ]
  },
  {
   "cell_type": "code",
   "execution_count": 62,
   "metadata": {},
   "outputs": [],
   "source": [
    "df.loc[null_features_df.index, 'features'] = temp_df['TopFacilities'].values"
   ]
  },
  {
   "cell_type": "code",
   "execution_count": 63,
   "metadata": {},
   "outputs": [
    {
     "data": {
      "text/plain": [
       "209"
      ]
     },
     "execution_count": 63,
     "metadata": {},
     "output_type": "execute_result"
    }
   ],
   "source": [
    "df['features'].isnull().sum()"
   ]
  },
  {
   "cell_type": "code",
   "execution_count": 64,
   "metadata": {},
   "outputs": [],
   "source": [
    "# df['features'] = df['features'].apply(lambda x: [] if isinstance(x, float) else x)"
   ]
  },
  {
   "cell_type": "markdown",
   "metadata": {},
   "source": [
    "## General Step"
   ]
  },
  {
   "cell_type": "markdown",
   "metadata": {},
   "source": [
    "**Some major points**\n",
    "\n",
    "1. I didn't work upon `nearbyLocation`. Although I did something in [1.1_CLEANING.ipynb](./1.1_CLEANING.ipynb)"
   ]
  },
  {
   "cell_type": "code",
   "execution_count": 65,
   "metadata": {},
   "outputs": [
    {
     "data": {
      "text/plain": [
       "Index(['link', 'society', 'price', 'area', 'areaWithType', 'bedRoom',\n",
       "       'bathroom', 'balcony', 'additionalRoom', 'address', 'facing',\n",
       "       'agePossession', 'nearbyLocations', 'description', 'furnishDetails',\n",
       "       'features', 'property_id', 'nthFloor', 'totalFloor', 'Transportation',\n",
       "       'Education', 'Healthcare', 'Shopping', 'Dining', 'Accommodation',\n",
       "       'Entertainment', 'Service', 'sector_by_sir', 'sector_by_me', 'sector',\n",
       "       'built_up_area', 'carpet_area', 'super_built_up_area', 'study room',\n",
       "       'servant room', 'store room', 'pooja room', 'others', 'furnish_type'],\n",
       "      dtype='object')"
      ]
     },
     "execution_count": 65,
     "metadata": {},
     "output_type": "execute_result"
    }
   ],
   "source": [
    "df.columns"
   ]
  },
  {
   "cell_type": "code",
   "execution_count": 66,
   "metadata": {},
   "outputs": [
    {
     "data": {
      "text/plain": [
       "link                      0\n",
       "society                   0\n",
       "price                     0\n",
       "area                      0\n",
       "areaWithType              0\n",
       "bedRoom                   0\n",
       "bathroom                  0\n",
       "balcony                   0\n",
       "additionalRoom            0\n",
       "address                   3\n",
       "facing                  707\n",
       "agePossession             0\n",
       "nearbyLocations           0\n",
       "description               0\n",
       "furnishDetails            0\n",
       "features                209\n",
       "property_id               0\n",
       "nthFloor                  1\n",
       "totalFloor                1\n",
       "Transportation            0\n",
       "Education                 0\n",
       "Healthcare                0\n",
       "Shopping                  0\n",
       "Dining                    0\n",
       "Accommodation             0\n",
       "Entertainment             0\n",
       "Service                   0\n",
       "sector_by_sir          1383\n",
       "sector_by_me            179\n",
       "sector                    0\n",
       "built_up_area          1806\n",
       "carpet_area            1038\n",
       "super_built_up_area     905\n",
       "study room                0\n",
       "servant room              0\n",
       "store room                0\n",
       "pooja room                0\n",
       "others                    0\n",
       "furnish_type              0\n",
       "dtype: int64"
      ]
     },
     "execution_count": 66,
     "metadata": {},
     "output_type": "execute_result"
    }
   ],
   "source": [
    "df.isnull().sum()"
   ]
  },
  {
   "cell_type": "code",
   "execution_count": 67,
   "metadata": {},
   "outputs": [],
   "source": [
    "df.drop(\n",
    "    columns=[\n",
    "        'areaWithType',\n",
    "        'additionalRoom',\n",
    "        'address',\n",
    "        'furnishDetails',\n",
    "        'sector_by_sir',\n",
    "        'sector_by_me',\n",
    "    ],\n",
    "    inplace=True,\n",
    ")"
   ]
  },
  {
   "cell_type": "code",
   "execution_count": 68,
   "metadata": {},
   "outputs": [
    {
     "data": {
      "text/html": [
       "<div>\n",
       "<style scoped>\n",
       "    .dataframe tbody tr th:only-of-type {\n",
       "        vertical-align: middle;\n",
       "    }\n",
       "\n",
       "    .dataframe tbody tr th {\n",
       "        vertical-align: top;\n",
       "    }\n",
       "\n",
       "    .dataframe thead th {\n",
       "        text-align: right;\n",
       "    }\n",
       "</style>\n",
       "<table border=\"1\" class=\"dataframe\">\n",
       "  <thead>\n",
       "    <tr style=\"text-align: right;\">\n",
       "      <th></th>\n",
       "      <th>link</th>\n",
       "      <th>society</th>\n",
       "      <th>price</th>\n",
       "      <th>area</th>\n",
       "      <th>bedRoom</th>\n",
       "      <th>bathroom</th>\n",
       "      <th>balcony</th>\n",
       "      <th>facing</th>\n",
       "      <th>agePossession</th>\n",
       "      <th>nearbyLocations</th>\n",
       "      <th>description</th>\n",
       "      <th>features</th>\n",
       "      <th>property_id</th>\n",
       "      <th>nthFloor</th>\n",
       "      <th>totalFloor</th>\n",
       "      <th>Transportation</th>\n",
       "      <th>Education</th>\n",
       "      <th>Healthcare</th>\n",
       "      <th>Shopping</th>\n",
       "      <th>Dining</th>\n",
       "      <th>Accommodation</th>\n",
       "      <th>Entertainment</th>\n",
       "      <th>Service</th>\n",
       "      <th>sector</th>\n",
       "      <th>built_up_area</th>\n",
       "      <th>carpet_area</th>\n",
       "      <th>super_built_up_area</th>\n",
       "      <th>study room</th>\n",
       "      <th>servant room</th>\n",
       "      <th>store room</th>\n",
       "      <th>pooja room</th>\n",
       "      <th>others</th>\n",
       "      <th>furnish_type</th>\n",
       "    </tr>\n",
       "  </thead>\n",
       "  <tbody>\n",
       "    <tr>\n",
       "      <th>2427</th>\n",
       "      <td>2-bhk-bedroom-apartment-flat-for-sale-in-smart-world-gems-sector-89-gurgaon-1103-sq-ft-spid-J692...</td>\n",
       "      <td>Smart World Gems</td>\n",
       "      <td>88.0</td>\n",
       "      <td>1103</td>\n",
       "      <td>2</td>\n",
       "      <td>2</td>\n",
       "      <td>0</td>\n",
       "      <td>NaN</td>\n",
       "      <td>undefined</td>\n",
       "      <td>['Sant Soordas Sihi Metro Station', 'Airia Mall', 'Dwarka Expressway', 'Pataudi Road', 'NH-8', '...</td>\n",
       "      <td>Best in class property available at sector 89 location in gurgaon</td>\n",
       "      <td>[Swimming Pool, Lounge, Aerobics Centre, Terrace Garden, Piped Gas, Squash Court, Gazebo, Wi-Fi ...</td>\n",
       "      <td>J69238068</td>\n",
       "      <td>2.0</td>\n",
       "      <td>2.0</td>\n",
       "      <td>6</td>\n",
       "      <td>2</td>\n",
       "      <td>1</td>\n",
       "      <td>1</td>\n",
       "      <td>0</td>\n",
       "      <td>1</td>\n",
       "      <td>2</td>\n",
       "      <td>0</td>\n",
       "      <td>sector 089</td>\n",
       "      <td>1103.0</td>\n",
       "      <td>NaN</td>\n",
       "      <td>NaN</td>\n",
       "      <td>0</td>\n",
       "      <td>0</td>\n",
       "      <td>0</td>\n",
       "      <td>0</td>\n",
       "      <td>0</td>\n",
       "      <td>1</td>\n",
       "    </tr>\n",
       "    <tr>\n",
       "      <th>377</th>\n",
       "      <td>4-bhk-bedroom-apartment-flat-for-sale-in-indiabulls-centrum-park-sector-103-gurgaon-2875-sq-ft-s...</td>\n",
       "      <td>Indiabulls Centrum Park</td>\n",
       "      <td>245.0</td>\n",
       "      <td>2875</td>\n",
       "      <td>4</td>\n",
       "      <td>6</td>\n",
       "      <td>3</td>\n",
       "      <td>NaN</td>\n",
       "      <td>Relatively New</td>\n",
       "      <td>['Gurgaon Dreamz Mall', 'HUDA Market, Sector 14', 'Dwarka Expressway', 'Delhi Gurgaon Expressway...</td>\n",
       "      <td>Near upcoimg dwarka maneser express way. Near to dwarka new delhi</td>\n",
       "      <td>[Power Back-up, Lift(s), Swimming Pool, Park, Shopping Centre, Fitness Centre / GYM, Club house ...</td>\n",
       "      <td>V69714126</td>\n",
       "      <td>5.0</td>\n",
       "      <td>18.0</td>\n",
       "      <td>5</td>\n",
       "      <td>3</td>\n",
       "      <td>1</td>\n",
       "      <td>1</td>\n",
       "      <td>0</td>\n",
       "      <td>1</td>\n",
       "      <td>3</td>\n",
       "      <td>0</td>\n",
       "      <td>sector 103</td>\n",
       "      <td>NaN</td>\n",
       "      <td>NaN</td>\n",
       "      <td>2875.0</td>\n",
       "      <td>0</td>\n",
       "      <td>1</td>\n",
       "      <td>0</td>\n",
       "      <td>0</td>\n",
       "      <td>0</td>\n",
       "      <td>1</td>\n",
       "    </tr>\n",
       "    <tr>\n",
       "      <th>2681</th>\n",
       "      <td>2-bhk-bedroom-apartment-flat-for-sale-in-smart-world-gems-sector-89-gurgaon-1103-sq-ft-r2-spid-G...</td>\n",
       "      <td>Smart World Gems</td>\n",
       "      <td>86.0</td>\n",
       "      <td>1103</td>\n",
       "      <td>2</td>\n",
       "      <td>3</td>\n",
       "      <td>2</td>\n",
       "      <td>North-East</td>\n",
       "      <td>New Property</td>\n",
       "      <td>['Sant Soordas Sihi Metro Station', 'Airia Mall', 'Dwarka Expressway', 'Pataudi Road', 'NH-8', '...</td>\n",
       "      <td>Park facing, green belt, at very reasonable rate on 4th floor..</td>\n",
       "      <td>[Security / Fire Alarm, Feng Shui / Vaastu Compliant, Intercom Facility, Lift(s), Maintenance St...</td>\n",
       "      <td>G66179018</td>\n",
       "      <td>4.0</td>\n",
       "      <td>4.0</td>\n",
       "      <td>6</td>\n",
       "      <td>2</td>\n",
       "      <td>1</td>\n",
       "      <td>1</td>\n",
       "      <td>0</td>\n",
       "      <td>1</td>\n",
       "      <td>2</td>\n",
       "      <td>0</td>\n",
       "      <td>sector 089</td>\n",
       "      <td>NaN</td>\n",
       "      <td>1103.0</td>\n",
       "      <td>NaN</td>\n",
       "      <td>1</td>\n",
       "      <td>1</td>\n",
       "      <td>0</td>\n",
       "      <td>1</td>\n",
       "      <td>0</td>\n",
       "      <td>0</td>\n",
       "    </tr>\n",
       "    <tr>\n",
       "      <th>1477</th>\n",
       "      <td>2-bhk-bedroom-apartment-flat-for-sale-in-godrej-101-sector-79-gurgaon-1559-sq-ft-spid-W69483012</td>\n",
       "      <td>Godrej 101</td>\n",
       "      <td>133.0</td>\n",
       "      <td>1559</td>\n",
       "      <td>2</td>\n",
       "      <td>2</td>\n",
       "      <td>3</td>\n",
       "      <td>North-West</td>\n",
       "      <td>Relatively New</td>\n",
       "      <td>['Vatika Town Square-INXT', 'Naurangpur Road', 'NH 48', 'Euro International School', 'Gurugram U...</td>\n",
       "      <td>Godrej 101 is one of gurgaon's most sought after destination for apartments and this 2 bhk flat ...</td>\n",
       "      <td>[Centrally Air Conditioned, Security / Fire Alarm, Power Back-up, Feng Shui / Vaastu Compliant, ...</td>\n",
       "      <td>W69483012</td>\n",
       "      <td>6.0</td>\n",
       "      <td>15.0</td>\n",
       "      <td>3</td>\n",
       "      <td>2</td>\n",
       "      <td>0</td>\n",
       "      <td>0</td>\n",
       "      <td>0</td>\n",
       "      <td>1</td>\n",
       "      <td>1</td>\n",
       "      <td>0</td>\n",
       "      <td>sector 079</td>\n",
       "      <td>NaN</td>\n",
       "      <td>NaN</td>\n",
       "      <td>1559.0</td>\n",
       "      <td>1</td>\n",
       "      <td>0</td>\n",
       "      <td>0</td>\n",
       "      <td>0</td>\n",
       "      <td>0</td>\n",
       "      <td>1</td>\n",
       "    </tr>\n",
       "    <tr>\n",
       "      <th>2351</th>\n",
       "      <td>1-bhk-bedroom-apartment-flat-for-sale-in-signature-global-solera-sector-107-gurgaon-318-sq-ft-sp...</td>\n",
       "      <td>Signature Global Solera</td>\n",
       "      <td>25.0</td>\n",
       "      <td>317</td>\n",
       "      <td>1</td>\n",
       "      <td>1</td>\n",
       "      <td>0</td>\n",
       "      <td>NaN</td>\n",
       "      <td>undefined</td>\n",
       "      <td>['Gurgaon Dreamz Mall', 'Dwarka Expressway', \"Colonel's Central Academy\", 'The NorthCap Universi...</td>\n",
       "      <td>1bhk multistorey apartment for resale in signature global solera at sector 107 signature global ...</td>\n",
       "      <td>[Jogging Track, 24/7 Power Backup, Gated Community, Gymnasium, 24/7 Water Supply, Landscape Gard...</td>\n",
       "      <td>V69417148</td>\n",
       "      <td>0.0</td>\n",
       "      <td>4.0</td>\n",
       "      <td>2</td>\n",
       "      <td>2</td>\n",
       "      <td>2</td>\n",
       "      <td>0</td>\n",
       "      <td>1</td>\n",
       "      <td>1</td>\n",
       "      <td>2</td>\n",
       "      <td>0</td>\n",
       "      <td>sector 107</td>\n",
       "      <td>318.0</td>\n",
       "      <td>NaN</td>\n",
       "      <td>NaN</td>\n",
       "      <td>0</td>\n",
       "      <td>0</td>\n",
       "      <td>0</td>\n",
       "      <td>0</td>\n",
       "      <td>0</td>\n",
       "      <td>1</td>\n",
       "    </tr>\n",
       "  </tbody>\n",
       "</table>\n",
       "</div>"
      ],
      "text/plain": [
       "                                                                                                     link  \\\n",
       "2427  2-bhk-bedroom-apartment-flat-for-sale-in-smart-world-gems-sector-89-gurgaon-1103-sq-ft-spid-J692...   \n",
       "377   4-bhk-bedroom-apartment-flat-for-sale-in-indiabulls-centrum-park-sector-103-gurgaon-2875-sq-ft-s...   \n",
       "2681  2-bhk-bedroom-apartment-flat-for-sale-in-smart-world-gems-sector-89-gurgaon-1103-sq-ft-r2-spid-G...   \n",
       "1477      2-bhk-bedroom-apartment-flat-for-sale-in-godrej-101-sector-79-gurgaon-1559-sq-ft-spid-W69483012   \n",
       "2351  1-bhk-bedroom-apartment-flat-for-sale-in-signature-global-solera-sector-107-gurgaon-318-sq-ft-sp...   \n",
       "\n",
       "                      society  price  area  bedRoom  bathroom  balcony  \\\n",
       "2427         Smart World Gems   88.0  1103        2         2        0   \n",
       "377   Indiabulls Centrum Park  245.0  2875        4         6        3   \n",
       "2681         Smart World Gems   86.0  1103        2         3        2   \n",
       "1477               Godrej 101  133.0  1559        2         2        3   \n",
       "2351  Signature Global Solera   25.0   317        1         1        0   \n",
       "\n",
       "          facing   agePossession  \\\n",
       "2427         NaN       undefined   \n",
       "377          NaN  Relatively New   \n",
       "2681  North-East    New Property   \n",
       "1477  North-West  Relatively New   \n",
       "2351         NaN       undefined   \n",
       "\n",
       "                                                                                          nearbyLocations  \\\n",
       "2427  ['Sant Soordas Sihi Metro Station', 'Airia Mall', 'Dwarka Expressway', 'Pataudi Road', 'NH-8', '...   \n",
       "377   ['Gurgaon Dreamz Mall', 'HUDA Market, Sector 14', 'Dwarka Expressway', 'Delhi Gurgaon Expressway...   \n",
       "2681  ['Sant Soordas Sihi Metro Station', 'Airia Mall', 'Dwarka Expressway', 'Pataudi Road', 'NH-8', '...   \n",
       "1477  ['Vatika Town Square-INXT', 'Naurangpur Road', 'NH 48', 'Euro International School', 'Gurugram U...   \n",
       "2351  ['Gurgaon Dreamz Mall', 'Dwarka Expressway', \"Colonel's Central Academy\", 'The NorthCap Universi...   \n",
       "\n",
       "                                                                                              description  \\\n",
       "2427                                    Best in class property available at sector 89 location in gurgaon   \n",
       "377                                     Near upcoimg dwarka maneser express way. Near to dwarka new delhi   \n",
       "2681                                      Park facing, green belt, at very reasonable rate on 4th floor..   \n",
       "1477  Godrej 101 is one of gurgaon's most sought after destination for apartments and this 2 bhk flat ...   \n",
       "2351  1bhk multistorey apartment for resale in signature global solera at sector 107 signature global ...   \n",
       "\n",
       "                                                                                                 features  \\\n",
       "2427  [Swimming Pool, Lounge, Aerobics Centre, Terrace Garden, Piped Gas, Squash Court, Gazebo, Wi-Fi ...   \n",
       "377   [Power Back-up, Lift(s), Swimming Pool, Park, Shopping Centre, Fitness Centre / GYM, Club house ...   \n",
       "2681  [Security / Fire Alarm, Feng Shui / Vaastu Compliant, Intercom Facility, Lift(s), Maintenance St...   \n",
       "1477  [Centrally Air Conditioned, Security / Fire Alarm, Power Back-up, Feng Shui / Vaastu Compliant, ...   \n",
       "2351  [Jogging Track, 24/7 Power Backup, Gated Community, Gymnasium, 24/7 Water Supply, Landscape Gard...   \n",
       "\n",
       "     property_id  nthFloor  totalFloor  Transportation  Education  Healthcare  \\\n",
       "2427   J69238068       2.0         2.0               6          2           1   \n",
       "377    V69714126       5.0        18.0               5          3           1   \n",
       "2681   G66179018       4.0         4.0               6          2           1   \n",
       "1477   W69483012       6.0        15.0               3          2           0   \n",
       "2351   V69417148       0.0         4.0               2          2           2   \n",
       "\n",
       "      Shopping  Dining  Accommodation  Entertainment  Service      sector  \\\n",
       "2427         1       0              1              2        0  sector 089   \n",
       "377          1       0              1              3        0  sector 103   \n",
       "2681         1       0              1              2        0  sector 089   \n",
       "1477         0       0              1              1        0  sector 079   \n",
       "2351         0       1              1              2        0  sector 107   \n",
       "\n",
       "      built_up_area  carpet_area  super_built_up_area  study room  \\\n",
       "2427         1103.0          NaN                  NaN           0   \n",
       "377             NaN          NaN               2875.0           0   \n",
       "2681            NaN       1103.0                  NaN           1   \n",
       "1477            NaN          NaN               1559.0           1   \n",
       "2351          318.0          NaN                  NaN           0   \n",
       "\n",
       "      servant room  store room  pooja room  others  furnish_type  \n",
       "2427             0           0           0       0             1  \n",
       "377              1           0           0       0             1  \n",
       "2681             1           0           1       0             0  \n",
       "1477             0           0           0       0             1  \n",
       "2351             0           0           0       0             1  "
      ]
     },
     "execution_count": 68,
     "metadata": {},
     "output_type": "execute_result"
    }
   ],
   "source": [
    "pd.set_option('display.max_columns', None)\n",
    "df.sample(5)"
   ]
  },
  {
   "cell_type": "markdown",
   "metadata": {},
   "source": [
    "## Export dataset"
   ]
  },
  {
   "cell_type": "code",
   "execution_count": 69,
   "metadata": {},
   "outputs": [],
   "source": [
    "df.to_csv('data/processed/1.0_FEAT_ENG_flats.csv', index=False)"
   ]
  }
 ],
 "metadata": {
  "kernelspec": {
   "display_name": "Python 3",
   "language": "python",
   "name": "python3"
  },
  "language_info": {
   "codemirror_mode": {
    "name": "ipython",
    "version": 3
   },
   "file_extension": ".py",
   "mimetype": "text/x-python",
   "name": "python",
   "nbconvert_exporter": "python",
   "pygments_lexer": "ipython3",
   "version": "3.11.0"
  },
  "orig_nbformat": 4
 },
 "nbformat": 4,
 "nbformat_minor": 2
}
